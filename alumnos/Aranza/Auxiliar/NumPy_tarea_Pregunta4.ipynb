{
 "cells": [
  {
   "cell_type": "markdown",
   "metadata": {},
   "source": [
    "# Ejercicios de NumPy "
   ]
  },
  {
   "cell_type": "code",
   "execution_count": 1,
   "metadata": {
    "scrolled": true
   },
   "outputs": [
    {
     "name": "stdout",
     "output_type": "stream",
     "text": [
      "Populating the interactive namespace from numpy and matplotlib\n"
     ]
    }
   ],
   "source": [
    "%pylab inline\n",
    "import math\n",
    "import numpy as np"
   ]
  },
  {
   "cell_type": "markdown",
   "metadata": {},
   "source": [
    "## Pregunta 4"
   ]
  },
  {
   "cell_type": "markdown",
   "metadata": {},
   "source": [
    "El **Sudoku** es un pasatiempo que consiste en un arreglo  $9 \\times 9$ de celdas, con dígitos del 1 al 9, de tal manera que no se repiten valores en cada columna, cada renglón y en cada subarreglo de $3\\times 3$."
   ]
  },
  {
   "cell_type": "markdown",
   "metadata": {},
   "source": [
    "(a) Crea una función llamada `correcto` que reciba un `array` $1d$ de tamaño 9 e indique si está completo o no (i.e. incluye los números del 1 al 9."
   ]
  },
  {
   "cell_type": "code",
   "execution_count": 41,
   "metadata": {},
   "outputs": [],
   "source": [
    "def correcto(arreglo):\n",
    "    if len(arreglo) == 9:\n",
    "        for i in range(1,10):\n",
    "            if i not in arreglo:\n",
    "                return 'No contiene range(1,10)'\n",
    "        return 'True'\n",
    "    else:\n",
    "        return 'No tiene el tamaño adecuado'"
   ]
  },
  {
   "cell_type": "code",
   "execution_count": 42,
   "metadata": {},
   "outputs": [
    {
     "name": "stdout",
     "output_type": "stream",
     "text": [
      "True\n",
      "No contiene range(1,10)\n",
      "No tiene el tamaño adecuado\n"
     ]
    }
   ],
   "source": [
    "arreglo = np.arange(1,10)\n",
    "arreglo1 = np.arange(3,12)\n",
    "arreglo2 = np.arange(5,100)\n",
    "\n",
    "print(correcto(arreglo))\n",
    "print(correcto(arreglo1))\n",
    "print(correcto(arreglo2))"
   ]
  },
  {
   "cell_type": "markdown",
   "metadata": {},
   "source": [
    "(b) Crea una función llamada `descomponer3x3` que reciba un `array` de enteros de $9\\times 9$ y lo separe en sus 9 subarreglos $3\\times3$."
   ]
  },
  {
   "cell_type": "code",
   "execution_count": 4,
   "metadata": {},
   "outputs": [],
   "source": [
    "def descomponer3x3(arreglo): \n",
    "    desarreglo = np.reshape(arreglo,(9,3,3))\n",
    "    return desarreglo"
   ]
  },
  {
   "cell_type": "markdown",
   "metadata": {},
   "source": [
    "### Programa para hacer listas random de sudoku 9x9"
   ]
  },
  {
   "cell_type": "code",
   "execution_count": 5,
   "metadata": {},
   "outputs": [
    {
     "name": "stdout",
     "output_type": "stream",
     "text": [
      "[[6 8 3 2 4 9 5 7 1]\n",
      " [1 8 4 7 9 3 5 6 2]\n",
      " [5 9 2 7 3 8 1 4 6]\n",
      " [7 5 2 1 9 3 6 8 4]\n",
      " [1 7 9 2 6 3 4 5 8]\n",
      " [8 9 4 3 6 2 5 7 1]\n",
      " [3 1 4 2 6 5 9 8 7]\n",
      " [2 6 4 1 3 7 8 5 9]\n",
      " [6 4 9 7 1 2 3 5 8]]\n"
     ]
    }
   ],
   "source": [
    "# Hacemos un range(0,9) y lo shuffleamos, así 9 veces. Esto terminó siendo más fácil que \n",
    "# crear 9 elementos random entre (0,9) y checar que ninguno estuviera repetido. Y que si sí estaba repetido\n",
    "# que lo sustituyera. Siempre me marcó error.\n",
    "\n",
    "sudok = []\n",
    "for i in range(0,9):\n",
    "    lista = list(range(1,10)) \n",
    "    random.shuffle(lista)\n",
    "    sudok.append(lista)\n",
    "sudoku = array(sudok)\n",
    "\n",
    "print(sudoku)"
   ]
  },
  {
   "cell_type": "code",
   "execution_count": 6,
   "metadata": {},
   "outputs": [
    {
     "data": {
      "text/plain": [
       "array([[[6, 8, 3],\n",
       "        [2, 4, 9],\n",
       "        [5, 7, 1]],\n",
       "\n",
       "       [[1, 8, 4],\n",
       "        [7, 9, 3],\n",
       "        [5, 6, 2]],\n",
       "\n",
       "       [[5, 9, 2],\n",
       "        [7, 3, 8],\n",
       "        [1, 4, 6]],\n",
       "\n",
       "       [[7, 5, 2],\n",
       "        [1, 9, 3],\n",
       "        [6, 8, 4]],\n",
       "\n",
       "       [[1, 7, 9],\n",
       "        [2, 6, 3],\n",
       "        [4, 5, 8]],\n",
       "\n",
       "       [[8, 9, 4],\n",
       "        [3, 6, 2],\n",
       "        [5, 7, 1]],\n",
       "\n",
       "       [[3, 1, 4],\n",
       "        [2, 6, 5],\n",
       "        [9, 8, 7]],\n",
       "\n",
       "       [[2, 6, 4],\n",
       "        [1, 3, 7],\n",
       "        [8, 5, 9]],\n",
       "\n",
       "       [[6, 4, 9],\n",
       "        [7, 1, 2],\n",
       "        [3, 5, 8]]])"
      ]
     },
     "execution_count": 6,
     "metadata": {},
     "output_type": "execute_result"
    }
   ],
   "source": [
    "descomponer3x3(sudoku)"
   ]
  },
  {
   "cell_type": "markdown",
   "metadata": {},
   "source": [
    "(c) Crea la función `esSolucion` que recibe un `array` de $9\\times 9$ y devuelve si es o no solución del sudoku."
   ]
  },
  {
   "cell_type": "markdown",
   "metadata": {},
   "source": [
    "<img src=\"Data/sudoku-principles.png\"/>"
   ]
  },
  {
   "cell_type": "code",
   "execution_count": 43,
   "metadata": {},
   "outputs": [],
   "source": [
    "def esSolucion(sudoku):\n",
    "    \n",
    "    # En estas listas se meterán los valores de las columnas, filas y cuadrados\n",
    "    # después de haber sido evaluados en la función correcto\n",
    "    \n",
    "    f = []    \n",
    "    c = []\n",
    "    cuadros = []\n",
    "    \n",
    "    # En las listas presentadas primero se toman las primeras 3 filas y se meten los primeros 3 elementos a l1.\n",
    "    # Después se toman los elementos de cada elemento de la lista l1 y se meten a l11\n",
    "    # (Esto lo hice ya que, al hacer la lista l1, se guardaban los elemntos como array. \n",
    "    # Fue lo único que se me ocurrió)\n",
    "    # En la lista l11 ya tenemos los elementos tenemos que revisar de cada cuadrante con la función correcto. \n",
    "    # Imprimimos cada fila lii que se checa y el resultado al aplicar a ese elemento la función correcto.\n",
    "    # Como en la imagen, tenemos que checar que en el cuadrante (R1,R3) x (C1,C3) la función correcto\n",
    "\n",
    "    print('\\n')    \n",
    "    print('Cuadrantes')\n",
    "    print('\\n')\n",
    "    \n",
    "\n",
    "    l1 = []\n",
    "    l11 = []\n",
    "\n",
    "    for i in range(0,3):\n",
    "        l1.append(sudoku[i][0:3])\n",
    "    for k in range(0,3):\n",
    "        for j in l1:\n",
    "            l11.append(j[k])\n",
    "    \n",
    "    cuadros.append(correcto(l11))\n",
    "    print(l11) \n",
    "    print(correcto(l11))\n",
    "        \n",
    "    \n",
    "    l2 = []\n",
    "    l22 = []\n",
    "\n",
    "    for i in range(0,3):\n",
    "        l2.append(sudoku[i][3:6])\n",
    "    for k in range(0,3):\n",
    "        for j in l2:\n",
    "            l22.append(j[k])\n",
    "\n",
    "    cuadros.append(correcto(l22))\n",
    "    print(l22)     \n",
    "    print(correcto(l22))\n",
    "    \n",
    "    l3 = []\n",
    "    l33 = []\n",
    "\n",
    "    for i in range(0,3):\n",
    "        l3.append(sudoku[i][6:])\n",
    "    for k in range(0,3):\n",
    "        for j in l3:\n",
    "            l33.append(j[k])\n",
    "\n",
    "    cuadros.append(correcto(l33))\n",
    "    print(l33)  \n",
    "    print(correcto(l33))\n",
    "    \n",
    "    #Ahora se toman del renglón 3 al 6\n",
    "    \n",
    "    l4 = []\n",
    "    l44 = []\n",
    "\n",
    "    for i in range(3,6):\n",
    "        l4.append(sudoku[i][0:3])\n",
    "    for k in range(0,3):\n",
    "        for j in l4:\n",
    "            l44.append(j[k])\n",
    "\n",
    "    cuadros.append(correcto(l44))\n",
    "    print(l44)   \n",
    "    print(correcto(l44))\n",
    "\n",
    "    l5 = []\n",
    "    l55 = []\n",
    "\n",
    "    for i in range(3,6):\n",
    "        l5.append(sudoku[i][3:6])\n",
    "    for k in range(0,3):\n",
    "        for j in l5:\n",
    "            l55.append(j[k])\n",
    "\n",
    "    cuadros.append(correcto(l55))\n",
    "    print(l55)   \n",
    "    print(correcto(l55))\n",
    "    \n",
    "    l6 = []\n",
    "    l66 = []\n",
    "\n",
    "    for i in range(3,6):\n",
    "        l6.append(sudoku[i][6:])\n",
    "    for k in range(0,3):\n",
    "        for j in l6:\n",
    "            l66.append(j[k])\n",
    "    \n",
    "    cuadros.append(correcto(l66))\n",
    "    print(l66) \n",
    "    print(correcto(l66))\n",
    "\n",
    "       #Ahora se toman del renglón 7 al 9\n",
    "    \n",
    "    l7 = []\n",
    "    l77 = []\n",
    "\n",
    "    for i in range(6,9):\n",
    "        l7.append(sudoku[i][0:3])\n",
    "    for k in range(0,3):\n",
    "        for j in l7:\n",
    "            l77.append(j[k])\n",
    "\n",
    "    cuadros.append(correcto(l77))\n",
    "    print(l77) \n",
    "    print(correcto(l77))\n",
    "\n",
    "    l8 = []\n",
    "    l88 = []\n",
    "\n",
    "    for i in range(6,9):\n",
    "        l8.append(sudoku[i][3:6])\n",
    "    for k in range(0,3):\n",
    "        for j in l8:\n",
    "            l88.append(j[k])\n",
    "\n",
    "    cuadros.append(correcto(l88))\n",
    "    print(l88)\n",
    "    print(correcto(l88))\n",
    "\n",
    "    l9 = []\n",
    "    l99 = []\n",
    "\n",
    "    for i in range(6,9):\n",
    "        l9.append(sudoku[i][6:])\n",
    "    for k in range(0,3):\n",
    "        for j in l9:\n",
    "            l99.append(j[k])\n",
    "\n",
    "    cuadros.append(correcto(l99))\n",
    "    print(l99)   \n",
    "    print(correcto(l99))\n",
    "    \n",
    "    # Checamos ahora que cada fila del sudoku cumpla con la función correcto \n",
    "    \n",
    "    print('\\n')    \n",
    "    print('Filas')\n",
    "    print('\\n')\n",
    "    \n",
    "    for i in sudoku:\n",
    "        print(i)\n",
    "        print(correcto(i))\n",
    "        f.append(correcto(i))\n",
    "        \n",
    "        # Metemos el resultado de correcto en la lista de las filas\n",
    "        # Imprimimos cada fila que se checa y el resultado de correcto\n",
    "            \n",
    "    print('\\n')\n",
    "    print('Columnas')\n",
    "    print('\\n')\n",
    "    \n",
    "    # Checamos que toda columna en la lista 'sudoku' cumpla la función correcto\n",
    "    \n",
    "    for i in range(9):\n",
    "        print((sudoku[:,i]))\n",
    "        print(correcto(sudoku[:,i]))\n",
    "        c.append(correcto(sudoku[:,i]))\n",
    "\n",
    "    # Metemos el resultado de correcto en la lista de las columnas\n",
    "    # Imprimimos cada columna que se checa y el resultado de correcto\n",
    "\n",
    "    zipped = list(zip(cuadros, c, f))\n",
    "    \n",
    "    #Hacemos un zip, ya que bastará que una de las entradas sea distinta a 'True' para que no sea solución\n",
    "    \n",
    "    print('\\n')\n",
    "\n",
    "    ultimatum = [(i,j,k) for (i,j,k) in zipped if (i,j,k) != ('True', 'True', 'True')]\n",
    "    check = []\n",
    "    \n",
    "    if ultimatum == check:\n",
    "        return 'Es solución'\n",
    "    else: \n",
    "        return 'No es solución'\n",
    "        "
   ]
  },
  {
   "cell_type": "code",
   "execution_count": 44,
   "metadata": {},
   "outputs": [
    {
     "name": "stdout",
     "output_type": "stream",
     "text": [
      "\n",
      "\n",
      "Cuadrantes\n",
      "\n",
      "\n",
      "[6, 1, 5, 8, 8, 9, 3, 4, 2]\n",
      "No contiene range(1,10)\n",
      "[2, 7, 7, 4, 9, 3, 9, 3, 8]\n",
      "No contiene range(1,10)\n",
      "[5, 5, 1, 7, 6, 4, 1, 2, 6]\n",
      "No contiene range(1,10)\n",
      "[7, 1, 8, 5, 7, 9, 2, 9, 4]\n",
      "No contiene range(1,10)\n",
      "[1, 2, 3, 9, 6, 6, 3, 3, 2]\n",
      "No contiene range(1,10)\n",
      "[6, 4, 5, 8, 5, 7, 4, 8, 1]\n",
      "No contiene range(1,10)\n",
      "[3, 2, 6, 1, 6, 4, 4, 4, 9]\n",
      "No contiene range(1,10)\n",
      "[2, 1, 7, 6, 3, 1, 5, 7, 2]\n",
      "No contiene range(1,10)\n",
      "[9, 8, 3, 8, 5, 5, 7, 9, 8]\n",
      "No contiene range(1,10)\n",
      "\n",
      "\n",
      "Filas\n",
      "\n",
      "\n",
      "[6 8 3 2 4 9 5 7 1]\n",
      "True\n",
      "[1 8 4 7 9 3 5 6 2]\n",
      "True\n",
      "[5 9 2 7 3 8 1 4 6]\n",
      "True\n",
      "[7 5 2 1 9 3 6 8 4]\n",
      "True\n",
      "[1 7 9 2 6 3 4 5 8]\n",
      "True\n",
      "[8 9 4 3 6 2 5 7 1]\n",
      "True\n",
      "[3 1 4 2 6 5 9 8 7]\n",
      "True\n",
      "[2 6 4 1 3 7 8 5 9]\n",
      "True\n",
      "[6 4 9 7 1 2 3 5 8]\n",
      "True\n",
      "\n",
      "\n",
      "Columnas\n",
      "\n",
      "\n",
      "[6 1 5 7 1 8 3 2 6]\n",
      "No contiene range(1,10)\n",
      "[8 8 9 5 7 9 1 6 4]\n",
      "No contiene range(1,10)\n",
      "[3 4 2 2 9 4 4 4 9]\n",
      "No contiene range(1,10)\n",
      "[2 7 7 1 2 3 2 1 7]\n",
      "No contiene range(1,10)\n",
      "[4 9 3 9 6 6 6 3 1]\n",
      "No contiene range(1,10)\n",
      "[9 3 8 3 3 2 5 7 2]\n",
      "No contiene range(1,10)\n",
      "[5 5 1 6 4 5 9 8 3]\n",
      "No contiene range(1,10)\n",
      "[7 6 4 8 5 7 8 5 5]\n",
      "No contiene range(1,10)\n",
      "[1 2 6 4 8 1 7 9 8]\n",
      "No contiene range(1,10)\n",
      "\n",
      "\n"
     ]
    },
    {
     "data": {
      "text/plain": [
       "'No es solución'"
      ]
     },
     "execution_count": 44,
     "metadata": {},
     "output_type": "execute_result"
    }
   ],
   "source": [
    "esSolucion(sudoku)"
   ]
  },
  {
   "cell_type": "code",
   "execution_count": 45,
   "metadata": {},
   "outputs": [],
   "source": [
    "# Otro que no es solución, sí tiene correctas las columnas, pero no están bien los cuadrantes\n",
    "sudoku1 = array([[1,2,3,4,5,6,7,8,9],\n",
    "               [2,3,4,5,6,7,8,9,1],\n",
    "               [3,4,5,6,7,8,9,1,2],\n",
    "               [4,5,6,7,8,9,1,2,3],\n",
    "               [5,6,7,8,9,1,2,3,4],\n",
    "               [6,7,8,9,1,2,3,4,5],\n",
    "               [7,8,9,1,2,3,4,5,6],\n",
    "               [8,9,1,2,3,4,5,6,7],\n",
    "               [9,1,2,3,4,5,6,7,8]])"
   ]
  },
  {
   "cell_type": "code",
   "execution_count": 46,
   "metadata": {},
   "outputs": [
    {
     "name": "stdout",
     "output_type": "stream",
     "text": [
      "\n",
      "\n",
      "Cuadrantes\n",
      "\n",
      "\n",
      "[1, 2, 3, 2, 3, 4, 3, 4, 5]\n",
      "No contiene range(1,10)\n",
      "[4, 5, 6, 5, 6, 7, 6, 7, 8]\n",
      "No contiene range(1,10)\n",
      "[7, 8, 9, 8, 9, 1, 9, 1, 2]\n",
      "No contiene range(1,10)\n",
      "[4, 5, 6, 5, 6, 7, 6, 7, 8]\n",
      "No contiene range(1,10)\n",
      "[7, 8, 9, 8, 9, 1, 9, 1, 2]\n",
      "No contiene range(1,10)\n",
      "[1, 2, 3, 2, 3, 4, 3, 4, 5]\n",
      "No contiene range(1,10)\n",
      "[7, 8, 9, 8, 9, 1, 9, 1, 2]\n",
      "No contiene range(1,10)\n",
      "[1, 2, 3, 2, 3, 4, 3, 4, 5]\n",
      "No contiene range(1,10)\n",
      "[4, 5, 6, 5, 6, 7, 6, 7, 8]\n",
      "No contiene range(1,10)\n",
      "\n",
      "\n",
      "Filas\n",
      "\n",
      "\n",
      "[1 2 3 4 5 6 7 8 9]\n",
      "True\n",
      "[2 3 4 5 6 7 8 9 1]\n",
      "True\n",
      "[3 4 5 6 7 8 9 1 2]\n",
      "True\n",
      "[4 5 6 7 8 9 1 2 3]\n",
      "True\n",
      "[5 6 7 8 9 1 2 3 4]\n",
      "True\n",
      "[6 7 8 9 1 2 3 4 5]\n",
      "True\n",
      "[7 8 9 1 2 3 4 5 6]\n",
      "True\n",
      "[8 9 1 2 3 4 5 6 7]\n",
      "True\n",
      "[9 1 2 3 4 5 6 7 8]\n",
      "True\n",
      "\n",
      "\n",
      "Columnas\n",
      "\n",
      "\n",
      "[1 2 3 4 5 6 7 8 9]\n",
      "True\n",
      "[2 3 4 5 6 7 8 9 1]\n",
      "True\n",
      "[3 4 5 6 7 8 9 1 2]\n",
      "True\n",
      "[4 5 6 7 8 9 1 2 3]\n",
      "True\n",
      "[5 6 7 8 9 1 2 3 4]\n",
      "True\n",
      "[6 7 8 9 1 2 3 4 5]\n",
      "True\n",
      "[7 8 9 1 2 3 4 5 6]\n",
      "True\n",
      "[8 9 1 2 3 4 5 6 7]\n",
      "True\n",
      "[9 1 2 3 4 5 6 7 8]\n",
      "True\n",
      "\n",
      "\n"
     ]
    },
    {
     "data": {
      "text/plain": [
       "'No es solución'"
      ]
     },
     "execution_count": 46,
     "metadata": {},
     "output_type": "execute_result"
    }
   ],
   "source": [
    "esSolucion(sudoku1)"
   ]
  },
  {
   "cell_type": "code",
   "execution_count": 47,
   "metadata": {},
   "outputs": [],
   "source": [
    "# Este sí es solución\n",
    "sudoku2 = array([[1, 4, 5, 3, 2, 7, 6, 9, 8],\n",
    "                [8, 3, 9, 6, 5, 4, 1, 2, 7],\n",
    "                [6, 7, 2, 9, 1, 8, 5, 4, 3],\n",
    "                [4, 9, 6, 1, 8, 5, 3, 7, 2],\n",
    "                [2, 1, 8, 4, 7, 3, 9, 5, 6],\n",
    "                [7, 5, 3, 2, 9, 6, 4, 8, 1],\n",
    "                [3, 6, 7, 5, 4, 2, 8, 1, 9],\n",
    "                [9, 8, 4, 7, 6, 1, 2, 3, 5],\n",
    "                [5, 2, 1, 8, 3, 9, 7, 6, 4]])"
   ]
  },
  {
   "cell_type": "code",
   "execution_count": 48,
   "metadata": {},
   "outputs": [
    {
     "name": "stdout",
     "output_type": "stream",
     "text": [
      "\n",
      "\n",
      "Cuadrantes\n",
      "\n",
      "\n",
      "[1, 8, 6, 4, 3, 7, 5, 9, 2]\n",
      "True\n",
      "[3, 6, 9, 2, 5, 1, 7, 4, 8]\n",
      "True\n",
      "[6, 1, 5, 9, 2, 4, 8, 7, 3]\n",
      "True\n",
      "[4, 2, 7, 9, 1, 5, 6, 8, 3]\n",
      "True\n",
      "[1, 4, 2, 8, 7, 9, 5, 3, 6]\n",
      "True\n",
      "[3, 9, 4, 7, 5, 8, 2, 6, 1]\n",
      "True\n",
      "[3, 9, 5, 6, 8, 2, 7, 4, 1]\n",
      "True\n",
      "[5, 7, 8, 4, 6, 3, 2, 1, 9]\n",
      "True\n",
      "[8, 2, 7, 1, 3, 6, 9, 5, 4]\n",
      "True\n",
      "\n",
      "\n",
      "Filas\n",
      "\n",
      "\n",
      "[1 4 5 3 2 7 6 9 8]\n",
      "True\n",
      "[8 3 9 6 5 4 1 2 7]\n",
      "True\n",
      "[6 7 2 9 1 8 5 4 3]\n",
      "True\n",
      "[4 9 6 1 8 5 3 7 2]\n",
      "True\n",
      "[2 1 8 4 7 3 9 5 6]\n",
      "True\n",
      "[7 5 3 2 9 6 4 8 1]\n",
      "True\n",
      "[3 6 7 5 4 2 8 1 9]\n",
      "True\n",
      "[9 8 4 7 6 1 2 3 5]\n",
      "True\n",
      "[5 2 1 8 3 9 7 6 4]\n",
      "True\n",
      "\n",
      "\n",
      "Columnas\n",
      "\n",
      "\n",
      "[1 8 6 4 2 7 3 9 5]\n",
      "True\n",
      "[4 3 7 9 1 5 6 8 2]\n",
      "True\n",
      "[5 9 2 6 8 3 7 4 1]\n",
      "True\n",
      "[3 6 9 1 4 2 5 7 8]\n",
      "True\n",
      "[2 5 1 8 7 9 4 6 3]\n",
      "True\n",
      "[7 4 8 5 3 6 2 1 9]\n",
      "True\n",
      "[6 1 5 3 9 4 8 2 7]\n",
      "True\n",
      "[9 2 4 7 5 8 1 3 6]\n",
      "True\n",
      "[8 7 3 2 6 1 9 5 4]\n",
      "True\n",
      "\n",
      "\n"
     ]
    },
    {
     "data": {
      "text/plain": [
       "'Es solución'"
      ]
     },
     "execution_count": 48,
     "metadata": {},
     "output_type": "execute_result"
    }
   ],
   "source": [
    "esSolucion(sudoku2)"
   ]
  },
  {
   "cell_type": "code",
   "execution_count": null,
   "metadata": {},
   "outputs": [],
   "source": []
  }
 ],
 "metadata": {
  "kernelspec": {
   "display_name": "Python 3",
   "language": "python",
   "name": "python3"
  },
  "language_info": {
   "codemirror_mode": {
    "name": "ipython",
    "version": 3
   },
   "file_extension": ".py",
   "mimetype": "text/x-python",
   "name": "python",
   "nbconvert_exporter": "python",
   "pygments_lexer": "ipython3",
   "version": "3.8.5"
  }
 },
 "nbformat": 4,
 "nbformat_minor": 4
}
