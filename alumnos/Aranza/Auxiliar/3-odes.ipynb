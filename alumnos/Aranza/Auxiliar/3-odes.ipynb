{
 "cells": [
  {
   "cell_type": "code",
   "execution_count": 16,
   "metadata": {},
   "outputs": [],
   "source": [
    "import numpy as np\n",
    "import matplotlib.pyplot as plt"
   ]
  },
  {
   "cell_type": "code",
   "execution_count": 17,
   "metadata": {},
   "outputs": [
    {
     "name": "stdout",
     "output_type": "stream",
     "text": [
      "The autoreload extension is already loaded. To reload it, use:\n",
      "  %reload_ext autoreload\n"
     ]
    }
   ],
   "source": [
    "# El código siguiente recarga (reloads) las rutinas externas cada vez que el código cambia (es útil para \"debuggear\" código externo)\n",
    "\n",
    "%load_ext autoreload\n",
    "%autoreload 2"
   ]
  },
  {
   "cell_type": "markdown",
   "metadata": {},
   "source": [
    "## Método de Euler"
   ]
  },
  {
   "cell_type": "markdown",
   "metadata": {},
   "source": [
    "Si nos permitimos un poco de _sloppiness_, podemos hacer lo siguiente:\n",
    "\n",
    "$$\n",
    "a \\equiv\\frac{dv}{dt}\n",
    "$$\n",
    "\n",
    "$$\n",
    "dv = a dt\n",
    "$$\n",
    "\n",
    "Y reconociendo que tenemos números flotantes con precisión finita:\n",
    "\n",
    "$$\n",
    "\\Delta v = a \\Delta t\n",
    "$$\n",
    "\n",
    "Conociendo la posición inicial $x_i$ y el cambio $\\delta x$ podemos estimar la nueva velocidad:\n",
    "\n",
    "$$\n",
    "v = v_i + a \\Delta t\n",
    "$$\n",
    "\n",
    "Entonces, haciendo recursivos los _pasos_\n",
    "\n",
    "$$\n",
    "v_{i+1} = v_i + \\frac{d}{dt}[v] \\Delta t\n",
    "$$\n",
    "\n",
    "Y podemos hacer lo mismo para la posición:\n",
    "\n",
    "$$\n",
    "x_{i+1} = x_i + \\frac{d}{dt}[x] \\Delta t\n",
    "$$\n",
    "\n",
    "Una representación en imagen del método, se muestra a continuación:"
   ]
  },
  {
   "cell_type": "markdown",
   "metadata": {},
   "source": [
    "<img src=\"images/euler_method.png\">"
   ]
  },
  {
   "cell_type": "markdown",
   "metadata": {},
   "source": [
    "<div class=\"alert alert-warning pull-right\">\n",
    "Imagen de Wikipedia\n",
    "</div>"
   ]
  },
  {
   "cell_type": "markdown",
   "metadata": {},
   "source": [
    "Como se puede apreciar en la figura, la aproximación con el _método de Euler_ va empeorando conforme aumentamos los pasos. Para combatir este error, se pueden disminuir el tamaño del paso, pero como veremos más adelante, esto tiene sus limitaciones."
   ]
  },
  {
   "cell_type": "markdown",
   "metadata": {},
   "source": [
    "## Ejemplo: Caída libre"
   ]
  },
  {
   "cell_type": "markdown",
   "metadata": {},
   "source": [
    "La ecuación de movimiento en caída libre es:\n",
    "\n",
    "$$\n",
    "\\ddot{x} = -g\n",
    "$$\n",
    "\n",
    "donde $g$ es la constante de gravedad."
   ]
  },
  {
   "cell_type": "markdown",
   "metadata": {},
   "source": [
    "El método de Euler sólo funciona con ecuaciones diferenciales de primer orden, pero podemos hacer el siguiente truco:\n",
    "\n",
    "$$ \n",
    "\\dot{x} = v\n",
    "$$\n",
    "$$\n",
    "\\dot{v} = -g\n",
    "$$\n",
    "\n",
    "Por lo que ahora nuestro sistema está descrito por dos ecuaciones lineales acopladas de primer orden."
   ]
  },
  {
   "cell_type": "markdown",
   "metadata": {},
   "source": [
    "El método de Euler nos dice que la solución de estas ecuaciones es:\n",
    "\n",
    "$$\n",
    "x_{i+1} = x_i + \\dot{x} \\Delta t\n",
    "$$\n",
    "\n",
    "$$ \n",
    "v_{i+1} = v_i + \\dot{v} \\Delta t\n",
    "$$"
   ]
  },
  {
   "cell_type": "markdown",
   "metadata": {},
   "source": [
    "El cual se puede escribir como\n",
    "\n",
    "$$\n",
    "y_{i+1} = y_i + \\dot{y} \\Delta t\n",
    "$$\n",
    "\n",
    "donde \n",
    "\n",
    "$$\n",
    "y = \n",
    "\\begin{bmatrix}\n",
    "x \\\\\n",
    "v\n",
    "\\end{bmatrix}\n",
    "$$\n",
    "\n",
    "y\n",
    "\n",
    "$$\n",
    "\\dot{y} = \n",
    "\\begin{bmatrix}\n",
    "v \\\\\n",
    "-g\n",
    "\\end{bmatrix}\n",
    "$$\n"
   ]
  },
  {
   "cell_type": "markdown",
   "metadata": {},
   "source": [
    "En python definimos una función para representar este sistema"
   ]
  },
  {
   "cell_type": "code",
   "execution_count": 18,
   "metadata": {},
   "outputs": [],
   "source": [
    "def caida_libre(estado, sistema):\n",
    "    g0 = estado[1]\n",
    "    g1 = -9.8\n",
    "    \n",
    "    return np.array([g0, g1])\n",
    "\n",
    "# g0 y g1 son la nueva derivada g0 = v y g1 = -g\n",
    "# Estado son las condiciones iniciales i.e. y punto"
   ]
  },
  {
   "cell_type": "code",
   "execution_count": 19,
   "metadata": {},
   "outputs": [],
   "source": [
    "def euler(y, t, dt, derivadas):\n",
    "    y_next = y + derivadas(y, t)*dt\n",
    "    return y_next\n",
    "\n",
    "#Ecuacion diferencial\n",
    "#Caida libre son las derivadas"
   ]
  },
  {
   "cell_type": "code",
   "execution_count": 20,
   "metadata": {},
   "outputs": [],
   "source": [
    "N = 1000 # número de pasos, mientras más, más exacta. \n",
    "\n",
    "x0 = 0.0  # posición inicial\n",
    "\n",
    "v0 = 0.0  # velocidad inicial\n",
    "\n",
    "g = -9.8 # aceleración de la gravedad en la tierra\n",
    "\n",
    "tau = 3.0 # tiempo de la simulación\n",
    " \n",
    "dt = tau/(float)(N-1)  # tamaño del paso"
   ]
  },
  {
   "cell_type": "code",
   "execution_count": 21,
   "metadata": {},
   "outputs": [],
   "source": [
    "time = np.linspace(0, tau, N)"
   ]
  },
  {
   "cell_type": "code",
   "execution_count": 22,
   "metadata": {},
   "outputs": [],
   "source": [
    "y = np.zeros([N,2])\n",
    "\n",
    "y[0,0] = x0\n",
    "y[0,1] = v0"
   ]
  },
  {
   "cell_type": "code",
   "execution_count": 23,
   "metadata": {},
   "outputs": [],
   "source": [
    "for j in range(N-1):\n",
    "    y[j+1] = euler(y[j], time[j], dt, caida_libre)"
   ]
  },
  {
   "cell_type": "code",
   "execution_count": 24,
   "metadata": {},
   "outputs": [
    {
     "data": {
      "text/plain": [
       "array([[ 0.00000000e+00,  0.00000000e+00],\n",
       "       [ 0.00000000e+00, -2.94294294e-02],\n",
       "       [-8.83766650e-05, -5.88588589e-02],\n",
       "       ...,\n",
       "       [-4.38795444e+01, -2.93411411e+01],\n",
       "       [-4.39676559e+01, -2.93705706e+01],\n",
       "       [-4.40558559e+01, -2.94000000e+01]])"
      ]
     },
     "execution_count": 24,
     "metadata": {},
     "output_type": "execute_result"
    }
   ],
   "source": [
    "y"
   ]
  },
  {
   "cell_type": "code",
   "execution_count": 25,
   "metadata": {},
   "outputs": [
    {
     "data": {
      "text/plain": [
       "<matplotlib.legend.Legend at 0x7f8477864100>"
      ]
     },
     "execution_count": 25,
     "metadata": {},
     "output_type": "execute_result"
    },
    {
     "data": {
      "image/png": "[encoded data removed]",
      "text/plain": [
       "<Figure size 432x288 with 1 Axes>"
      ]
     },
     "metadata": {
      "needs_background": "light"
     },
     "output_type": "display_data"
    }
   ],
   "source": [
    "# Descargamos en cada variable la información de la x y la y \n",
    "xdata = [y[j,0] for j in range(N)]\n",
    "vdata = [y[j,1] for j in range(N)]\n",
    "\n",
    "plt.plot(time, xdata, label=\"pos\")\n",
    "plt.plot(time, vdata, label=\"vel\")\n",
    "plt.xlabel(\"tiempo\")\n",
    "plt.ylabel(\"posicion, velocidad\")\n",
    "plt.legend(loc=\"best\")"
   ]
  },
  {
   "cell_type": "code",
   "execution_count": 26,
   "metadata": {},
   "outputs": [
    {
     "data": {
      "text/plain": [
       "[0.0,\n",
       " 0.0,\n",
       " -8.837666495324154e-05,\n",
       " -0.0002651299948597246,\n",
       " -0.0005302599897194492,\n",
       " -0.0008837666495324154,\n",
       " -0.001325649974298623,\n",
       " -0.0018559099640180722,\n",
       " -0.002474546618690763,\n",
       " -0.003181559938316695,\n",
       " -0.0039769499228958696,\n",
       " -0.004860716572428285,\n",
       " -0.005832859886913942,\n",
       " -0.00689337986635284,\n",
       " -0.00804227651074498,\n",
       " -0.009279549820090362,\n",
       " -0.010605199794388984,\n",
       " -0.01201922643364085,\n",
       " -0.013521629737845956,\n",
       " -0.015112409707004304,\n",
       " -0.016791566341115893,\n",
       " -0.018559099640180723,\n",
       " -0.020415009604198796,\n",
       " -0.02235929623317011,\n",
       " -0.024391959527094664,\n",
       " -0.02651299948597246,\n",
       " -0.028722416109803497,\n",
       " -0.031020209398587777,\n",
       " -0.0334063793523253,\n",
       " -0.03588092597101606,\n",
       " -0.038443849254660066,\n",
       " -0.04109514920325731,\n",
       " -0.043834825816807796,\n",
       " -0.04666287909531153,\n",
       " -0.0495793090387685,\n",
       " -0.05258411564717871,\n",
       " -0.055677298920542156,\n",
       " -0.05885885885885885,\n",
       " -0.06212879546212879,\n",
       " -0.06548710873035196,\n",
       " -0.06893379866352838,\n",
       " -0.07246886526165804,\n",
       " -0.07609230852474094,\n",
       " -0.07980412845277708,\n",
       " -0.08360432504576647,\n",
       " -0.0874928983037091,\n",
       " -0.09146984822660496,\n",
       " -0.09553517481445407,\n",
       " -0.09968887806725643,\n",
       " -0.10393095798501202,\n",
       " -0.10826141456772086,\n",
       " -0.11268024781538294,\n",
       " -0.11718745772799825,\n",
       " -0.12178304430556681,\n",
       " -0.12646700754808862,\n",
       " -0.13123934745556368,\n",
       " -0.13610006402799196,\n",
       " -0.14104915726537348,\n",
       " -0.14608662716770826,\n",
       " -0.15121247373499627,\n",
       " -0.15642669696723752,\n",
       " -0.16172929686443202,\n",
       " -0.16712027342657976,\n",
       " -0.17259962665368073,\n",
       " -0.17816735654573496,\n",
       " -0.18382346310274242,\n",
       " -0.1895679463247031,\n",
       " -0.19540080621161707,\n",
       " -0.20132204276348425,\n",
       " -0.20733165598030467,\n",
       " -0.21342964586207835,\n",
       " -0.21961601240880527,\n",
       " -0.2258907556204854,\n",
       " -0.23225387549711882,\n",
       " -0.23870537203870545,\n",
       " -0.24524524524524532,\n",
       " -0.25187349511673846,\n",
       " -0.2585901216531848,\n",
       " -0.2653951248545844,\n",
       " -0.27228850472093724,\n",
       " -0.2792702612522433,\n",
       " -0.2863403944485026,\n",
       " -0.2934989043097152,\n",
       " -0.300745790835881,\n",
       " -0.30808105402700003,\n",
       " -0.31550469388307234,\n",
       " -0.32301671040409785,\n",
       " -0.3306171035900766,\n",
       " -0.33830587344100865,\n",
       " -0.3460830199568939,\n",
       " -0.3539485431377324,\n",
       " -0.36190244298352414,\n",
       " -0.3699447194942691,\n",
       " -0.3780753726699673,\n",
       " -0.3862944025106188,\n",
       " -0.3946018090162235,\n",
       " -0.40299759218678144,\n",
       " -0.41148175202229265,\n",
       " -0.42005428852275706,\n",
       " -0.42871520168817473,\n",
       " -0.4374644915185456,\n",
       " -0.44630215801386974,\n",
       " -0.45522820117414714,\n",
       " -0.46424262099937774,\n",
       " -0.4733454174895616,\n",
       " -0.4825365906446987,\n",
       " -0.49181614046478905,\n",
       " -0.5011840669498326,\n",
       " -0.5106403700998294,\n",
       " -0.5201850499147795,\n",
       " -0.5298181063946829,\n",
       " -0.5395395395395394,\n",
       " -0.5493493493493492,\n",
       " -0.5592475358241122,\n",
       " -0.5692340989638285,\n",
       " -0.579309038768498,\n",
       " -0.5894723552381208,\n",
       " -0.5997240483726968,\n",
       " -0.610064118172226,\n",
       " -0.6204925646367085,\n",
       " -0.6310093877661442,\n",
       " -0.6416145875605332,\n",
       " -0.6523081640198755,\n",
       " -0.6630901171441709,\n",
       " -0.6739604469334196,\n",
       " -0.6849191533876215,\n",
       " -0.6959662365067767,\n",
       " -0.7071016962908852,\n",
       " -0.7183255327399468,\n",
       " -0.7296377458539617,\n",
       " -0.7410383356329299,\n",
       " -0.7525273020768513,\n",
       " -0.7641046451857259,\n",
       " -0.7757703649595538,\n",
       " -0.7875244613983349,\n",
       " -0.7993669345020692,\n",
       " -0.8112977842707568,\n",
       " -0.8233170107043977,\n",
       " -0.8354246138029917,\n",
       " -0.8476205935665391,\n",
       " -0.8599049499950396,\n",
       " -0.8722776830884934,\n",
       " -0.8847387928469004,\n",
       " -0.8972882792702607,\n",
       " -0.9099261423585742,\n",
       " -0.9226523821118409,\n",
       " -0.9354669985300609,\n",
       " -0.9483699916132341,\n",
       " -0.9613613613613605,\n",
       " -0.9744411077744403,\n",
       " -0.9876092308524732,\n",
       " -1.0008657305954594,\n",
       " -1.0142106070033987,\n",
       " -1.0276438600762914,\n",
       " -1.0411654898141374,\n",
       " -1.0547754962169364,\n",
       " -1.0684738792846888,\n",
       " -1.0822606390173946,\n",
       " -1.0961357754150534,\n",
       " -1.1100992884776655,\n",
       " -1.124151178205231,\n",
       " -1.1382914445977494,\n",
       " -1.1525200876552213,\n",
       " -1.1668371073776465,\n",
       " -1.1812425037650247,\n",
       " -1.1957362768173563,\n",
       " -1.2103184265346412,\n",
       " -1.2249889529168791,\n",
       " -1.2397478559640704,\n",
       " -1.254595135676215,\n",
       " -1.2695307920533128,\n",
       " -1.2845548250953638,\n",
       " -1.2996672348023681,\n",
       " -1.3148680211743256,\n",
       " -1.3301571842112363,\n",
       " -1.3455347239131004,\n",
       " -1.3610006402799175,\n",
       " -1.376554933311688,\n",
       " -1.3921976030084118,\n",
       " -1.4079286493700887,\n",
       " -1.4237480723967189,\n",
       " -1.4396558720883024,\n",
       " -1.455652048444839,\n",
       " -1.471736601466329,\n",
       " -1.4879095311527721,\n",
       " -1.5041708375041685,\n",
       " -1.5205205205205181,\n",
       " -1.536958580201821,\n",
       " -1.5534850165480771,\n",
       " -1.5700998295592865,\n",
       " -1.5868030192354492,\n",
       " -1.603594585576565,\n",
       " -1.620474528582634,\n",
       " -1.6374428482536565,\n",
       " -1.654499544589632,\n",
       " -1.6716446175905608,\n",
       " -1.688878067256443,\n",
       " -1.7061998935872782,\n",
       " -1.7236100965830667,\n",
       " -1.7411086762438086,\n",
       " -1.7586956325695036,\n",
       " -1.7763709655601518,\n",
       " -1.7941346752157534,\n",
       " -1.811986761536308,\n",
       " -1.829927224521816,\n",
       " -1.8479560641722774,\n",
       " -1.8660732804876918,\n",
       " -1.8842788734680596,\n",
       " -1.9025728431133806,\n",
       " -1.9209551894236547,\n",
       " -1.9394259123988822,\n",
       " -1.957985012039063,\n",
       " -1.9766324883441968,\n",
       " -1.995368341314284,\n",
       " -2.0141925709493242,\n",
       " -2.033105177249318,\n",
       " -2.0521061602142647,\n",
       " -2.071195519844165,\n",
       " -2.0903732561390185,\n",
       " -2.109639369098825,\n",
       " -2.1289938587235846,\n",
       " -2.1484367250132976,\n",
       " -2.167967967967964,\n",
       " -2.1875875875875836,\n",
       " -2.2072955838721566,\n",
       " -2.2270919568216825,\n",
       " -2.2469767064361617,\n",
       " -2.266949832715594,\n",
       " -2.28701133565998,\n",
       " -2.307161215269319,\n",
       " -2.3273994715436115,\n",
       " -2.347726104482857,\n",
       " -2.3681411140870554,\n",
       " -2.3886445003562073,\n",
       " -2.4092362632903126,\n",
       " -2.429916402889371,\n",
       " -2.450684919153383,\n",
       " -2.471541812082348,\n",
       " -2.492487081676266,\n",
       " -2.5135207279351373,\n",
       " -2.534642750858962,\n",
       " -2.55585315044774,\n",
       " -2.5771519267014713,\n",
       " -2.5985390796201555,\n",
       " -2.620014609203793,\n",
       " -2.641578515452384,\n",
       " -2.663230798365928,\n",
       " -2.6849714579444255,\n",
       " -2.7068004941878763,\n",
       " -2.72871790709628,\n",
       " -2.750723696669637,\n",
       " -2.772817862907947,\n",
       " -2.795000405811211,\n",
       " -2.8172713253794277,\n",
       " -2.839630621612598,\n",
       " -2.862078294510721,\n",
       " -2.8846143440737975,\n",
       " -2.907238770301827,\n",
       " -2.9299515731948103,\n",
       " -2.9527527527527466,\n",
       " -2.9756423089756363,\n",
       " -2.998620241863479,\n",
       " -3.0216865514162747,\n",
       " -3.044841237634024,\n",
       " -3.0680843005167264,\n",
       " -3.0914157400643822,\n",
       " -3.1148355562769914,\n",
       " -3.1383437491545534,\n",
       " -3.1619403186970687,\n",
       " -3.1856252649045373,\n",
       " -3.2093985877769593,\n",
       " -3.2332602873143346,\n",
       " -3.257210363516663,\n",
       " -3.2812488163839446,\n",
       " -3.3053756459161794,\n",
       " -3.3295908521133675,\n",
       " -3.353894434975509,\n",
       " -3.3782863945026036,\n",
       " -3.402766730694651,\n",
       " -3.427335443551652,\n",
       " -3.4519925330736063,\n",
       " -3.476737999260514,\n",
       " -3.5015718421123747,\n",
       " -3.526494061629189,\n",
       " -3.551504657810956,\n",
       " -3.5766036306576763,\n",
       " -3.60179098016935,\n",
       " -3.627066706345977,\n",
       " -3.6524308091875572,\n",
       " -3.677883288694091,\n",
       " -3.7034241448655774,\n",
       " -3.729053377702017,\n",
       " -3.7547709872034103,\n",
       " -3.7805769733697567,\n",
       " -3.8064713362010565,\n",
       " -3.8324540756973096,\n",
       " -3.8585251918585155,\n",
       " -3.8846846846846748,\n",
       " -3.9109325541757873,\n",
       " -3.9372688003318532,\n",
       " -3.9636934231528724,\n",
       " -3.990206422638845,\n",
       " -4.01680779878977,\n",
       " -4.0434975516056495,\n",
       " -4.070275681086482,\n",
       " -4.097142187232267,\n",
       " -4.124097070043005,\n",
       " -4.151140329518697,\n",
       " -4.1782719656593414,\n",
       " -4.20549197846494,\n",
       " -4.232800367935491,\n",
       " -4.260197134070996,\n",
       " -4.287682276871454,\n",
       " -4.315255796336865,\n",
       " -4.34291769246723,\n",
       " -4.370667965262548,\n",
       " -4.39850661472282,\n",
       " -4.426433640848043,\n",
       " -4.4544490436382205,\n",
       " -4.482552823093351,\n",
       " -4.510744979213435,\n",
       " -4.539025511998472,\n",
       " -4.567394421448462,\n",
       " -4.595851707563406,\n",
       " -4.624397370343303,\n",
       " -4.653031409788153,\n",
       " -4.681753825897957,\n",
       " -4.710564618672714,\n",
       " -4.739463788112424,\n",
       " -4.768451334217087,\n",
       " -4.797527256986703,\n",
       " -4.826691556421272,\n",
       " -4.855944232520795,\n",
       " -4.885285285285271,\n",
       " -4.9147147147147,\n",
       " -4.9442325208090825,\n",
       " -4.973838703568418,\n",
       " -5.003533262992708,\n",
       " -5.03331619908195,\n",
       " -5.063187511836146,\n",
       " -5.093147201255295,\n",
       " -5.123195267339397,\n",
       " -5.153331710088452,\n",
       " -5.18355652950246,\n",
       " -5.2138697255814215,\n",
       " -5.244271298325336,\n",
       " -5.2747612477342045,\n",
       " -5.305339573808026,\n",
       " -5.336006276546801,\n",
       " -5.366761355950529,\n",
       " -5.39760481201921,\n",
       " -5.428536644752845,\n",
       " -5.459556854151433,\n",
       " -5.490665440214974,\n",
       " -5.5218624029434675,\n",
       " -5.553147742336915,\n",
       " -5.584521458395315,\n",
       " -5.615983551118669,\n",
       " -5.647534020506976,\n",
       " -5.679172866560236,\n",
       " -5.71090008927845,\n",
       " -5.742715688661617,\n",
       " -5.774619664709737,\n",
       " -5.806612017422811,\n",
       " -5.838692746800838,\n",
       " -5.8708618528438175,\n",
       " -5.90311933555175,\n",
       " -5.935465194924636,\n",
       " -5.9678994309624755,\n",
       " -6.000422043665268,\n",
       " -6.033033033033014,\n",
       " -6.0657323990657135,\n",
       " -6.098520141763366,\n",
       " -6.131396261125972,\n",
       " -6.164360757153531,\n",
       " -6.197413629846044,\n",
       " -6.23055487920351,\n",
       " -6.263784505225928,\n",
       " -6.2971025079133,\n",
       " -6.3305088872656246,\n",
       " -6.364003643282903,\n",
       " -6.397586775965134,\n",
       " -6.431258285312319,\n",
       " -6.465018171324457,\n",
       " -6.498866434001549,\n",
       " -6.532803073343594,\n",
       " -6.566828089350592,\n",
       " -6.600941482022543,\n",
       " -6.635143251359448,\n",
       " -6.669433397361305,\n",
       " -6.703811920028116,\n",
       " -6.73827881935988,\n",
       " -6.772834095356597,\n",
       " -6.807477748018267,\n",
       " -6.842209777344891,\n",
       " -6.877030183336468,\n",
       " -6.911938965992999,\n",
       " -6.946936125314482,\n",
       " -6.982021661300919,\n",
       " -7.01719557395231,\n",
       " -7.0524578632686525,\n",
       " -7.087808529249949,\n",
       " -7.123247571896198,\n",
       " -7.158774991207401,\n",
       " -7.194390787183557,\n",
       " -7.230094959824666,\n",
       " -7.265887509130729,\n",
       " -7.301768435101745,\n",
       " -7.337737737737714,\n",
       " -7.373795417038637,\n",
       " -7.409941473004513,\n",
       " -7.446175905635342,\n",
       " -7.482498714931124,\n",
       " -7.518909900891859,\n",
       " -7.555409463517547,\n",
       " -7.591997402808189,\n",
       " -7.628673718763784,\n",
       " -7.665438411384332,\n",
       " -7.7022914806698335,\n",
       " -7.739232926620288,\n",
       " -7.776262749235697,\n",
       " -7.813380948516058,\n",
       " -7.850587524461373,\n",
       " -7.887882477071641,\n",
       " -7.925265806346862,\n",
       " -7.962737512287036,\n",
       " -8.000297594892164,\n",
       " -8.037946054162244,\n",
       " -8.075682890097278,\n",
       " -8.113508102697265,\n",
       " -8.151421691962206,\n",
       " -8.1894236578921,\n",
       " -8.227514000486947,\n",
       " -8.265692719746747,\n",
       " -8.3039598156715,\n",
       " -8.342315288261208,\n",
       " -8.380759137515868,\n",
       " -8.419291363435482,\n",
       " -8.457911966020049,\n",
       " -8.49662094526957,\n",
       " -8.535418301184043,\n",
       " -8.57430403376347,\n",
       " -8.613278143007848,\n",
       " -8.65234062891718,\n",
       " -8.691491491491465,\n",
       " -8.730730730730704,\n",
       " -8.770058346634896,\n",
       " -8.80947433920404,\n",
       " -8.848978708438139,\n",
       " -8.88857145433719,\n",
       " -8.928252576901196,\n",
       " -8.968022076130154,\n",
       " -9.007879952024066,\n",
       " -9.04782620458293,\n",
       " -9.087860833806749,\n",
       " -9.12798383969552,\n",
       " -9.168195222249246,\n",
       " -9.208494981467924,\n",
       " -9.248883117351555,\n",
       " -9.28935962990014,\n",
       " -9.329924519113678,\n",
       " -9.37057778499217,\n",
       " -9.411319427535615,\n",
       " -9.452149446744013,\n",
       " -9.493067842617364,\n",
       " -9.534074615155669,\n",
       " -9.575169764358925,\n",
       " -9.616353290227135,\n",
       " -9.657625192760298,\n",
       " -9.698985471958414,\n",
       " -9.740434127821484,\n",
       " -9.781971160349507,\n",
       " -9.823596569542483,\n",
       " -9.865310355400412,\n",
       " -9.907112517923295,\n",
       " -9.949003057111131,\n",
       " -9.99098197296392,\n",
       " -10.033049265481663,\n",
       " -10.07520493466436,\n",
       " -10.117448980512009,\n",
       " -10.159781403024612,\n",
       " -10.202202202202168,\n",
       " -10.244711378044677,\n",
       " -10.28730893055214,\n",
       " -10.329994859724556,\n",
       " -10.372769165561925,\n",
       " -10.415631848064248,\n",
       " -10.458582907231524,\n",
       " -10.501622343063753,\n",
       " -10.544750155560935,\n",
       " -10.58796634472307,\n",
       " -10.631270910550157,\n",
       " -10.674663853042198,\n",
       " -10.718145172199192,\n",
       " -10.761714868021139,\n",
       " -10.80537294050804,\n",
       " -10.849119389659894,\n",
       " -10.892954215476701,\n",
       " -10.936877417958462,\n",
       " -10.980888997105176,\n",
       " -11.024988952916843,\n",
       " -11.069177285393463,\n",
       " -11.113453994535037,\n",
       " -11.157819080341564,\n",
       " -11.202272542813045,\n",
       " -11.246814381949479,\n",
       " -11.291444597750866,\n",
       " -11.336163190217206,\n",
       " -11.3809701593485,\n",
       " -11.425865505144747,\n",
       " -11.470849227605948,\n",
       " -11.515921326732101,\n",
       " -11.561081802523208,\n",
       " -11.606330654979267,\n",
       " -11.651667884100279,\n",
       " -11.697093489886244,\n",
       " -11.742607472337163,\n",
       " -11.788209831453035,\n",
       " -11.83390056723386,\n",
       " -11.879679679679638,\n",
       " -11.92554716879037,\n",
       " -11.971503034566055,\n",
       " -12.017547277006694,\n",
       " -12.063679896112285,\n",
       " -12.10990089188283,\n",
       " -12.156210264318329,\n",
       " -12.20260801341878,\n",
       " -12.249094139184185,\n",
       " -12.295668641614544,\n",
       " -12.342331520709855,\n",
       " -12.38908277647012,\n",
       " -12.435922408895339,\n",
       " -12.48285041798551,\n",
       " -12.529866803740635,\n",
       " -12.576971566160713,\n",
       " -12.624164705245745,\n",
       " -12.67144622099573,\n",
       " -12.718816113410666,\n",
       " -12.766274382490556,\n",
       " -12.813821028235399,\n",
       " -12.861456050645195,\n",
       " -12.909179449719945,\n",
       " -12.956991225459648,\n",
       " -13.004891377864304,\n",
       " -13.052879906933914,\n",
       " -13.100956812668477,\n",
       " -13.149122095067993,\n",
       " -13.197375754132462,\n",
       " -13.245717789861885,\n",
       " -13.294148202256261,\n",
       " -13.34266699131559,\n",
       " -13.391274157039874,\n",
       " -13.43996969942911,\n",
       " -13.4887536184833,\n",
       " -13.537625914202442,\n",
       " -13.586586586586538,\n",
       " -13.635635635635587,\n",
       " -13.68477306134959,\n",
       " -13.733998863728546,\n",
       " -13.783313042772456,\n",
       " -13.832715598481318,\n",
       " -13.882206530855134,\n",
       " -13.931785839893902,\n",
       " -13.981453525597622,\n",
       " -14.031209587966297,\n",
       " -14.081054026999924,\n",
       " -14.130986842698505,\n",
       " -14.181008035062039,\n",
       " -14.231117604090526,\n",
       " -14.281315549783967,\n",
       " -14.331601872142361,\n",
       " -14.381976571165708,\n",
       " -14.432439646854009,\n",
       " -14.482991099207263,\n",
       " -14.53363092822547,\n",
       " -14.584359133908631,\n",
       " -14.635175716256745,\n",
       " -14.686080675269812,\n",
       " -14.737074010947833,\n",
       " -14.788155723290807,\n",
       " -14.839325812298734,\n",
       " -14.890584277971614,\n",
       " -14.941931120309448,\n",
       " -14.993366339312235,\n",
       " -15.044889934979976,\n",
       " -15.09650190731267,\n",
       " -15.148202256310316,\n",
       " -15.199990981972917,\n",
       " -15.251868084300469,\n",
       " -15.303833563292974,\n",
       " -15.355887418950433,\n",
       " -15.408029651272845,\n",
       " -15.46026026026021,\n",
       " -15.512579245912528,\n",
       " -15.5649866082298,\n",
       " -15.617482347212025,\n",
       " -15.670066462859204,\n",
       " -15.722738955171335,\n",
       " -15.77549982414842,\n",
       " -15.828349069790459,\n",
       " -15.88128669209745,\n",
       " -15.934312691069396,\n",
       " -15.987427066706294,\n",
       " -16.040629819008146,\n",
       " -16.09392094797495,\n",
       " -16.147300453606707,\n",
       " -16.20076833590342,\n",
       " -16.254324594865082,\n",
       " -16.3079692304917,\n",
       " -16.36170224278327,\n",
       " -16.415523631739795,\n",
       " -16.46943339736127,\n",
       " -16.523431539647703,\n",
       " -16.577518058599086,\n",
       " -16.631692954215424,\n",
       " -16.685956226496714,\n",
       " -16.74030787544296,\n",
       " -16.794747901054155,\n",
       " -16.849276303330306,\n",
       " -16.90389308227141,\n",
       " -16.958598237877467,\n",
       " -17.013391770148477,\n",
       " -17.06827367908444,\n",
       " -17.123243964685358,\n",
       " -17.17830262695123,\n",
       " -17.233449665882052,\n",
       " -17.288685081477826,\n",
       " -17.344008873738556,\n",
       " -17.399421042664237,\n",
       " -17.454921588254873,\n",
       " -17.51051051051046,\n",
       " -17.566187809431003,\n",
       " -17.621953485016498,\n",
       " -17.677807537266947,\n",
       " -17.733749966182348,\n",
       " -17.789780771762704,\n",
       " -17.84589995400801,\n",
       " -17.902107512918274,\n",
       " -17.95840344849349,\n",
       " -18.014787760733658,\n",
       " -18.07126044963878,\n",
       " -18.127821515208854,\n",
       " -18.18447095744388,\n",
       " -18.241208776343864,\n",
       " -18.2980349719088,\n",
       " -18.354949544138687,\n",
       " -18.411952493033528,\n",
       " -18.469043818593324,\n",
       " -18.52622352081807,\n",
       " -18.583491599707774,\n",
       " -18.640848055262428,\n",
       " -18.698292887482037,\n",
       " -18.755826096366597,\n",
       " -18.81344768191611,\n",
       " -18.871157644130577,\n",
       " -18.928955983009995,\n",
       " -18.98684269855437,\n",
       " -19.044817790763695,\n",
       " -19.102881259637975,\n",
       " -19.161033105177207,\n",
       " -19.219273327381394,\n",
       " -19.277601926250533,\n",
       " -19.336018901784627,\n",
       " -19.394524253983672,\n",
       " -19.453117982847672,\n",
       " -19.511800088376624,\n",
       " -19.57057057057053,\n",
       " -19.62942942942939,\n",
       " -19.688376664953203,\n",
       " -19.74741227714197,\n",
       " -19.80653626599569,\n",
       " -19.86574863151436,\n",
       " -19.925049373697988,\n",
       " -19.984438492546566,\n",
       " -20.0439159880601,\n",
       " -20.103481860238585,\n",
       " -20.163136109082025,\n",
       " -20.222878734590417,\n",
       " -20.28270973676376,\n",
       " -20.342629115602058,\n",
       " -20.402636871105308,\n",
       " -20.462733003273513,\n",
       " -20.52291751210667,\n",
       " -20.58319039760478,\n",
       " -20.643551659767844,\n",
       " -20.704001298595863,\n",
       " -20.764539314088832,\n",
       " -20.825165706246757,\n",
       " -20.885880475069634,\n",
       " -20.946683620557465,\n",
       " -21.007575142710248,\n",
       " -21.068555041527986,\n",
       " -21.129623317010676,\n",
       " -21.19077996915832,\n",
       " -21.252024997970917,\n",
       " -21.31335840344847,\n",
       " -21.37478018559097,\n",
       " -21.43629034439843,\n",
       " -21.49788887987084,\n",
       " -21.559575792008204,\n",
       " -21.62135108081052,\n",
       " -21.68321474627779,\n",
       " -21.745166788410014,\n",
       " -21.80720720720719,\n",
       " -21.869336002669318,\n",
       " -21.9315531747964,\n",
       " -21.993858723588435,\n",
       " -22.056252649045422,\n",
       " -22.118734951167365,\n",
       " -22.18130562995426,\n",
       " -22.24396468540611,\n",
       " -22.30671211752291,\n",
       " -22.369547926304666,\n",
       " -22.432472111751373,\n",
       " -22.495484673863036,\n",
       " -22.55858561263965,\n",
       " -22.62177492808122,\n",
       " -22.68505262018774,\n",
       " -22.748418688959216,\n",
       " -22.811873134395643,\n",
       " -22.875415956497026,\n",
       " -22.93904715526336,\n",
       " -23.00276673069465,\n",
       " -23.06657468279089,\n",
       " -23.130471011552086,\n",
       " -23.194455716978233,\n",
       " -23.258528799069335,\n",
       " -23.32269025782539,\n",
       " -23.386940093246398,\n",
       " -23.45127830533236,\n",
       " -23.51570489408327,\n",
       " -23.580219859499138,\n",
       " -23.644823201579957,\n",
       " -23.70951492032573,\n",
       " -23.774295015736456,\n",
       " -23.839163487812137,\n",
       " -23.90412033655277,\n",
       " -23.969165561958356,\n",
       " -24.034299164028894,\n",
       " -24.099521142764388,\n",
       " -24.164831498164833,\n",
       " -24.230230230230234,\n",
       " -24.295717338960586,\n",
       " -24.361292824355893,\n",
       " -24.42695668641615,\n",
       " -24.492708925141365,\n",
       " -24.55854954053153,\n",
       " -24.62447853258665,\n",
       " -24.690495901306722,\n",
       " -24.75660164669175,\n",
       " -24.822795768741727,\n",
       " -24.88907826745666,\n",
       " -24.955449142836546,\n",
       " -25.021908394881386,\n",
       " -25.088456023591178,\n",
       " -25.15509202896592,\n",
       " -25.22181641100562,\n",
       " -25.28862916971027,\n",
       " -25.355530305079874,\n",
       " -25.42251981711443,\n",
       " -25.489597705813942,\n",
       " -25.556763971178405,\n",
       " -25.624018613207824,\n",
       " -25.691361631902193,\n",
       " -25.758793027261518,\n",
       " -25.826312799285795,\n",
       " -25.893920947975026,\n",
       " -25.96161747332921,\n",
       " -26.029402375348347,\n",
       " -26.097275654032437,\n",
       " -26.16523730938148,\n",
       " -26.233287341395478,\n",
       " -26.30142575007443,\n",
       " -26.369652535418332,\n",
       " -26.43796769742719,\n",
       " -26.506371236101,\n",
       " -26.574863151439764,\n",
       " -26.64344344344348,\n",
       " -26.712112112112152,\n",
       " -26.780869157445775,\n",
       " -26.84971457944435,\n",
       " -26.91864837810788,\n",
       " -26.98767055343636,\n",
       " -27.056781105429796,\n",
       " -27.125980034088183,\n",
       " -27.195267339411526,\n",
       " -27.26464302139982,\n",
       " -27.33410708005307,\n",
       " -27.40365951537127,\n",
       " -27.473300327354426,\n",
       " -27.543029516002534,\n",
       " -27.612847081315596,\n",
       " -27.68275302329361,\n",
       " -27.75274734193658,\n",
       " -27.8228300372445,\n",
       " -27.893001109217376,\n",
       " -27.963260557855204,\n",
       " -28.033608383157986,\n",
       " -28.10404458512572,\n",
       " -28.17456916375841,\n",
       " -28.24518211905605,\n",
       " -28.315883451018646,\n",
       " -28.386673159646193,\n",
       " -28.457551244938696,\n",
       " -28.52851770689615,\n",
       " -28.599572545518555,\n",
       " -28.670715760805916,\n",
       " -28.741947352758228,\n",
       " -28.813267321375495,\n",
       " -28.884675666657714,\n",
       " -28.956172388604887,\n",
       " -29.027757487217013,\n",
       " -29.099430962494093,\n",
       " -29.171192814436125,\n",
       " -29.243043043043112,\n",
       " -29.31498164831505,\n",
       " -29.387008630251945,\n",
       " -29.45912398885379,\n",
       " -29.53132772412059,\n",
       " -29.603619836052342,\n",
       " -29.67600032464905,\n",
       " -29.748469189910708,\n",
       " -29.82102643183732,\n",
       " -29.893672050428886,\n",
       " -29.966406045685407,\n",
       " -30.03922841760688,\n",
       " -30.112139166193305,\n",
       " -30.185138291444684,\n",
       " -30.258225793361017,\n",
       " -30.331401671942302,\n",
       " -30.404665927188542,\n",
       " -30.478018559099734,\n",
       " -30.551459567675877,\n",
       " -30.624988952916976,\n",
       " -30.698606714823025,\n",
       " -30.77231285339403,\n",
       " -30.846107368629987,\n",
       " -30.9199902605309,\n",
       " -30.99396152909676,\n",
       " -31.06802117432758,\n",
       " -31.14216919622335,\n",
       " -31.216405594784074,\n",
       " -31.29073037000975,\n",
       " -31.365143521900382,\n",
       " -31.439645050455965,\n",
       " -31.514234955676503,\n",
       " -31.588913237561993,\n",
       " -31.663679896112438,\n",
       " -31.738534931327834,\n",
       " -31.813478343208185,\n",
       " -31.88851013175349,\n",
       " -31.963630296963746,\n",
       " -32.038838838838956,\n",
       " -32.11413575737912,\n",
       " -32.18952105258423,\n",
       " -32.264994724454304,\n",
       " -32.34055677298933,\n",
       " -32.416207198189305,\n",
       " -32.491946000054234,\n",
       " -32.56777317858412,\n",
       " -32.64368873377895,\n",
       " -32.71969266563874,\n",
       " -32.79578497416348,\n",
       " -32.87196565935318,\n",
       " -32.948234721207825,\n",
       " -33.024592159727426,\n",
       " -33.10103797491198,\n",
       " -33.17757216676149,\n",
       " -33.25419473527595,\n",
       " -33.330905680455366,\n",
       " -33.407705002299735,\n",
       " -33.48459270080906,\n",
       " -33.56156877598333,\n",
       " -33.63863322782256,\n",
       " -33.71578605632674,\n",
       " -33.79302726149588,\n",
       " -33.870356843329965,\n",
       " -33.947774801829006,\n",
       " -34.025281136993,\n",
       " -34.10287584882195,\n",
       " -34.18055893731585,\n",
       " -34.258330402474705,\n",
       " -34.336190244298514,\n",
       " -34.41413846278727,\n",
       " -34.49217505794098,\n",
       " -34.57030002975965,\n",
       " -34.64851337824327,\n",
       " -34.72681510339184,\n",
       " -34.80520520520537,\n",
       " -34.88368368368385,\n",
       " -34.962250538827284,\n",
       " -35.04090577063567,\n",
       " -35.119649379109006,\n",
       " -35.1984813642473,\n",
       " -35.27740172605055,\n",
       " -35.356410464518746,\n",
       " -35.4355075796519,\n",
       " -35.514693071450004,\n",
       " -35.59396693991307,\n",
       " -35.67332918504108,\n",
       " -35.75277980683404,\n",
       " -35.83231880529196,\n",
       " -35.91194618041484,\n",
       " -35.99166193220266,\n",
       " -36.07146606065544,\n",
       " -36.15135856577317,\n",
       " -36.23133944755586,\n",
       " -36.3114087060035,\n",
       " -36.39156634111609,\n",
       " -36.471812352893636,\n",
       " -36.55214674133613,\n",
       " -36.63256950644358,\n",
       " -36.713080648215985,\n",
       " -36.793680166653346,\n",
       " -36.87436806175565,\n",
       " -36.95514433352292,\n",
       " -37.036008981955135,\n",
       " -37.11696200705231,\n",
       " -37.19800340881443,\n",
       " -37.279133187241506,\n",
       " -37.36035134233354,\n",
       " -37.441657874090524,\n",
       " -37.52305278251246,\n",
       " -37.60453606759935,\n",
       " -37.68610772935119,\n",
       " -37.76776776776799,\n",
       " -37.84951618284974,\n",
       " -37.93135297459644,\n",
       " -38.0132781430081,\n",
       " -38.095291688084714,\n",
       " -38.177393609826275,\n",
       " -38.25958390823279,\n",
       " -38.34186258330426,\n",
       " -38.42422963504069,\n",
       " -38.50668506344206,\n",
       " -38.58922886850839,\n",
       " -38.67186105023968,\n",
       " -38.75458160863591,\n",
       " -38.8373905436971,\n",
       " -38.92028785542324,\n",
       " -39.00327354381434,\n",
       " -39.08634760887038,\n",
       " -39.169510050591384,\n",
       " -39.25276086897734,\n",
       " -39.33610006402825,\n",
       " -39.41952763574411,\n",
       " -39.503043584124924,\n",
       " -39.58664790917069,\n",
       " -39.67034061088142,\n",
       " -39.75412168925709,\n",
       " -39.83799114429772,\n",
       " -39.9219489760033,\n",
       " -40.00599518437384,\n",
       " -40.09012976940932,\n",
       " -40.174352731109764,\n",
       " -40.25866406947516,\n",
       " -40.34306378450551,\n",
       " -40.42755187620081,\n",
       " -40.51212834456106,\n",
       " -40.59679318958627,\n",
       " -40.68154641127643,\n",
       " -40.76638800963154,\n",
       " -40.85131798465161,\n",
       " -40.93633633633663,\n",
       " -41.0214430646866,\n",
       " -41.106638169701526,\n",
       " -41.191921651381406,\n",
       " -41.27729350972624,\n",
       " -41.362753744736025,\n",
       " -41.448302356410764,\n",
       " -41.53393934475046,\n",
       " -41.61966470975511,\n",
       " -41.7054784514247,\n",
       " -41.791380569759255,\n",
       " -41.87737106475876,\n",
       " -41.963449936423224,\n",
       " -42.049617184752634,\n",
       " -42.135872809747,\n",
       " -42.22221681140632,\n",
       " -42.308649189730595,\n",
       " -42.39516994471982,\n",
       " -42.481779076373996,\n",
       " -42.56847658469313,\n",
       " -42.65526246967722,\n",
       " -42.742136731326255,\n",
       " -42.82909936964025,\n",
       " -42.91615038461919,\n",
       " -43.00328977626309,\n",
       " -43.09051754457194,\n",
       " -43.17783368954574,\n",
       " -43.2652382111845,\n",
       " -43.35273110948821,\n",
       " -43.440312384456874,\n",
       " -43.52798203609049,\n",
       " -43.615740064389065,\n",
       " -43.70358646935259,\n",
       " -43.79152125098106,\n",
       " -43.879544409274494,\n",
       " -43.96765594423288,\n",
       " -44.055855855856215]"
      ]
     },
     "execution_count": 26,
     "metadata": {},
     "output_type": "execute_result"
    }
   ],
   "source": [
    "xdata"
   ]
  },
  {
   "cell_type": "markdown",
   "metadata": {},
   "source": [
    "En el caso de la caída libre, es posible obtener una solución exacta:\n",
    "\n",
    "$$\n",
    "x(t) = x_i + v_i t + \\frac{1}{2}g t^2\n",
    "$$\n",
    "$$\n",
    "v(t) = v_i + gt\n",
    "$$"
   ]
  },
  {
   "cell_type": "code",
   "execution_count": 27,
   "metadata": {},
   "outputs": [
    {
     "data": {
      "text/plain": [
       "<matplotlib.legend.Legend at 0x7f84777811f0>"
      ]
     },
     "execution_count": 27,
     "metadata": {},
     "output_type": "execute_result"
    },
    {
     "data": {
      "image/png": "[encoded data removed]",
      "text/plain": [
       "<Figure size 432x288 with 1 Axes>"
      ]
     },
     "metadata": {
      "needs_background": "light"
     },
     "output_type": "display_data"
    }
   ],
   "source": [
    "xt = lambda x_i, v_i, a, t: x_i + v_i*a + 0.5*a*t**2\n",
    "vt = lambda v_i, a, t: v_i + a*t\n",
    "\n",
    "plt.plot(time, xt(x0, v0, g, time), label=\"pos exacta\")\n",
    "plt.plot(time, vt(v0, g, time), label=\"vel exacta\")\n",
    "plt.plot(time, xdata, label=\"pos\")\n",
    "plt.plot(time, vdata, label=\"vel\")\n",
    "plt.legend(loc=\"best\")"
   ]
  },
  {
   "cell_type": "markdown",
   "metadata": {},
   "source": [
    "Al parecer en este caso no hay error (_perceptible_) en la diferenciación."
   ]
  },
  {
   "cell_type": "markdown",
   "metadata": {},
   "source": [
    "## Ejemplo: Péndulo simple"
   ]
  },
  {
   "cell_type": "markdown",
   "metadata": {},
   "source": [
    "La ecuación de movimiento del péndulo es la siguiente:\n",
    "\n",
    "$$\n",
    "\\frac{d^2\\theta}{dt^2} = -\\frac{g}{l}\\sin\\theta\n",
    "$$\n",
    "\n",
    "donde $\\theta$ es el ángulo medido desde la vertical, $g$ es la aceleración debida a la gravedad y $l$ es la longitud del péndulo."
   ]
  },
  {
   "cell_type": "markdown",
   "metadata": {},
   "source": [
    "Esta ecuación es **no lineal** y la revisitaremos cuando veamos caos. "
   ]
  },
  {
   "cell_type": "markdown",
   "metadata": {},
   "source": [
    "Es posible linearizarla para el caso cuando $\\theta$ es pequeño, en este caso $\\sin\\theta \\approx \\theta$\n",
    "\n",
    "$$\n",
    "\\frac{d^2\\theta}{dt^2} \\approx -\\frac{g}{l}\\theta\n",
    "$$"
   ]
  },
  {
   "cell_type": "markdown",
   "metadata": {},
   "source": [
    "Esta ecuación de segundo orden se puede transformar en un sistema de ecuaciones de primer orden haciendo:\n",
    "\n",
    "$$\n",
    "\\dot\\theta = \\omega\n",
    "$$\n",
    "\n",
    "$$\n",
    "\\dot\\omega = - \\frac{g}{l}\\theta\n",
    "$$"
   ]
  },
  {
   "cell_type": "markdown",
   "metadata": {},
   "source": [
    "Una cantidad importante es la frecuencia\n",
    "\n",
    "$$\n",
    "\\Omega = \\sqrt\\frac{g}{l}\n",
    "$$\n",
    "\n",
    "y su inverso el periodo\n",
    "\n",
    "$$\n",
    "T = \\frac{2\\pi}{\\Omega}\n",
    "$$"
   ]
  },
  {
   "cell_type": "markdown",
   "metadata": {},
   "source": [
    "La energía total exacta $E$ del péndulo es:\n",
    "\n",
    "$$\n",
    "E = \\frac{1}{2} m l^2 \\omega^2 + m g l (1-\\cos\\theta)\n",
    "$$\n",
    "\n",
    "y en nuestra aproximación $\\cos \\theta \\approx 1 - \\theta^2/2$, entonces\n",
    "\n",
    "$$\n",
    "E \\approx \\frac{1}{2}ml^2\\left ( \\omega^2 + \\frac{g}{l}\\theta^2\\right )\n",
    "$$"
   ]
  },
  {
   "cell_type": "markdown",
   "metadata": {},
   "source": [
    "Estamos definiendo la energía para poder evaluar el error de nuestro método de resolución de ecuaciones diferenciales."
   ]
  },
  {
   "cell_type": "markdown",
   "metadata": {},
   "source": [
    "La ecuación del péndulo, en nuestra aproximación, tiene una solución analítica:\n",
    "\n",
    "$$\n",
    "\\theta(t) = \\theta_i\\cos(\\Omega t) + \\frac{\\omega_i}{\\Omega} \\sin(\\Omega t)\n",
    "$$"
   ]
  },
  {
   "cell_type": "code",
   "execution_count": 28,
   "metadata": {},
   "outputs": [],
   "source": [
    "masa = 1.0 # En kilogramos\n",
    "longitud = 1.0 # En metros\n",
    "g = 9.8 # m/s^2\n",
    "\n",
    "Omega = np.sqrt(g/longitud)\n",
    "periodo = 2*np.pi/Omega"
   ]
  },
  {
   "cell_type": "code",
   "execution_count": 29,
   "metadata": {},
   "outputs": [],
   "source": [
    "def energia_pendulo(theta, omega, m = masa, g = g, l = longitud):\n",
    "    return 0.5*m*l**2 * (omega**2 + (g/l)*theta**2)"
   ]
  },
  {
   "cell_type": "markdown",
   "metadata": {},
   "source": [
    "<div class=\"alert alert-info\">\n",
    "**Ejercicio:** Define una función `pendulo_analitico` que calcule en función del tiempo la posición del péndulo\n",
    "</div>\n",
    "<div class=\"alert alert-info\">\n",
    "**Ejercicio:** Grafica la solución analítica, con condiciones $\\theta_i = 0.2$ y $\\omega_i = 0$.\n",
    "</div>"
   ]
  },
  {
   "cell_type": "code",
   "execution_count": 30,
   "metadata": {},
   "outputs": [],
   "source": [
    "def pendulo_lineal(estado, tiempo, g=g, l=longitud):\n",
    "    g0 = estado[1]\n",
    "    g1 = -g/l*estado[0]\n",
    "    return np.array([g0, g1])"
   ]
  },
  {
   "cell_type": "code",
   "execution_count": 31,
   "metadata": {},
   "outputs": [],
   "source": [
    "#t es lo unico que va a variar\n",
    "#Es la solucion analitica\n",
    "def pendulo_analitico(t, theta, omega, Omega):\n",
    "    return theta*np.cos(Omega*t) + (omega/Omega)*np.sin(Omega*t)"
   ]
  },
  {
   "cell_type": "code",
   "execution_count": 32,
   "metadata": {},
   "outputs": [
    {
     "data": {
      "image/png": "[encoded data removed]",
      "text/plain": [
       "<Figure size 432x288 with 1 Axes>"
      ]
     },
     "metadata": {
      "needs_background": "light"
     },
     "output_type": "display_data"
    }
   ],
   "source": [
    "tau = 5*periodo\n",
    "\n",
    "N = 100\n",
    "dt = tau/(float)(N-1) \n",
    "tiempo = np.linspace(0, tau, num=N)\n",
    "y = np.zeros([N,2])\n",
    "\n",
    "plt.plot(tiempo, pendulo_analitico(tiempo, .2, 0, Omega));"
   ]
  },
  {
   "cell_type": "code",
   "execution_count": 33,
   "metadata": {},
   "outputs": [],
   "source": [
    "y[0,0] = 0.2\n",
    "y[0,1] = 0.0"
   ]
  },
  {
   "cell_type": "code",
   "execution_count": 34,
   "metadata": {},
   "outputs": [],
   "source": [
    "def pendulo_lineal_euler(y, tiempo, dt):\n",
    "\n",
    "    for j in range(N-1):\n",
    "        y[j+1] = euler(y[j], tiempo[j], dt, pendulo_lineal)\n",
    "\n",
    "        \n",
    "    theta = np.array([y[j,0] for j in range(N)])\n",
    "    omega = np.array([y[j,1] for j in range(N)])\n",
    "    \n",
    "    return theta, omega"
   ]
  },
  {
   "cell_type": "code",
   "execution_count": 35,
   "metadata": {},
   "outputs": [],
   "source": [
    "theta_euler, omega_euler = pendulo_lineal_euler(y, tiempo, dt)"
   ]
  },
  {
   "cell_type": "code",
   "execution_count": 36,
   "metadata": {},
   "outputs": [
    {
     "data": {
      "text/plain": [
       "<matplotlib.legend.Legend at 0x7f8477704f40>"
      ]
     },
     "execution_count": 36,
     "metadata": {},
     "output_type": "execute_result"
    },
    {
     "data": {
      "image/png": "[encoded data removed]",
      "text/plain": [
       "<Figure size 576x432 with 1 Axes>"
      ]
     },
     "metadata": {
      "needs_background": "light"
     },
     "output_type": "display_data"
    }
   ],
   "source": [
    "plt.figure(1, figsize=(8,6))\n",
    "plt.plot(tiempo, theta_euler, label=\"theta\")\n",
    "plt.plot(tiempo, omega_euler, label=\"omega\")\n",
    "plt.plot(tiempo, pendulo_analitico(tiempo, .2, 0, Omega), label=\"true\")\n",
    "plt.xlabel(r\"t (s)\")\n",
    "plt.ylabel(r\"theta (rads),$\\quad\\omega$\")\n",
    "plt.legend(loc=\"best\")"
   ]
  },
  {
   "cell_type": "markdown",
   "metadata": {},
   "source": [
    "<div class=\"alert alert-info\">\n",
    "**Ejercicio:** Agrega en esta gráfica la solución analítica.\n",
    "</div>"
   ]
  },
  {
   "cell_type": "markdown",
   "metadata": {},
   "source": [
    "Mmmm... Creo que no se ve bien esto ¿Cómo se ve la energía?"
   ]
  },
  {
   "cell_type": "code",
   "execution_count": 37,
   "metadata": {},
   "outputs": [
    {
     "data": {
      "text/plain": [
       "<matplotlib.legend.Legend at 0x7f8477750880>"
      ]
     },
     "execution_count": 37,
     "metadata": {},
     "output_type": "execute_result"
    },
    {
     "data": {
      "image/png": "[encoded data removed]",
      "text/plain": [
       "<Figure size 576x432 with 1 Axes>"
      ]
     },
     "metadata": {
      "needs_background": "light"
     },
     "output_type": "display_data"
    }
   ],
   "source": [
    "plt.figure(1, figsize=(8,6))\n",
    "plt.plot(tiempo, energia_pendulo(theta_euler, omega_euler), marker='o', linestyle='None', color='red', label=\"Energia\")\n",
    "plt.xlabel(r\"t (s)\")\n",
    "plt.ylabel(r\"Energia (J)\")\n",
    "plt.legend(loc=\"best\")"
   ]
  },
  {
   "cell_type": "markdown",
   "metadata": {},
   "source": [
    "<div class=\"alert alert-info\">\n",
    "**Ejercicio**: ¿Por qué está mal la energía?\n",
    "</div>\n",
    "<div class=\"alert alert-info\">\n",
    "**Ejercicio**: Agrega un _widget_ para ver el número de paso $N$ (entre $1,000$ y $30,000$) ¿Qué sucede con la energia?\n",
    "</div>"
   ]
  },
  {
   "cell_type": "markdown",
   "metadata": {},
   "source": [
    "### Mejorando el código"
   ]
  },
  {
   "cell_type": "markdown",
   "metadata": {},
   "source": [
    "Podemos mejorar el codigo si definimos los siguientes métodos:"
   ]
  },
  {
   "cell_type": "code",
   "execution_count": 38,
   "metadata": {},
   "outputs": [],
   "source": [
    "class Pendulo:\n",
    "    \n",
    "    def __init__(self, masa, longitud, gravedad):\n",
    "        self.masa = masa\n",
    "        self.longitud = longitud\n",
    "        self.gravedad = gravedad\n",
    "      \n",
    "        self.Omega = np.sqrt(g/longitud)\n",
    "        self.period = 2*np.pi/Omega\n",
    "\n",
    "        \n",
    "    def theta(self):\n",
    "        return self.trajectory[:,0]\n",
    "    \n",
    "    def omega(self):\n",
    "        return self.trajectory[:,1]\n",
    "    \n",
    "    def plot(self):\n",
    "        fig, ax = plt.subplots(3,1, figsize=(10,8), sharex = True)\n",
    "\n",
    "        ax[0].plot(self.tau, self.theta(), label=\"theta\", color=\"blue\")\n",
    "        ax[1].plot(self.tau, self.omega(), label=\"omega\", color=\"green\")\n",
    "        ax[2].plot(self.tau, self.energy(),  marker='o', linestyle='None', color='red', label=\"Energia\")\n",
    "\n",
    "        ax[0].set_ylabel(\"Theta (rads)\")\n",
    "        ax[0].set_xlabel(\"tiempo (s)\")\n",
    "\n",
    "        ax[1].set_ylabel(\"Omega (rads/s)\")\n",
    "        ax[1].set_xlabel(\"tiempo (s)\")\n",
    "\n",
    "        ax[2].set_ylabel(\"Energia (J)\")\n",
    "        ax[2].set_xlabel(\"tiempo (s)\")\n",
    "    \n",
    "    def initial_conditions(self, theta_i, omega_i):\n",
    "        self.theta_i = theta_i\n",
    "        self.omega_i = omega_i\n",
    "        \n",
    "    def dynamics(self, state, t):\n",
    "        g0 = state[1]\n",
    "        g1 = -self.gravedad/self.longitud*state[0]\n",
    "        return np.array([g0, g1])\n",
    "        \n",
    "    def energy(self):\n",
    "        return 0.5*self.masa*self.longitud**2 * (self.omega()**2 + (self.gravedad/self.longitud)*self.theta()**2)\n",
    "        \n",
    "    def integrate(self, num_steps, t_i, t_f, method):\n",
    "        \n",
    "        self.tau, self.dt = np.linspace(t_i, t_f, num=num_steps, retstep=True)\n",
    "        self.trajectory = np.zeros([num_steps, 2])\n",
    "        self.trajectory[0,0] = self.theta_i\n",
    "        self.trajectory[0,1] = self.omega_i\n",
    "        \n",
    "        for j in range(N-1):\n",
    "            self.trajectory[j+1] = method(self.trajectory[j], self.tau[j], self.dt, self.dynamics)        "
   ]
  },
  {
   "cell_type": "markdown",
   "metadata": {},
   "source": [
    "#### Ejemplo de uso"
   ]
  },
  {
   "cell_type": "code",
   "execution_count": 39,
   "metadata": {},
   "outputs": [],
   "source": [
    "p = Pendulo(masa = 1.0, longitud = 1.0, gravedad = 9.8)\n",
    "p.initial_conditions(theta_i=0.2, omega_i=0.0)"
   ]
  },
  {
   "cell_type": "code",
   "execution_count": 40,
   "metadata": {},
   "outputs": [],
   "source": [
    "N = 100\n",
    "tiempo_inicial = 0.0\n",
    "tiempo_final = 5*p.period"
   ]
  },
  {
   "cell_type": "code",
   "execution_count": 41,
   "metadata": {},
   "outputs": [],
   "source": [
    "p.integrate(N, tiempo_inicial, tiempo_final, euler)"
   ]
  },
  {
   "cell_type": "code",
   "execution_count": 42,
   "metadata": {},
   "outputs": [
    {
     "data": {
      "image/png": "[encoded data removed]",
      "text/plain": [
       "<Figure size 720x576 with 3 Axes>"
      ]
     },
     "metadata": {
      "needs_background": "light"
     },
     "output_type": "display_data"
    }
   ],
   "source": [
    "p.plot()"
   ]
  },
  {
   "cell_type": "markdown",
   "metadata": {},
   "source": [
    "## Métodos de Runge-Kutta"
   ]
  },
  {
   "cell_type": "code",
   "execution_count": 54,
   "metadata": {},
   "outputs": [],
   "source": [
    "def RK2(y, t, dt, derivadas):\n",
    "    k0 = dt*derivadas(y, t)\n",
    "    k1 = dt*derivadas(y + k0, t + dt)\n",
    "    y_next = y + 0.5*(k0 + k1)\n",
    "    \n",
    "    return y_next"
   ]
  },
  {
   "cell_type": "code",
   "execution_count": 56,
   "metadata": {},
   "outputs": [
    {
     "data": {
      "text/plain": [
       "array([[ 2.00000000e-01,  0.00000000e+00],\n",
       "       [ 2.00000000e-01, -1.98681629e-01],\n",
       "       [ 1.79860005e-01, -3.97363258e-01],\n",
       "       [ 1.39580016e-01, -5.76037652e-01],\n",
       "       [ 8.11881288e-02, -7.14697576e-01],\n",
       "       [ 8.74053769e-03, -7.95350524e-01],\n",
       "       [-7.18826958e-02, -8.04033446e-01],\n",
       "       [-1.53386101e-01, -7.32624590e-01],\n",
       "       [-2.27650921e-01, -5.80249588e-01],\n",
       "       [-2.86469764e-01, -3.54099309e-01],\n",
       "       [-3.22364166e-01, -6.95179124e-02],\n",
       "       [-3.29411070e-01,  2.50721276e-01],\n",
       "       [-3.03995912e-01,  5.77960916e-01],\n",
       "       [-2.45409067e-01,  8.79952930e-01],\n",
       "       [-1.56209841e-01,  1.12374430e+00],\n",
       "       [-4.22979297e-02,  1.27892442e+00],\n",
       "       [ 8.73443088e-02,  1.32094353e+00],\n",
       "       [ 2.21245948e-01,  1.23417498e+00],\n",
       "       [ 3.46352017e-01,  1.01438746e+00],\n",
       "       [ 4.49178625e-01,  6.70318543e-01],\n",
       "       [ 5.17127595e-01,  2.24100839e-01],\n",
       "       [ 5.39844289e-01, -2.89617925e-01],\n",
       "       [ 5.10486247e-01, -8.25903638e-01],\n",
       "       [ 4.26765900e-01, -1.33302483e+00],\n",
       "       [ 2.91639602e-01, -1.75697755e+00],\n",
       "       [ 1.13537988e-01, -2.04669471e+00],\n",
       "       [-9.39317251e-02, -2.15948427e+00],\n",
       "       [-3.12834711e-01, -2.06617173e+00],\n",
       "       [-5.22278775e-01, -1.75539918e+00],\n",
       "       [-7.00220391e-01, -1.23656319e+00],\n",
       "       [-8.25568549e-01, -5.40958554e-01],\n",
       "       [-8.80404532e-01,  2.79167966e-01],\n",
       "       [-8.52105784e-01,  1.15376900e+00],\n",
       "       [-7.35150323e-01,  2.00025782e+00],\n",
       "       [-5.32387832e-01,  2.73056214e+00],\n",
       "       [-2.55595723e-01,  3.25944055e+00],\n",
       "       [ 7.48078264e-02,  3.51335142e+00],\n",
       "       [ 4.30949858e-01,  3.43903672e+00],\n",
       "       [ 7.79558744e-01,  3.01092762e+00],\n",
       "       [ 1.08477099e+00,  2.23650761e+00],\n",
       "       [ 1.31148169e+00,  1.15888728e+00],\n",
       "       [ 1.42895598e+00, -1.43949317e-01],\n",
       "       [ 1.41436410e+00, -1.56348583e+00],\n",
       "       [ 1.25587639e+00, -2.96852665e+00],\n",
       "       [ 9.54962257e-01, -4.21612449e+00],\n",
       "       [ 5.27581400e-01, -5.16479177e+00],\n",
       "       [ 4.03586884e-03, -5.68889543e+00],\n",
       "       [-5.72637095e-01, -5.69290469e+00],\n",
       "       [-1.14971647e+00, -5.12404234e+00],\n",
       "       [-1.66913131e+00, -3.98190463e+00],\n",
       "       [-2.07276972e+00, -2.32377600e+00],\n",
       "       [-2.30832666e+00, -2.64669677e-01],\n",
       "       [-2.33515575e+00,  2.02844083e+00],\n",
       "       [-2.12953640e+00,  4.34820356e+00],\n",
       "       [-1.68876692e+00,  6.46370236e+00],\n",
       "       [-1.03355319e+00,  8.14133718e+00],\n",
       "       [-2.08280676e-01,  9.16807733e+00],\n",
       "       [ 7.21070619e-01,  9.37498505e+00],\n",
       "       [ 1.67139577e+00,  8.65866763e+00],\n",
       "       [ 2.54910913e+00,  6.99828946e+00],\n",
       "       [ 3.25851298e+00,  4.46598369e+00],\n",
       "       [ 3.71122161e+00,  1.22895035e+00],\n",
       "       [ 3.83579807e+00, -2.45780742e+00],\n",
       "       [ 3.58665461e+00, -6.26832046e+00],\n",
       "       [ 2.95124639e+00, -9.83133236e+00],\n",
       "       [ 1.95466214e+00, -1.27631246e+01],\n",
       "       [ 6.60887457e-01, -1.47049018e+01],\n",
       "       [-8.29721649e-01, -1.53614328e+01],\n",
       "       [-2.38688211e+00, -1.45371806e+01],\n",
       "       [-3.86048961e+00, -1.21660325e+01],\n",
       "       [-5.09373816e+00, -8.33099064e+00],\n",
       "       [-5.93823550e+00, -3.27082967e+00],\n",
       "       [-6.26979354e+00,  2.62826183e+00],\n",
       "       [-6.00337143e+00,  8.85672580e+00],\n",
       "       [-5.10558127e+00,  1.48205239e+01],\n",
       "       [-3.60325177e+00,  1.98924499e+01],\n",
       "       [-1.58679037e+00,  2.34719495e+01],\n",
       "       [ 7.92518383e-01,  2.50482800e+01],\n",
       "       [ 3.33161689e+00,  2.42609858e+01],\n",
       "       [ 5.79090881e+00,  2.09513304e+01],\n",
       "       [ 7.91470701e+00,  1.51985945e+01],\n",
       "       [ 9.45536084e+00,  7.33606008e+00],\n",
       "       [ 1.01990039e+01, -2.05697238e+00],\n",
       "       [ 9.99049234e+00, -1.21887459e+01],\n",
       "       [ 8.75494137e+00, -2.21133823e+01],\n",
       "       [ 6.51334810e+00, -3.08106124e+01],\n",
       "       [ 3.39013246e+00, -3.72810254e+01],\n",
       "       [-3.88977162e-01, -4.06488106e+01],\n",
       "       [-4.50947303e+00, -4.02623976e+01],\n",
       "       [-8.59079891e+00, -3.57826503e+01],\n",
       "       [-1.22180210e+01, -2.72484807e+01],\n",
       "       [-1.49801498e+01, -1.51109992e+01],\n",
       "       [-1.65119243e+01, -2.29596358e-01],\n",
       "       [-1.65351980e+01,  1.61734837e+01],\n",
       "       [-1.48957215e+01,  3.25996841e+01],\n",
       "       [-1.15911509e+01,  4.73972151e+01],\n",
       "       [-6.78658156e+00,  5.89119588e+01],\n",
       "       [-8.14783637e-01,  6.56538042e+01],\n",
       "       [ 5.84042286e+00,  6.64632169e+01],\n",
       "       [ 1.25776781e+01,  6.06612932e+01]])"
      ]
     },
     "execution_count": 56,
     "metadata": {},
     "output_type": "execute_result"
    }
   ],
   "source": [
    "y"
   ]
  },
  {
   "cell_type": "code",
   "execution_count": 44,
   "metadata": {},
   "outputs": [],
   "source": [
    "p2 = Pendulo(masa = 1.0, longitud = 1.0, gravedad = 9.8)\n",
    "p2.initial_conditions(theta_i=0.2, omega_i=0.0)"
   ]
  },
  {
   "cell_type": "code",
   "execution_count": 45,
   "metadata": {},
   "outputs": [],
   "source": [
    "N = 100\n",
    "tiempo_inicial = 0.0\n",
    "tiempo_final = 5*p2.period"
   ]
  },
  {
   "cell_type": "code",
   "execution_count": 47,
   "metadata": {},
   "outputs": [
    {
     "data": {
      "image/png": "[encoded data removed]",
      "text/plain": [
       "<Figure size 720x576 with 3 Axes>"
      ]
     },
     "metadata": {
      "needs_background": "light"
     },
     "output_type": "display_data"
    }
   ],
   "source": [
    "p2.integrate(N, tiempo_inicial, tiempo_final, RK2)\n",
    "p2.plot()"
   ]
  },
  {
   "cell_type": "code",
   "execution_count": 51,
   "metadata": {},
   "outputs": [],
   "source": [
    "p2.integrate?"
   ]
  },
  {
   "cell_type": "markdown",
   "metadata": {},
   "source": [
    "<div class=\"alert alert-info\">\n",
    "**Ejercicio**: Crea una imagen donde se muestre la $\\theta$ calculada con el método de Euler, RK2 y analítica. ¿Qué observas?\n",
    "</div>"
   ]
  },
  {
   "cell_type": "code",
   "execution_count": 48,
   "metadata": {},
   "outputs": [
    {
     "data": {
      "text/plain": [
       "<matplotlib.legend.Legend at 0x7f84770d8f40>"
      ]
     },
     "execution_count": 48,
     "metadata": {},
     "output_type": "execute_result"
    },
    {
     "data": {
      "image/png": "[encoded data removed]",
      "text/plain": [
       "<Figure size 1200x800 with 1 Axes>"
      ]
     },
     "metadata": {
      "needs_background": "light"
     },
     "output_type": "display_data"
    }
   ],
   "source": [
    "plt.figure(figsize=(15, 10), dpi=80)\n",
    "\n",
    "\n",
    "plt.plot(p2.tau, p2.theta(), label=\"RK2\", color=\"blue\")\n",
    "plt.plot(p.tau, p.theta(), label=\"Euler\", color=\"green\")\n",
    "plt.plot(tiempo, pendulo_analitico(tiempo, .2, 0, Omega), label=\"Analitica\", color=\"red\")\n",
    "\n",
    "plt.ylabel(\"Theta (rads)\")\n",
    "plt.xlabel(\"tiempo (s)\")\n",
    "\n",
    "plt.legend(loc=\"best\")"
   ]
  },
  {
   "cell_type": "markdown",
   "metadata": {},
   "source": [
    "## Diagrama de fase"
   ]
  },
  {
   "cell_type": "code",
   "execution_count": 54,
   "metadata": {},
   "outputs": [
    {
     "data": {
      "text/plain": [
       "Text(0, 0.5, 'omega (rads/s)')"
      ]
     },
     "execution_count": 54,
     "metadata": {},
     "output_type": "execute_result"
    },
    {
     "data": {
      "image/png": "[encoded data removed]",
      "text/plain": [
       "<Figure size 432x288 with 1 Axes>"
      ]
     },
     "metadata": {
      "needs_background": "light"
     },
     "output_type": "display_data"
    }
   ],
   "source": [
    "plt.plot(p.theta(), p.omega())\n",
    "plt.xlabel(\"theta (rads)\")\n",
    "plt.ylabel(\"omega (rads/s)\")"
   ]
  },
  {
   "cell_type": "code",
   "execution_count": 56,
   "metadata": {},
   "outputs": [
    {
     "data": {
      "text/plain": [
       "Text(0, 0.5, 'omega (rads/s)')"
      ]
     },
     "execution_count": 56,
     "metadata": {},
     "output_type": "execute_result"
    },
    {
     "data": {
      "image/png": "[encoded data removed]",
      "text/plain": [
       "<Figure size 432x288 with 1 Axes>"
      ]
     },
     "metadata": {
      "needs_background": "light"
     },
     "output_type": "display_data"
    }
   ],
   "source": [
    "plt.plot(p2.theta(), p2.omega())\n",
    "plt.xlabel(\"theta (rads)\")\n",
    "plt.ylabel(\"omega (rads/s)\")"
   ]
  },
  {
   "cell_type": "markdown",
   "metadata": {},
   "source": [
    "<div class=\"alert alert-info\">\n",
    "**Ejercicio**: Agregue el método para dibujar el diagrama de fase a la clase `Pendulo`\n",
    "</div>"
   ]
  },
  {
   "cell_type": "markdown",
   "metadata": {},
   "source": [
    "<div class=\"alert alert-info\">\n",
    "**Ejercicio**: Cree un archivo `pendulo_linealizado.py` y guarde ahí la clase. Cárguelo a la sesión.\n",
    "</div>"
   ]
  },
  {
   "cell_type": "markdown",
   "metadata": {},
   "source": [
    "<div class=\"alert alert-info\">\n",
    "**Ejercicio**: Modifique el método `dynamics` para el caso en que no está linealizado el péndulo, i.e.\n",
    "\n",
    "$$\n",
    "\\ddot\\theta = -\\frac{g}{l} \\sin\\theta\n",
    "$$\n",
    "\n",
    "Grafique los diagramas con el método Runge - Kutta de 2do Orden. Guardelo en el archivo `pendulo_real.py`\n",
    "</div>"
   ]
  },
  {
   "cell_type": "markdown",
   "metadata": {},
   "source": [
    "<div class=\"alert alert-info\">\n",
    "**Ejercicio**: Modifique el método `dynamics` para el caso en que no está linealizado el péndulo, exista un amortiguamiento y ademas haya una fuerza externa, como se muestra en la siguiente ecuación.\n",
    "\n",
    "$$\n",
    "\\ddot\\theta = -\\frac{g}{l} \\sin\\theta - \\beta\\dot\\theta + A \\cos(\\omega t)\n",
    "$$\n",
    "\n",
    "Grafique los diagramas con el método Runge - Kutta de 2do Orden. Guárdelo en el archivo `pendulo_actuado.py`\n",
    "</div>"
   ]
  },
  {
   "cell_type": "markdown",
   "metadata": {},
   "source": [
    "## Métodos de Scipy"
   ]
  },
  {
   "cell_type": "markdown",
   "metadata": {},
   "source": [
    "`Scipy` implementa una rutina que resuelve ecuaciones diferenciales, `odeint()` del paquete `scipy.integrate`."
   ]
  },
  {
   "cell_type": "code",
   "execution_count": 57,
   "metadata": {},
   "outputs": [],
   "source": [
    "import numpy as np\n",
    "import matplotlib.pyplot as plt\n",
    "from scipy.integrate import odeint"
   ]
  },
  {
   "cell_type": "code",
   "execution_count": null,
   "metadata": {},
   "outputs": [],
   "source": [
    "odeint?"
   ]
  },
  {
   "cell_type": "markdown",
   "metadata": {},
   "source": [
    "Como puedes observar se puede invocar con la función `dynamics`, un arreglo que represente el estado inicial y un `array` de tiempos (en lugar de un _time step_)."
   ]
  },
  {
   "cell_type": "markdown",
   "metadata": {},
   "source": [
    "### Ejemplo: Péndulo con resorte"
   ]
  },
  {
   "cell_type": "markdown",
   "metadata": {},
   "source": [
    "una masa $m$ está sujeta a un resorte con constante elástica $k$, el resorte a su vez está pegado al techo. La longitud del resorte sin deformar es $L_0$, y el ángulo respecto a la vertical es $\\theta$.  Usando ecuaciones de [Euler-Lagrange](http://en.wikipedia.org/wiki/Euler%E2%80%93Lagrange_equation), se encuentra que las ecuaciones de movimiento son:"
   ]
  },
  {
   "cell_type": "markdown",
   "metadata": {},
   "source": [
    "$$\n",
    "\\ddot{L} = (L_0 + L)\\dot{\\theta}^2 - \\frac{k}{m}L + g \\cos\\theta\n",
    "$$\n",
    "\n",
    "$$\n",
    "\\ddot\\theta = - \\frac{1}{L_0+L} \\left[ g\\sin\\theta + 2\\dot{L}\\dot{\\theta}\\right]\n",
    "$$"
   ]
  },
  {
   "cell_type": "markdown",
   "metadata": {},
   "source": [
    "<div class=\"alert alert-info\">\n",
    "**Ejercicio** Escribe este par de ecuaciones como un sistema de ecuaciones de primer orden\n",
    "</div>"
   ]
  },
  {
   "cell_type": "code",
   "execution_count": 58,
   "metadata": {},
   "outputs": [],
   "source": [
    "N = 1000\n",
    "\n",
    "# Constantes\n",
    "L_0 = 1.0\n",
    "L = 1.0\n",
    "v_i = 0.0\n",
    "theta_i = 0.3\n",
    "omega_i = 0.0\n",
    "\n",
    "k = 3.5 # COnstante del resorte en N/m\n",
    "m = 0.2 # masa en kilogramos\n",
    "g = 9.8 # Constante de gravedad terrestre, en m/s^2"
   ]
  },
  {
   "cell_type": "code",
   "execution_count": 59,
   "metadata": {},
   "outputs": [
    {
     "data": {
      "text/plain": [
       "array([0., 0., 0., 0.])"
      ]
     },
     "execution_count": 59,
     "metadata": {},
     "output_type": "execute_result"
    }
   ],
   "source": [
    "# Estado inicial\n",
    "y = np.zeros([4])\n",
    "y"
   ]
  },
  {
   "cell_type": "code",
   "execution_count": 60,
   "metadata": {},
   "outputs": [],
   "source": [
    "# Estado inicial\n",
    "y[0] = v_i\n",
    "y[1] = L_0\n",
    "y[2] = omega_i\n",
    "y[3] = theta_i"
   ]
  },
  {
   "cell_type": "code",
   "execution_count": 61,
   "metadata": {},
   "outputs": [
    {
     "data": {
      "text/plain": [
       "array([0. , 1. , 0. , 0.3])"
      ]
     },
     "execution_count": 61,
     "metadata": {},
     "output_type": "execute_result"
    }
   ],
   "source": [
    "y"
   ]
  },
  {
   "cell_type": "code",
   "execution_count": 62,
   "metadata": {},
   "outputs": [],
   "source": [
    "time = np.linspace(0,25,N)"
   ]
  },
  {
   "cell_type": "markdown",
   "metadata": {},
   "source": [
    "<div class=\"alert alert-info\">\n",
    "**Ejercicio** Escribe el sistema de ecuaciones en el método `pendulo_con_resorte(estado, tiempo)`\n",
    "</div>"
   ]
  },
  {
   "cell_type": "code",
   "execution_count": 63,
   "metadata": {},
   "outputs": [],
   "source": [
    "def pendulo_con_resorte(estado, tiempo):\n",
    "    g0 = (L_0+estado[1])*estado[2]**2-k/m*estado[1] + g*np.cos(estado[3])\n",
    "    g1 = estado[0]\n",
    "    g2 = -1/(L_0 + estado[1])*(g*np.sin(estado[3])+2 * estado[0] * estado[2])\n",
    "    g3 = estado[2]\n",
    "    return np.array([g0,g1,g2,g3])"
   ]
  },
  {
   "cell_type": "code",
   "execution_count": 64,
   "metadata": {},
   "outputs": [
    {
     "data": {
      "text/plain": [
       "array([[ 0.        ,  1.        ,  0.        ,  0.3       ],\n",
       "       [-0.20324155,  0.99745441, -0.03629672,  0.29954621],\n",
       "       [-0.40405995,  0.98984797, -0.0729493 ,  0.29818038],\n",
       "       ...,\n",
       "       [ 1.8035742 ,  0.4619703 , -0.61265583, -0.25346162],\n",
       "       [ 1.84047428,  0.50761623, -0.5348056 , -0.26781053],\n",
       "       [ 1.85363073,  0.553888  , -0.46132699, -0.28026521]])"
      ]
     },
     "execution_count": 64,
     "metadata": {},
     "output_type": "execute_result"
    }
   ],
   "source": [
    "solucion = odeint(func=pendulo_con_resorte, y0 = y, t = time)\n",
    "solucion"
   ]
  },
  {
   "cell_type": "markdown",
   "metadata": {},
   "source": [
    "Dibujaremos el movimiento en el espacio físico euclídeo 2D $(x, y)$, para esto, necesitamos convertir a estas coordenadas en lugar usando las fórmulas trigonométricas."
   ]
  },
  {
   "cell_type": "code",
   "execution_count": 65,
   "metadata": {},
   "outputs": [],
   "source": [
    "xdata = (L_0 + solucion[:,0])*np.sin(solucion[:,2])\n",
    "ydata = -(L_0 + solucion[:,0])*np.cos(solucion[:,2])"
   ]
  },
  {
   "cell_type": "code",
   "execution_count": 66,
   "metadata": {},
   "outputs": [
    {
     "data": {
      "text/plain": [
       "Text(0, 0.5, 'Posicion Vertical')"
      ]
     },
     "execution_count": 66,
     "metadata": {},
     "output_type": "execute_result"
    },
    {
     "data": {
      "image/png": "[encoded data removed]",
      "text/plain": [
       "<Figure size 432x288 with 1 Axes>"
      ]
     },
     "metadata": {
      "needs_background": "light"
     },
     "output_type": "display_data"
    }
   ],
   "source": [
    "plt.plot(xdata, ydata, 'r-')\n",
    "plt.xlabel(\"Posicion Horizontal\")\n",
    "plt.ylabel(\"Posicion Vertical\")"
   ]
  },
  {
   "cell_type": "markdown",
   "metadata": {},
   "source": [
    "<div class=\"alert alert-info\">\n",
    "**Ejercicio**: Dibuja respecto al tiempo el valor de $L$ y de $\\theta$.\n",
    "</div>"
   ]
  },
  {
   "cell_type": "markdown",
   "metadata": {},
   "source": [
    "<div class=\"alert alert-info\">\n",
    "**Ejercicio** Resuelve el péndulo amortiguado, grafica en el espacio euclídeo y también la posición respecto al tiempo. La ecuación del péndulo amortiguado es:\n",
    "\n",
    "$$\n",
    "\\ddot\\theta = - \\frac{g}{L}\\sin\\theta -b\\dot\\theta + \\beta\\cos(\\omega t)\n",
    "$$\n",
    "</div>"
   ]
  }
 ],
 "metadata": {
  "kernelspec": {
   "display_name": "Python 3",
   "language": "python",
   "name": "python3"
  },
  "language_info": {
   "codemirror_mode": {
    "name": "ipython",
    "version": 3
   },
   "file_extension": ".py",
   "mimetype": "text/x-python",
   "name": "python",
   "nbconvert_exporter": "python",
   "pygments_lexer": "ipython3",
   "version": "3.8.5"
  }
 },
 "nbformat": 4,
 "nbformat_minor": 1
}
