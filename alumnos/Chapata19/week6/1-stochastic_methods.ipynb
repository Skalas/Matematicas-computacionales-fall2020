{
 "cells": [
  {
   "cell_type": "markdown",
   "metadata": {},
   "source": [
    "## Introducción"
   ]
  },
  {
   "cell_type": "markdown",
   "metadata": {},
   "source": [
    "Imagina que quisieras modelar computacionalmente (como en esta clase) un sistema con muchísimos componentes, por ejemplo, tránsito, apostadores, difusión de gases, la economía de un páis o localidad, etc. ¿Cómo le harías?"
   ]
  },
  {
   "cell_type": "markdown",
   "metadata": {},
   "source": [
    "Por ejemplo, para el caso de como se diluye una gota de tinta en un vaso con agua, la aproximación clásica (o sea, usando todo el aparato matemático clásico de las ecuaciones diferenciales) es:\n",
    "\n",
    "- Tomar la posición $\\vec{x}$ y el momento $\\vec{p}$ de cada molécula en el vaso + la gota de la tinta, en un momento $t = t_0$.\n",
    "\n",
    "- Usar las ecuaciones de Newton para el sistema (que son ecuaciones diferenciales ordinarias de segundo orden).\n",
    "\n",
    "- Escribirlas como un sistema (más grande!) de ecuaciones diferenciales de primer orden.\n",
    "\n",
    "- Resolverlas con un método de integración."
   ]
  },
  {
   "cell_type": "markdown",
   "metadata": {},
   "source": [
    "¿Estamos de acuerdo? Yo sé que es mucho trabajo, pero bueno, en realidad, lo va a hacer la computadora ¿Qué nos preocupa?"
   ]
  },
  {
   "cell_type": "markdown",
   "metadata": {},
   "source": [
    "Bueno, pensemos en la implementación:"
   ]
  },
  {
   "cell_type": "markdown",
   "metadata": {},
   "source": [
    "Existen $10^{23}$ moléculas (aproximadamente, y este dato proviene del [número de avogadro](http://en.wikipedia.org/wiki/Avogadro_constant) ). Cada partícula tiene 6 [grados de libertad](http://en.wikipedia.org/wiki/Degrees_of_freedom_%28mechanics%29) (6 _dof_) : 3 para la posición y 3 para la velocidad."
   ]
  },
  {
   "cell_type": "markdown",
   "metadata": {},
   "source": [
    "<div class=\"alert alert-info\">\n",
    "**Ejercicio** ¿Por qué 6 grados de libertad?\n",
    "</div>"
   ]
  },
  {
   "cell_type": "markdown",
   "metadata": {},
   "source": [
    "<div class=\"alert alert-info\">\n",
    "**Ejercicio** ¿Cuánta memoria se tiene que utilizar para guardar la configuración de las moléculas en el tiempo $t_0$? ¿Cabe en tu compu? ¿Cuántos discos duros requieres para guardarlo? ¿Cuánto costaría?\n",
    "</div>"
   ]
  },
  {
   "cell_type": "markdown",
   "metadata": {},
   "source": [
    "Además del problema que encontraron, el resolver el sistema _así_ no nos da mucho entendimiento, ya que habría que ejecutarlo para **cada** pregunta que hagamos: _¿Cuánto tiempo toma a que las moléculas de la gota de tinta se dispersen por todo el vaso?_ Calculamos y (suponiendo que se puede hacer) obtenemos una respuesta, pero y si queremos responder _¿Qué tal si el vaso es el doble de grande?_ ¡hay que calcularlo de nuevo!"
   ]
  },
  {
   "cell_type": "markdown",
   "metadata": {},
   "source": [
    "## Métodos estocásticos"
   ]
  },
  {
   "cell_type": "markdown",
   "metadata": {},
   "source": [
    "Una técnica que puede ser empleada (y muy relacionada con Montecarlo) son los _métodos estocásticos_."
   ]
  },
  {
   "cell_type": "markdown",
   "metadata": {},
   "source": [
    "La idea básica es la siguiente:"
   ]
  },
  {
   "cell_type": "markdown",
   "metadata": {},
   "source": [
    "\n",
    "Un [_ensamble_ o _colectivo_](http://en.wikipedia.org/wiki/Statistical_ensemble_%28mathematical_physics%29) actúa de una manera **promedio** aún si los elementos que conforman el ensamble actúan al azar.\n"
   ]
  },
  {
   "cell_type": "markdown",
   "metadata": {},
   "source": [
    "El resultado de esto es la pérdida de la información sobre los componentes del sistema, para ganar conocimiento sobre el  colectivo."
   ]
  },
  {
   "cell_type": "markdown",
   "metadata": {},
   "source": [
    "### Ejemplo: Caminata aleatoria"
   ]
  },
  {
   "cell_type": "code",
   "execution_count": null,
   "metadata": {},
   "outputs": [],
   "source": [
    "%pylab inline\n",
    "import numpy as np\n",
    "import matplotlib.pyplot as plt\n",
    "import random"
   ]
  },
  {
   "cell_type": "markdown",
   "metadata": {},
   "source": [
    "La _caminata aleatoria_ o _caminata del borracho_ es el recorrido que se obtiene si en cada instante de tiempo \"elegimos al azar\" la siguiente dirección."
   ]
  },
  {
   "cell_type": "markdown",
   "metadata": {},
   "source": [
    "El siguiente código calcula la caminata aleatoria en una dimensión ($x$)."
   ]
  },
  {
   "cell_type": "code",
   "execution_count": null,
   "metadata": {},
   "outputs": [],
   "source": [
    "# Inicialización\n",
    "\n",
    "steps = 200\n",
    "\n",
    "posicion = np.zeros([steps])\n",
    "\n",
    "tiempo = range(steps)"
   ]
  },
  {
   "cell_type": "code",
   "execution_count": null,
   "metadata": {},
   "outputs": [],
   "source": [
    "# caminamos ...\n",
    "for i in range(1,steps):\n",
    "    if random.choice([u'adelante', u'atrás']) == u'atrás':\n",
    "        posicion[i] = posicion[i-1] - 1\n",
    "    else:\n",
    "        posicion[i] = posicion[i-1] + 1"
   ]
  },
  {
   "cell_type": "code",
   "execution_count": null,
   "metadata": {},
   "outputs": [],
   "source": [
    "plt.plot(tiempo,posicion, 'b-')\n",
    "plt.xlabel('tiempo')\n",
    "plt.ylabel(u'posición')"
   ]
  },
  {
   "cell_type": "markdown",
   "metadata": {},
   "source": [
    "Al parecer uno puede avanzar (¡o inclusive llegar a su casa si está borracho¡ -por lo menos en una dimensión.)"
   ]
  },
  {
   "cell_type": "markdown",
   "metadata": {},
   "source": [
    "Pero como mencionamos arriba, lo que queremos es el _comportamiento promedio_ del borracho. "
   ]
  },
  {
   "cell_type": "markdown",
   "metadata": {},
   "source": [
    "Para lograrlo, utilizaremos miles de borrachos no interactuantes y calcularemos la [**media cuadrática**](http://en.wikipedia.org/wiki/Root_mean_square) o **RMS**."
   ]
  },
  {
   "cell_type": "markdown",
   "metadata": {},
   "source": [
    "<div class=\"alert alert-info\">\n",
    "**Ejercicio**: ¿Por qué utilizar una media cuadrática? ¿Qué pasa si hubiésemos usado el promedio simple?\n",
    "</div>"
   ]
  },
  {
   "cell_type": "code",
   "execution_count": null,
   "metadata": {},
   "outputs": [],
   "source": [
    "# Inicialización\n",
    "\n",
    "pasos = 200\n",
    "borrachos = 2000\n",
    "\n",
    "posicion = np.zeros([borrachos, pasos])  # todos empiezan en ceros\n",
    "tiempo = range(steps)\n",
    "\n",
    "for borracho in range(borrachos):\n",
    "    for paso in range(1, pasos):\n",
    "        if random.choice(['adelante', u'atrás']) == u'atrás':\n",
    "            posicion[borracho, paso] = posicion[borracho,paso - 1] - 1\n",
    "        else:\n",
    "            posicion[borracho, paso] = posicion[borracho,paso - 1] + 1\n",
    "            \n",
    "\n",
    "promedio = np.mean(posicion, axis=0) # promedio\n",
    "rms = np.sqrt(np.mean(np.square(posicion), axis=0)) # media cuadrática \n",
    "        \n"
   ]
  },
  {
   "cell_type": "code",
   "execution_count": null,
   "metadata": {},
   "outputs": [],
   "source": [
    "# Todos los borrachos a la vez\n",
    "for borracho in range(borrachos):\n",
    "    plt.plot(tiempo, posicion[borracho, :], '-')"
   ]
  },
  {
   "cell_type": "code",
   "execution_count": null,
   "metadata": {},
   "outputs": [],
   "source": [
    "plt.plot(tiempo, promedio, label='Avg')\n",
    "plt.plot(tiempo, rms, label='RMS')\n",
    "plt.xlabel('tiempo')\n",
    "plt.ylabel('Promedio, RMS')\n",
    "plt.legend(loc='best')"
   ]
  },
  {
   "cell_type": "code",
   "execution_count": null,
   "metadata": {},
   "outputs": [],
   "source": [
    "from scipy.optimize import curve_fit\n",
    "\n",
    "power_law = lambda x, a, b: a*x**b\n",
    "\n",
    "popt, pcov = curve_fit(power_law, tiempo, rms)"
   ]
  },
  {
   "cell_type": "markdown",
   "metadata": {},
   "source": [
    "Estamos proponiendo que los datos ajustan a una ley de potencias del tipo \n",
    "\n",
    "$$y(t) = A t^B$$"
   ]
  },
  {
   "cell_type": "markdown",
   "metadata": {},
   "source": [
    "Que en este caso en particualar es:"
   ]
  },
  {
   "cell_type": "code",
   "execution_count": null,
   "metadata": {},
   "outputs": [],
   "source": [
    "print (\"A = %f +/- %f.\" % (popt[0], sqrt(pcov[0,0])))\n",
    "print (\"B = %f +/- %f.\" % (popt[1], sqrt(pcov[1,1])))"
   ]
  },
  {
   "cell_type": "code",
   "execution_count": null,
   "metadata": {},
   "outputs": [],
   "source": [
    "plt.plot(tiempo, rms, label=\"RMS\")\n",
    "plt.plot(tiempo,power_law(tiempo, popt[0], popt[1]), label=r\"$y(t) = %f t ^{%f}$\" % (popt[0], popt[1]))\n",
    "plt.xlabel('tiempo')\n",
    "plt.ylabel(r'RMS, Ajuste')\n",
    "plt.legend(loc='best')"
   ]
  },
  {
   "cell_type": "markdown",
   "metadata": {},
   "source": [
    "### Ejemplo: Difusión"
   ]
  },
  {
   "cell_type": "markdown",
   "metadata": {},
   "source": [
    "La difusión es el ejemplo con el que iniciamos la discusión, básicamente es una caminata aleatoria en 2D."
   ]
  },
  {
   "cell_type": "code",
   "execution_count": null,
   "metadata": {},
   "outputs": [],
   "source": [
    "plt.figure(figsize = (10,10))\n",
    "\n",
    "num_particulas = 400\n",
    "\n",
    "particulas = np.ones([num_particulas,2])*100  # Todas las partículas en el punto (100,100)\n",
    "\n",
    "\n",
    "# Dibujamos la posición inicial\n",
    "line, = plt.plot(particulas[:,0], particulas[:,1], 'ro')\n",
    "plt.xlim(0,200)\n",
    "plt.ylim(0,200)\n"
   ]
  },
  {
   "cell_type": "code",
   "execution_count": null,
   "metadata": {},
   "outputs": [],
   "source": [
    "steps = 5000\n",
    "\n",
    "for i in range(steps):\n",
    "    for particula in range(num_particulas):\n",
    "        particulas[particula, 0] += random.randint(-1, 1)\n",
    "        particulas[particula, 1] += random.randint(-1, 1)\n",
    "        \n",
    "        # Verificar colisión\n",
    "        x, y = (particulas[particula, 0], particulas[particula, 1])\n",
    "        if x == 200:\n",
    "            particulas[particula, 0] = 198\n",
    "        elif x == 0:\n",
    "            particulas[particula, 0] = 2\n",
    "        \n",
    "        if y == 200:\n",
    "            particulas[particula, 1] = 198\n",
    "        elif y == 0:\n",
    "            particulas[particula, 1] = 2\n",
    "            "
   ]
  },
  {
   "cell_type": "code",
   "execution_count": null,
   "metadata": {},
   "outputs": [],
   "source": [
    "# Dibujamos la posición luego de N steps\n",
    "line, = plt.plot(particulas[:,0], particulas[:,1], 'ro')\n",
    "plt.xlim(0,200)\n",
    "plt.ylim(0,200)"
   ]
  },
  {
   "cell_type": "markdown",
   "metadata": {},
   "source": [
    "<div class=\"alert alert-info\">\n",
    "**Ejercicio:** ¿Cómo modificarías el código para que pudieras usarlo en una animación?\n",
    "</div>"
   ]
  },
  {
   "cell_type": "markdown",
   "metadata": {},
   "source": [
    "<div class=\"alert alert-info\">\n",
    "**Ejercicio:** ¿Y para mostrarlo en un subplot cada 10 pasos?\n",
    "</div>"
   ]
  },
  {
   "cell_type": "code",
   "execution_count": null,
   "metadata": {},
   "outputs": [],
   "source": []
  }
 ],
 "metadata": {
  "kernelspec": {
   "display_name": "Python 3",
   "language": "python",
   "name": "python3"
  },
  "language_info": {
   "codemirror_mode": {
    "name": "ipython",
    "version": 3
   },
   "file_extension": ".py",
   "mimetype": "text/x-python",
   "name": "python",
   "nbconvert_exporter": "python",
   "pygments_lexer": "ipython3",
   "version": "3.8.5"
  }
 },
 "nbformat": 4,
 "nbformat_minor": 1
}
