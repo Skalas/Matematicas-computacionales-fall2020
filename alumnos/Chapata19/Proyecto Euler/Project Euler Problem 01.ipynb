{
 "cells": [
  {
   "cell_type": "markdown",
   "metadata": {},
   "source": [
    "# Multiples of 3 and 5\n",
    "## Problema 1"
   ]
  },
  {
   "cell_type": "markdown",
   "metadata": {},
   "source": [
    "If we list all the natural numbers below 10 that are multiples of 3 or 5, we get 3, 5, 6 and 9. The sum of these multiples is 23.\n",
    "\n",
    "Find the sum of all the multiples of 3 or 5 below 1000."
   ]
  },
  {
   "cell_type": "markdown",
   "metadata": {},
   "source": [
    "Según Wikipedia:\n",
    "\n",
    "Congruencia es un término usado en la teoría de números, para designar que dos números enteros $a$\n",
    "y $b$ tienen el mismo resto al dividirlos por un número natural $m\\neq 0$, llamado módulo; esto se expresa utilizando la notación\n",
    "<br/>\n",
    "$a\\equiv b$ $\\pmod m$\n",
    "<br/>\n",
    "que se expresa diciendo que $a$ es congruente con $b$, módulo $m$. \n",
    "<br/>\n",
    "<br/>\n",
    "Dado esto si un número $a\\equiv 0$ $\\pmod m$ entonces $a$ es un múltiplo de $m$. En el código esto se expresaría a%m == 0."
   ]
  },
  {
   "cell_type": "code",
   "execution_count": 18,
   "metadata": {},
   "outputs": [
    {
     "name": "stdout",
     "output_type": "stream",
     "text": [
      "233168\n"
     ]
    }
   ],
   "source": [
    "sum = 0\n",
    "for i in range(1,1000):\n",
    "    if (i%3 == 0 or i%5 == 0): #Solo sumamos los números congruentes con 3 o con 5\n",
    "        sum += i    \n",
    "print(sum)"
   ]
  }
 ],
 "metadata": {
  "kernelspec": {
   "display_name": "Python 3",
   "language": "python",
   "name": "python3"
  },
  "language_info": {
   "codemirror_mode": {
    "name": "ipython",
    "version": 3
   },
   "file_extension": ".py",
   "mimetype": "text/x-python",
   "name": "python",
   "nbconvert_exporter": "python",
   "pygments_lexer": "ipython3",
   "version": "3.8.5"
  }
 },
 "nbformat": 4,
 "nbformat_minor": 4
}
