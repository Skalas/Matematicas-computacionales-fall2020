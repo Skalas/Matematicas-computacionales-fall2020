{
 "cells": [
  {
   "cell_type": "markdown",
   "metadata": {},
   "source": [
    "# Largest prime factor\n",
    "## Problem 3"
   ]
  },
  {
   "cell_type": "markdown",
   "metadata": {},
   "source": [
    "The prime factors of 13195 are 5, 7, 13 and 29.\n",
    "\n",
    "What is the largest prime factor of the number 600851475143 ?"
   ]
  },
  {
   "cell_type": "markdown",
   "metadata": {},
   "source": [
    "Según Wikipedia:\n",
    "\n",
    "En matemáticas, un número primo es un número natural mayor que 1 que tiene únicamente dos divisores positivos distintos: él mismo y el 1. Por el contrario, los números compuestos son los números naturales que tienen algún divisor natural aparte de sí mismos y del 1, y, por lo tanto, pueden factorizarse. El número 1, por convenio, no se considera ni primo ni compuesto.\n",
    "\n",
    "En matemática, y particularmente en la teoría de números, el teorema fundamental de la Aritmética o teorema de factorización única afirma que todo entero positivo mayor que 1 es un número primo o bien un único producto de números primos. Por ejemplo,\n",
    "\n",
    "$6936=2^{3}\\cdot 3\\cdot 17^{2}$\n",
    "<br/>\n",
    "$1200=2^{4}\\cdot 3\\cdot 5^{2}$\n"
   ]
  },
  {
   "cell_type": "code",
   "execution_count": 1,
   "metadata": {},
   "outputs": [
    {
     "name": "stdout",
     "output_type": "stream",
     "text": [
      "6857\n"
     ]
    }
   ],
   "source": [
    "n = 600851475143\n",
    "i = 2\n",
    "\n",
    "# Buscamos dividir el número n entre i cuando i es un factor de n.\n",
    "# Dividiremos a n entre i cuantas veces sean necesarias para obtener un nuevo n que no sea divisible entre i.\n",
    "# Hacerlo de esta manera ordenada garantiza que siempre que dividamos n lo haremos únicamente con números primos.\n",
    "# Cuando n no tenga otro factor más que el 1, se acabará el ciclo.\n",
    "while n != 1:\n",
    "    while n%i == 0:\n",
    "        n = n/i\n",
    "    i = i + 1\n",
    "    \n",
    "# No olvidemos observar que como la comprobación se hace después del incremento,\n",
    "# el primo que buscamos es el antecesor de nuestro índice i.\n",
    "\n",
    "lpf = i - 1\n",
    "print(lpf)"
   ]
  }
 ],
 "metadata": {
  "kernelspec": {
   "display_name": "Python 3",
   "language": "python",
   "name": "python3"
  },
  "language_info": {
   "codemirror_mode": {
    "name": "ipython",
    "version": 3
   },
   "file_extension": ".py",
   "mimetype": "text/x-python",
   "name": "python",
   "nbconvert_exporter": "python",
   "pygments_lexer": "ipython3",
   "version": "3.8.5"
  }
 },
 "nbformat": 4,
 "nbformat_minor": 4
}
