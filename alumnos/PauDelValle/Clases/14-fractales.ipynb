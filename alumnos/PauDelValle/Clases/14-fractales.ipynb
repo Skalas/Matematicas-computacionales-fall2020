{
 "cells": [
  {
   "cell_type": "code",
   "execution_count": 1,
   "metadata": {},
   "outputs": [],
   "source": [
    "from pylab import *\n",
    "import numpy as np\n",
    "import matplotlib.pyplot as plt\n",
    "import random\n",
    "import time\n",
    "from IPython import display\n",
    "from IPython.display import HTML"
   ]
  },
  {
   "cell_type": "code",
   "execution_count": 2,
   "metadata": {},
   "outputs": [],
   "source": [
    "rcParams['figure.figsize'] = (10.0, 8.0)"
   ]
  },
  {
   "cell_type": "code",
   "execution_count": 3,
   "metadata": {},
   "outputs": [],
   "source": [
    "# El código siguiente recarga (reloads) las rutinas externas cada vez que el código cambia (es útil para \"debuggear\" código externo)\n",
    "\n",
    "%load_ext autoreload\n",
    "%autoreload 2"
   ]
  },
  {
   "cell_type": "markdown",
   "metadata": {},
   "source": [
    "# Fractales y Recursividad"
   ]
  },
  {
   "cell_type": "markdown",
   "metadata": {},
   "source": [
    "**Fractales**: conjunto de elementos que cumplen con similitud, te puedes ir acercando a un resultado pero nunca llegas al final. Se trata de conjuntos muy parecidos pero nunca iguales al final. "
   ]
  },
  {
   "cell_type": "markdown",
   "metadata": {},
   "source": [
    "## Recursividad"
   ]
  },
  {
   "cell_type": "markdown",
   "metadata": {},
   "source": [
    "Las funciones recursivas son funciones que se invocan a sí mismas en su definición. Debido a que una función recursiva se invoca a sí misma para realizar su tarea, esta puede realizar acciones que contengan trabajos idénticos en múltiples objetos de datos más sencillos de conceptualizar, planear y escribir."
   ]
  },
  {
   "cell_type": "code",
   "execution_count": 4,
   "metadata": {},
   "outputs": [],
   "source": [
    "def fib(n):\n",
    "    if n == 0:\n",
    "        return 0\n",
    "    if n == 1:\n",
    "        return 1\n",
    "    return fib(n-1) + fib(n-2)"
   ]
  },
  {
   "cell_type": "code",
   "execution_count": 5,
   "metadata": {},
   "outputs": [
    {
     "data": {
      "text/plain": [
       "55"
      ]
     },
     "execution_count": 5,
     "metadata": {},
     "output_type": "execute_result"
    }
   ],
   "source": [
    "fib(10)"
   ]
  },
  {
   "cell_type": "markdown",
   "metadata": {},
   "source": [
    "<div class=\"alert alert-info\">\n",
    "**Ejercicio** Haga lo mismo para el factorial.\n",
    "</div>"
   ]
  },
  {
   "cell_type": "code",
   "execution_count": 6,
   "metadata": {},
   "outputs": [],
   "source": [
    "def factorial(n):\n",
    "    if n == 1 or n == 0:\n",
    "        return 1\n",
    "    else: \n",
    "        return n*factorial(n-1)"
   ]
  },
  {
   "cell_type": "code",
   "execution_count": 7,
   "metadata": {},
   "outputs": [
    {
     "data": {
      "text/plain": [
       "True"
      ]
     },
     "execution_count": 7,
     "metadata": {},
     "output_type": "execute_result"
    }
   ],
   "source": [
    "factorial(5) == 120"
   ]
  },
  {
   "cell_type": "markdown",
   "metadata": {},
   "source": [
    "## Curva de VonKoch"
   ]
  },
  {
   "cell_type": "markdown",
   "metadata": {},
   "source": [
    "El [Copo de nieve de VonKoch](http://en.wikipedia.org/wiki/Koch_snowflake)"
   ]
  },
  {
   "cell_type": "code",
   "execution_count": 8,
   "metadata": {},
   "outputs": [],
   "source": [
    "class CurvaVonKoch:\n",
    "    def __init__(self, xi, yi, xf, yf):\n",
    "        self.xi = xi\n",
    "        self.yi = yi\n",
    "        self.xf = xf\n",
    "        self.yf = yf\n",
    "    \n",
    "    def _generar(self, xi, yi, xf, yf, iteracion):\n",
    "        \n",
    "        if iteracion == 0:\n",
    "            self.dibujar(xi, yi, xf, yf)\n",
    "            \n",
    "        elif iteracion >= 0:\n",
    "            x1 = xi + (xf - xi) / 3.0\n",
    "            y1 = yi + (yf - yi) / 3.0\n",
    "            \n",
    "            x3 = xf - (xf - xi) / 3.0\n",
    "            y3 = yf - (yf - yi) / 3.0\n",
    "            \n",
    "            r = hypot(x3 - x1, y3 - y1)\n",
    "            alpha = np.arctan2((y3 - y1), (x3 - x1))\n",
    "            alpha += np.pi/3\n",
    "            \n",
    "            x2 = x1 + r*np.cos(alpha)\n",
    "            y2 = y1 + r*np.sin(alpha)\n",
    "            \n",
    "            \n",
    "            self._generar(xi, yi, x1, y1, iteracion - 1)\n",
    "            self._generar(x1, y1, x2, y2, iteracion - 1)\n",
    "            self._generar(x2, y2, x3, y3, iteracion - 1)\n",
    "            self._generar(x3, y3, xf, yf, iteracion - 1)\n",
    "            \n",
    "    def dibujar(self, xi, yi, xf, yf):\n",
    "        plot([xi, xf], [yi, yf], lw=1.0, color='black')\n",
    "        \n",
    "    def generar(self, iteraciones=0):\n",
    "        return self._generar(self.xi, self.yi, self.xf, self.yf, iteraciones)"
   ]
  },
  {
   "cell_type": "code",
   "execution_count": 9,
   "metadata": {},
   "outputs": [],
   "source": [
    "c = CurvaVonKoch(0, 0, 9, 0)"
   ]
  },
  {
   "cell_type": "code",
   "execution_count": 15,
   "metadata": {},
   "outputs": [
    {
     "data": {
      "image/png": "[encoded data removed]",
      "text/plain": [
       "<Figure size 720x576 with 1 Axes>"
      ]
     },
     "metadata": {
      "needs_background": "light"
     },
     "output_type": "display_data"
    }
   ],
   "source": [
    "c.generar(iteraciones=1)"
   ]
  },
  {
   "cell_type": "code",
   "execution_count": 11,
   "metadata": {},
   "outputs": [],
   "source": [
    "class CopoVonKoch:\n",
    "    def __init__(self, lado=3, iteraciones=1):\n",
    "        self.lado = lado\n",
    "        self.iteraciones = iteraciones\n",
    "        \n",
    "        self.x_vertice1 = 0\n",
    "        self.y_vertice1 = 0\n",
    "        \n",
    "        self.x_vertice2 = lado * np.cos(2 * np.pi/3.0)\n",
    "        self.y_vertice2 = lado * np.sin(2 * np.pi/3.0)\n",
    "        \n",
    "        self.x_vertice3 = lado * np.cos(np.pi / 3.0)\n",
    "        self.y_vertice3 = lado * np.sin(np.pi / 3.0)\n",
    "        \n",
    "        self._generar()\n",
    "        \n",
    "    def _generar(self):\n",
    "        c1 = CurvaVonKoch(self.x_vertice1, self.y_vertice1, self.x_vertice2, self.y_vertice2)\n",
    "        c2 = CurvaVonKoch(self.x_vertice2, self.y_vertice2, self.x_vertice3, self.y_vertice3)\n",
    "        c3 = CurvaVonKoch(self.x_vertice3, self.y_vertice3, self.x_vertice1, self.y_vertice1)\n",
    "        \n",
    "        c1.generar(self.iteraciones)\n",
    "        c2.generar(self.iteraciones)\n",
    "        c3.generar(self.iteraciones)\n",
    "        "
   ]
  },
  {
   "cell_type": "code",
   "execution_count": 12,
   "metadata": {},
   "outputs": [
    {
     "data": {
      "image/png": "[encoded data removed]",
      "text/plain": [
       "<Figure size 720x576 with 1 Axes>"
      ]
     },
     "metadata": {
      "needs_background": "light"
     },
     "output_type": "display_data"
    }
   ],
   "source": [
    "copo = CopoVonKoch(lado=1,iteraciones=5)"
   ]
  },
  {
   "cell_type": "markdown",
   "metadata": {},
   "source": [
    "<div class=\"alert alert-info\">\n",
    "    \n",
    "**Ejercicio** Genera de la misma manera el [Triángulo de Sierpinski](http://en.wikipedia.org/wiki/Sierpinski_triangle)\n",
    "</div>"
   ]
  },
  {
   "cell_type": "code",
   "execution_count": 14,
   "metadata": {},
   "outputs": [
    {
     "ename": "SyntaxError",
     "evalue": "unexpected EOF while parsing (<ipython-input-14-ab544e378543>, line 17)",
     "output_type": "error",
     "traceback": [
      "\u001b[0;36m  File \u001b[0;32m\"<ipython-input-14-ab544e378543>\"\u001b[0;36m, line \u001b[0;32m17\u001b[0m\n\u001b[0;31m    def _generar(self):\u001b[0m\n\u001b[0m                       ^\u001b[0m\n\u001b[0;31mSyntaxError\u001b[0m\u001b[0;31m:\u001b[0m unexpected EOF while parsing\n"
     ]
    }
   ],
   "source": [
    "class Triangulo_sierpinski:\n",
    "    def __init__(self, iteraciones, lado = 1): \n",
    "        self.lado = lado\n",
    "        self.iteraciones = iteraciones \n",
    "        \n",
    "        self.x_vertice1 = 0\n",
    "        self.y_vertice1 = 0\n",
    "        \n",
    "        self.x_vertice2 = lado \n",
    "        self.y_vertice2 = 0\n",
    "        \n",
    "        self.x_vertice3 = lado * np.cos(np.pi / 3.0)\n",
    "        self.y_vertice3 = lado * np.sin(np.pi / 3.0)\n",
    "        \n",
    "        self._generar(self.iteraciones, self.x_vertice1, self.y_vertice1,\\\n",
    "                     self.x_vertice2, self.y_vertice2, \\\n",
    "                     self.x_vertice3, self.y_vertice3) #generamos el triángulo dados 3 vértices\n",
    "    \n",
    "    def mid_point(x1, y1, x2, y2):\n",
    "        return (x1+x2)/2.0, (y1+y2)/2.0\n",
    "    \n",
    "    def generar(self, iteracion, x1, y1, x2, y2, x3, y3):\n",
    "        if iteracion > 0:\n",
    "            plot([x1, x2], [y1, y2], lw=1.0, color='black')\n",
    "            plot([x2, x3], [y2, y3], lw=1.0, color='black')\n",
    "            plot([x3, x1], [y3, y1], lw=1.0, color='black') \n",
    "            self.generar(iteracion -1, x1, y1, (x1+x2)/2, (y1+y2)/2, (x1+x3)/2, (y1+y3)/2)\n",
    "            self.generar(iteracion -1, (x1+x2)/2, (y1+y2)/2, x2, y2, (x2+x3)/2, (y2+y3)/2)\n",
    "            self.generar(iteracion -1, (x1+x3)/2, (y1+y3)/2, (x2+x3)/2, (y2+y3)/2, x3, y3)\n",
    "        pass \n",
    "        "
   ]
  },
  {
   "cell_type": "markdown",
   "metadata": {},
   "source": [
    "## El juego del Caos"
   ]
  },
  {
   "cell_type": "markdown",
   "metadata": {},
   "source": [
    "### Algoritmo"
   ]
  },
  {
   "cell_type": "markdown",
   "metadata": {},
   "source": [
    "1. Escoge 3 puntos en el plano (formando un triángulo)\n",
    "2. Escoge unos de los vértices como el punto inicial.\n",
    "3. Escoge al azar otro vértice del triángulo.\n",
    "4. Muévete en esa dirección la mitad de la distancia.\n",
    "5. Marca el punto.\n",
    "6. Repite desde el paso 3."
   ]
  },
  {
   "cell_type": "code",
   "execution_count": null,
   "metadata": {},
   "outputs": [],
   "source": [
    "import video_tag"
   ]
  },
  {
   "cell_type": "code",
   "execution_count": null,
   "metadata": {},
   "outputs": [],
   "source": [
    "class ChaosGame(object):\n",
    "    def __init__(self, esquinas=[[0.0, 0.0], [4.0, 8.0], [8.0, 0.0]], steps=10):\n",
    "        self.esquinas = np.array(esquinas)\n",
    "        \n",
    "        self.steps = steps\n",
    "        \n",
    "        self.fig, self.ax = plt.subplots()\n",
    "        \n",
    "        self.ani = animation.FuncAnimation(self.fig, self.update, \n",
    "                                           interval=100, frames=self.steps, init_func=self.setup_plot,\n",
    "                                           blit=True)\n",
    "                \n",
    "        self.punto_actual = random.choice(self.esquinas) # Elegimos un vértice de inicio\n",
    "        \n",
    "        self.puntos = self.punto_actual\n",
    "\n",
    "    def setup_plot(self):\n",
    "        self.line, = plot([], [], linestyle='none', marker='o', color='r', markersize=3)\n",
    "        self.ax.axis([0,10,0,10])\n",
    "        \n",
    "        self.ax.set_yticklabels([])\n",
    "        self.ax.set_xticklabels([])\n",
    "        self.ax.set_yticks([])\n",
    "        self.ax.set_xticks([])\n",
    "        \n",
    "        return self.line,\n",
    "        \n",
    "    def show(self):\n",
    "        plt.show()\n",
    "        \n",
    "    def next_point(self):\n",
    "        target_point = random.choice(self.esquinas)\n",
    "        return (target_point + self.punto_actual)/2\n",
    "           \n",
    "    def update(self, i):\n",
    "        self.punto_actual = self.next_point()\n",
    "        self.puntos = np.vstack((self.puntos, self.punto_actual))\n",
    "        self.line.set_data(self.puntos[:,:1], self.puntos[:,1:])\n",
    "        \n",
    "        return self.line,"
   ]
  },
  {
   "cell_type": "code",
   "execution_count": null,
   "metadata": {},
   "outputs": [],
   "source": [
    "a = ChaosGame(steps=1000)"
   ]
  },
  {
   "cell_type": "code",
   "execution_count": null,
   "metadata": {},
   "outputs": [],
   "source": [
    "HTML(a.ani.to_html5_video())"
   ]
  },
  {
   "cell_type": "code",
   "execution_count": null,
   "metadata": {},
   "outputs": [],
   "source": []
  }
 ],
 "metadata": {
  "kernelspec": {
   "display_name": "Python 3",
   "language": "python",
   "name": "python3"
  },
  "language_info": {
   "codemirror_mode": {
    "name": "ipython",
    "version": 3
   },
   "file_extension": ".py",
   "mimetype": "text/x-python",
   "name": "python",
   "nbconvert_exporter": "python",
   "pygments_lexer": "ipython3",
   "version": "3.8.5"
  }
 },
 "nbformat": 4,
 "nbformat_minor": 1
}
