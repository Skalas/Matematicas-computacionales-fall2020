{
 "cells": [
  {
   "cell_type": "markdown",
   "metadata": {},
   "source": [
    "# Algebra Lineal"
   ]
  },
  {
   "cell_type": "code",
   "execution_count": 1,
   "metadata": {},
   "outputs": [
    {
     "name": "stdout",
     "output_type": "stream",
     "text": [
      "Populating the interactive namespace from numpy and matplotlib\n"
     ]
    }
   ],
   "source": [
    "%pylab inline\n",
    "import numpy as np\n",
    "import matplotlib.pyplot as plt\n",
    "import scipy.linalg # Biblioteca para algebra lineal"
   ]
  },
  {
   "cell_type": "markdown",
   "metadata": {},
   "source": [
    "## Algebra de matrices"
   ]
  },
  {
   "cell_type": "markdown",
   "metadata": {},
   "source": [
    "Los arreglos de **numpy** no se comportan como las _matrices_ de sus clases de algebra lineal.\n",
    "\n",
    "En lugar de ello, hacen _broadcasting_, como hemos visto en las clases pasadas. Recordemos que _broadcasting_ es mapear las operaciones a cada uno de los elementos del arreglo (_array_)."
   ]
  },
  {
   "cell_type": "markdown",
   "metadata": {},
   "source": [
    "¿Pero que pasa si queremos hacer operaciones matriciales? Bueno, **numpy** nos ofrece las siguientes opciones.\n",
    "\n",
    "Definamos el arreglo $\\textbf{A}$"
   ]
  },
  {
   "cell_type": "code",
   "execution_count": 2,
   "metadata": {},
   "outputs": [
    {
     "data": {
      "text/plain": [
       "array([[11, 12, 13, 14],\n",
       "       [21, 22, 23, 24],\n",
       "       [31, 32, 33, 34],\n",
       "       [41, 42, 43, 44]])"
      ]
     },
     "execution_count": 2,
     "metadata": {},
     "output_type": "execute_result"
    }
   ],
   "source": [
    "A = array([[n+m*10 for n in range(1,5)] for m in range(1,5)])\n",
    "\n",
    "A"
   ]
  },
  {
   "cell_type": "markdown",
   "metadata": {},
   "source": [
    "El arreglo $\\textbf{A}$, es eso, un arreglo (_array_), es el mismo objeto que hemos visto con anterioridad. **Numpy** soporta (en beneficio de los usuarios de `matlab`/`GNU Octave`) el objeto `matrix`."
   ]
  },
  {
   "cell_type": "code",
   "execution_count": 3,
   "metadata": {},
   "outputs": [
    {
     "data": {
      "text/plain": [
       "matrix([[11, 12, 13, 14],\n",
       "        [21, 22, 23, 24],\n",
       "        [31, 32, 33, 34],\n",
       "        [41, 42, 43, 44]])"
      ]
     },
     "execution_count": 3,
     "metadata": {},
     "output_type": "execute_result"
    }
   ],
   "source": [
    "Am = np.matrix(A)\n",
    "Am"
   ]
  },
  {
   "cell_type": "markdown",
   "metadata": {},
   "source": [
    "<div class=\"alert alert-warning\">\n",
    "Como probablemente en un futuro se topen con cosas de `matlab / GNU Octave` les recomiendo esta [liga](http://wiki.scipy.org/NumPy_for_Matlab_Users)\n",
    "</div>"
   ]
  },
  {
   "cell_type": "markdown",
   "metadata": {},
   "source": [
    "Nada nuevo en cuanto las dimensiones de $\\textbf{A}$ y $A_m$:"
   ]
  },
  {
   "cell_type": "code",
   "execution_count": 4,
   "metadata": {},
   "outputs": [
    {
     "name": "stdout",
     "output_type": "stream",
     "text": [
      "(4, 4)\n",
      "(4, 4)\n"
     ]
    }
   ],
   "source": [
    "print(A.shape)\n",
    "print(Am.shape)"
   ]
  },
  {
   "cell_type": "markdown",
   "metadata": {},
   "source": [
    "Pero recordemos de la clase pasada que el _slicing_ devuelve arreglos unidimensionales "
   ]
  },
  {
   "cell_type": "code",
   "execution_count": 5,
   "metadata": {},
   "outputs": [
    {
     "name": "stdout",
     "output_type": "stream",
     "text": [
      "[11 21 31 41]\n",
      "(4,)\n"
     ]
    }
   ],
   "source": [
    "y = A[:, 0]\n",
    "print(y)\n",
    "print(y.shape)"
   ]
  },
  {
   "cell_type": "markdown",
   "metadata": {},
   "source": [
    "En lugar de arreglos bidimensionales (Recuerden sus clases de algebra lineal y piensen en lo que llaman _vectores_...)"
   ]
  },
  {
   "cell_type": "code",
   "execution_count": 6,
   "metadata": {},
   "outputs": [
    {
     "name": "stdout",
     "output_type": "stream",
     "text": [
      "[[11]\n",
      " [21]\n",
      " [31]\n",
      " [41]]\n",
      "(4, 1)\n"
     ]
    }
   ],
   "source": [
    "ym = Am[:,0]\n",
    "print(ym)\n",
    "print(ym.shape)"
   ]
  },
  {
   "cell_type": "markdown",
   "metadata": {},
   "source": [
    "Obviamente este comportamiento se puede simular con arreglos y _slicing_, pero es más elaborado:"
   ]
  },
  {
   "cell_type": "code",
   "execution_count": 7,
   "metadata": {},
   "outputs": [
    {
     "name": "stdout",
     "output_type": "stream",
     "text": [
      "[[11]\n",
      " [21]\n",
      " [31]\n",
      " [41]]\n",
      "(4, 1)\n"
     ]
    }
   ],
   "source": [
    "y = A[:,:1]\n",
    "print(y)\n",
    "print(y.shape)"
   ]
  },
  {
   "cell_type": "markdown",
   "metadata": {},
   "source": [
    "Las operaciones en matrices (usando la clase `matrix`) son como sigue:"
   ]
  },
  {
   "cell_type": "code",
   "execution_count": 8,
   "metadata": {},
   "outputs": [
    {
     "data": {
      "text/plain": [
       "matrix([[1350],\n",
       "        [2390],\n",
       "        [3430],\n",
       "        [4470]])"
      ]
     },
     "execution_count": 8,
     "metadata": {},
     "output_type": "execute_result"
    }
   ],
   "source": [
    "Am*ym"
   ]
  },
  {
   "cell_type": "code",
   "execution_count": 9,
   "metadata": {},
   "outputs": [
    {
     "ename": "ValueError",
     "evalue": "shapes (4,1) and (4,4) not aligned: 1 (dim 1) != 4 (dim 0)",
     "output_type": "error",
     "traceback": [
      "\u001b[0;31m---------------------------------------------------------------------------\u001b[0m",
      "\u001b[0;31mValueError\u001b[0m                                Traceback (most recent call last)",
      "\u001b[0;32m<ipython-input-9-aad9837804b9>\u001b[0m in \u001b[0;36m<module>\u001b[0;34m\u001b[0m\n\u001b[0;32m----> 1\u001b[0;31m \u001b[0mym\u001b[0m\u001b[0;34m*\u001b[0m\u001b[0mAm\u001b[0m\u001b[0;34m\u001b[0m\u001b[0;34m\u001b[0m\u001b[0m\n\u001b[0m",
      "\u001b[0;32m/opt/conda/lib/python3.8/site-packages/numpy/matrixlib/defmatrix.py\u001b[0m in \u001b[0;36m__mul__\u001b[0;34m(self, other)\u001b[0m\n\u001b[1;32m    216\u001b[0m         \u001b[0;32mif\u001b[0m \u001b[0misinstance\u001b[0m\u001b[0;34m(\u001b[0m\u001b[0mother\u001b[0m\u001b[0;34m,\u001b[0m \u001b[0;34m(\u001b[0m\u001b[0mN\u001b[0m\u001b[0;34m.\u001b[0m\u001b[0mndarray\u001b[0m\u001b[0;34m,\u001b[0m \u001b[0mlist\u001b[0m\u001b[0;34m,\u001b[0m \u001b[0mtuple\u001b[0m\u001b[0;34m)\u001b[0m\u001b[0;34m)\u001b[0m \u001b[0;34m:\u001b[0m\u001b[0;34m\u001b[0m\u001b[0;34m\u001b[0m\u001b[0m\n\u001b[1;32m    217\u001b[0m             \u001b[0;31m# This promotes 1-D vectors to row vectors\u001b[0m\u001b[0;34m\u001b[0m\u001b[0;34m\u001b[0m\u001b[0;34m\u001b[0m\u001b[0m\n\u001b[0;32m--> 218\u001b[0;31m             \u001b[0;32mreturn\u001b[0m \u001b[0mN\u001b[0m\u001b[0;34m.\u001b[0m\u001b[0mdot\u001b[0m\u001b[0;34m(\u001b[0m\u001b[0mself\u001b[0m\u001b[0;34m,\u001b[0m \u001b[0masmatrix\u001b[0m\u001b[0;34m(\u001b[0m\u001b[0mother\u001b[0m\u001b[0;34m)\u001b[0m\u001b[0;34m)\u001b[0m\u001b[0;34m\u001b[0m\u001b[0;34m\u001b[0m\u001b[0m\n\u001b[0m\u001b[1;32m    219\u001b[0m         \u001b[0;32mif\u001b[0m \u001b[0misscalar\u001b[0m\u001b[0;34m(\u001b[0m\u001b[0mother\u001b[0m\u001b[0;34m)\u001b[0m \u001b[0;32mor\u001b[0m \u001b[0;32mnot\u001b[0m \u001b[0mhasattr\u001b[0m\u001b[0;34m(\u001b[0m\u001b[0mother\u001b[0m\u001b[0;34m,\u001b[0m \u001b[0;34m'__rmul__'\u001b[0m\u001b[0;34m)\u001b[0m \u001b[0;34m:\u001b[0m\u001b[0;34m\u001b[0m\u001b[0;34m\u001b[0m\u001b[0m\n\u001b[1;32m    220\u001b[0m             \u001b[0;32mreturn\u001b[0m \u001b[0mN\u001b[0m\u001b[0;34m.\u001b[0m\u001b[0mdot\u001b[0m\u001b[0;34m(\u001b[0m\u001b[0mself\u001b[0m\u001b[0;34m,\u001b[0m \u001b[0mother\u001b[0m\u001b[0;34m)\u001b[0m\u001b[0;34m\u001b[0m\u001b[0;34m\u001b[0m\u001b[0m\n",
      "\u001b[0;32m<__array_function__ internals>\u001b[0m in \u001b[0;36mdot\u001b[0;34m(*args, **kwargs)\u001b[0m\n",
      "\u001b[0;31mValueError\u001b[0m: shapes (4,1) and (4,4) not aligned: 1 (dim 1) != 4 (dim 0)"
     ]
    }
   ],
   "source": [
    "ym*Am"
   ]
  },
  {
   "cell_type": "markdown",
   "metadata": {},
   "source": [
    "<div class=\"alert alert-info\">\n",
    "**Ejercicio** ¿Por qué no funcionó?\n",
    "</div>"
   ]
  },
  {
   "cell_type": "code",
   "execution_count": 10,
   "metadata": {},
   "outputs": [
    {
     "data": {
      "text/plain": [
       "matrix([[11, 21, 31, 41]])"
      ]
     },
     "execution_count": 10,
     "metadata": {},
     "output_type": "execute_result"
    }
   ],
   "source": [
    "ym.T"
   ]
  },
  {
   "cell_type": "code",
   "execution_count": 11,
   "metadata": {},
   "outputs": [
    {
     "data": {
      "text/plain": [
       "matrix([[11, 21, 31, 41],\n",
       "        [12, 22, 32, 42],\n",
       "        [13, 23, 33, 43],\n",
       "        [14, 24, 34, 44]])"
      ]
     },
     "execution_count": 11,
     "metadata": {},
     "output_type": "execute_result"
    }
   ],
   "source": [
    "Am.T"
   ]
  },
  {
   "cell_type": "markdown",
   "metadata": {},
   "source": [
    "Una operación común es el producto $y^T A y$ (esto es simplemente el _producto interno_)"
   ]
  },
  {
   "cell_type": "code",
   "execution_count": 12,
   "metadata": {},
   "outputs": [
    {
     "data": {
      "text/plain": [
       "matrix([[354640]])"
      ]
     },
     "execution_count": 12,
     "metadata": {},
     "output_type": "execute_result"
    }
   ],
   "source": [
    "ym.T*Am*ym"
   ]
  },
  {
   "cell_type": "code",
   "execution_count": 13,
   "metadata": {},
   "outputs": [
    {
     "data": {
      "text/plain": [
       "matrix([[1350, 1400, 1450, 1500],\n",
       "        [2390, 2480, 2570, 2660],\n",
       "        [3430, 3560, 3690, 3820],\n",
       "        [4470, 4640, 4810, 4980]])"
      ]
     },
     "execution_count": 13,
     "metadata": {},
     "output_type": "execute_result"
    }
   ],
   "source": [
    "Am*Am"
   ]
  },
  {
   "cell_type": "code",
   "execution_count": 14,
   "metadata": {},
   "outputs": [
    {
     "data": {
      "text/plain": [
       "matrix([[1350, 1400, 1450, 1500],\n",
       "        [2390, 2480, 2570, 2660],\n",
       "        [3430, 3560, 3690, 3820],\n",
       "        [4470, 4640, 4810, 4980]])"
      ]
     },
     "execution_count": 14,
     "metadata": {},
     "output_type": "execute_result"
    }
   ],
   "source": [
    "Am**2 # Esto es equivalente a Am * Am"
   ]
  },
  {
   "cell_type": "code",
   "execution_count": 15,
   "metadata": {},
   "outputs": [
    {
     "data": {
      "text/plain": [
       "matrix([[22, 23, 24, 25],\n",
       "        [42, 43, 44, 45],\n",
       "        [62, 63, 64, 65],\n",
       "        [82, 83, 84, 85]])"
      ]
     },
     "execution_count": 15,
     "metadata": {},
     "output_type": "execute_result"
    }
   ],
   "source": [
    "Am + ym"
   ]
  },
  {
   "cell_type": "code",
   "execution_count": null,
   "metadata": {},
   "outputs": [],
   "source": [
    "Am**(-1)"
   ]
  },
  {
   "cell_type": "code",
   "execution_count": 16,
   "metadata": {},
   "outputs": [
    {
     "data": {
      "text/plain": [
       "matrix([[1., 0., 0., 0.],\n",
       "        [0., 1., 0., 0.],\n",
       "        [0., 0., 1., 0.],\n",
       "        [0., 0., 0., 1.]])"
      ]
     },
     "execution_count": 16,
     "metadata": {},
     "output_type": "execute_result"
    }
   ],
   "source": [
    "Id = matrix(np.identity(4))\n",
    "Id"
   ]
  },
  {
   "cell_type": "markdown",
   "metadata": {},
   "source": [
    "### Soluciones de sistemas de ecuaciones"
   ]
  },
  {
   "cell_type": "markdown",
   "metadata": {},
   "source": [
    "Los sistemas de ecuaciones lineales se pueden plantear como un problema matricial, del tipo $\\textbf{A}\\textbf{x} = \\textbf{B}$, por ejemplo:"
   ]
  },
  {
   "cell_type": "markdown",
   "metadata": {},
   "source": [
    "$3x + 6y -5z = 12$\n",
    "\n",
    "$x - 3y + 2z = -2$\n",
    "\n",
    "$5x -y + 4z = 10$"
   ]
  },
  {
   "cell_type": "markdown",
   "metadata": {},
   "source": [
    "La solución de las ecuaciones matriciales $\\textbf{A}\\textbf{x} = \\textbf{B}$, es $\\textbf{x} = \\textbf{A}^{-1}\\textbf{B}$ (Si la matriz $\\textbf{A}$ es invertible, claro está)"
   ]
  },
  {
   "cell_type": "code",
   "execution_count": 17,
   "metadata": {},
   "outputs": [
    {
     "data": {
      "text/plain": [
       "matrix([[ 3,  6, -5],\n",
       "        [ 1, -3,  2],\n",
       "        [ 5, -1,  4]])"
      ]
     },
     "execution_count": 17,
     "metadata": {},
     "output_type": "execute_result"
    }
   ],
   "source": [
    "A = np.matrix([[3,6,-5],\n",
    "              [1,-3,2],\n",
    "              [5,-1,4]])\n",
    "A"
   ]
  },
  {
   "cell_type": "code",
   "execution_count": 21,
   "metadata": {},
   "outputs": [
    {
     "data": {
      "text/plain": [
       "matrix([[12],\n",
       "        [-2],\n",
       "        [10]])"
      ]
     },
     "execution_count": 21,
     "metadata": {},
     "output_type": "execute_result"
    }
   ],
   "source": [
    "B = np.matrix([[12],\n",
    "               [-2],\n",
    "               [10]])\n",
    "B"
   ]
  },
  {
   "cell_type": "code",
   "execution_count": 22,
   "metadata": {},
   "outputs": [
    {
     "name": "stdout",
     "output_type": "stream",
     "text": [
      "[[1.75]\n",
      " [1.75]\n",
      " [0.75]]\n"
     ]
    }
   ],
   "source": [
    "x = A**(-1)*B\n",
    "print(x)"
   ]
  },
  {
   "cell_type": "code",
   "execution_count": 23,
   "metadata": {},
   "outputs": [
    {
     "data": {
      "text/plain": [
       "matrix([[12.],\n",
       "        [-2.],\n",
       "        [10.]])"
      ]
     },
     "execution_count": 23,
     "metadata": {},
     "output_type": "execute_result"
    }
   ],
   "source": [
    "A*x"
   ]
  },
  {
   "cell_type": "markdown",
   "metadata": {},
   "source": [
    "<div class=\"alert alert-danger\">\n",
    "Es importante tener en mente que las matrices generalmente no son invertibles, por lo que este método de solución, no siempre funciona. \n",
    "</div>"
   ]
  },
  {
   "cell_type": "markdown",
   "metadata": {},
   "source": [
    "<div class=\"alert alert-danger\">\n",
    "El invertir matrices es un proceso largo y pesado que además puede ser demasiado cálculo para lo que se requiere. \n",
    "</div>"
   ]
  },
  {
   "cell_type": "markdown",
   "metadata": {},
   "source": [
    "### Transformaciones"
   ]
  },
  {
   "cell_type": "code",
   "execution_count": null,
   "metadata": {},
   "outputs": [],
   "source": [
    "A = np.matrix(\"1,2,3;4,5,6\")\n",
    "A"
   ]
  },
  {
   "cell_type": "code",
   "execution_count": null,
   "metadata": {},
   "outputs": [],
   "source": [
    "C = matrix([[1j, 2j], [3j, 4j]])\n",
    "C"
   ]
  },
  {
   "cell_type": "markdown",
   "metadata": {},
   "source": [
    "El conjugado de una matriz compleja $\\textbf{C}$"
   ]
  },
  {
   "cell_type": "code",
   "execution_count": null,
   "metadata": {},
   "outputs": [],
   "source": [
    "conjugate(C)"
   ]
  },
  {
   "cell_type": "markdown",
   "metadata": {},
   "source": [
    "El _hermitianno_ de una matriz (es decir, el _conjugado_ y la _traspuesta_)"
   ]
  },
  {
   "cell_type": "code",
   "execution_count": null,
   "metadata": {},
   "outputs": [],
   "source": [
    "C.H"
   ]
  },
  {
   "cell_type": "code",
   "execution_count": null,
   "metadata": {},
   "outputs": [],
   "source": [
    "(conjugate(C)).T"
   ]
  },
  {
   "cell_type": "markdown",
   "metadata": {},
   "source": [
    "El _hermitiano_ de una matriz real (como $\\textbf{A}$) es simplemente la _traspuesta_"
   ]
  },
  {
   "cell_type": "code",
   "execution_count": null,
   "metadata": {},
   "outputs": [],
   "source": [
    "print( A.H )\n",
    "print (A.T)"
   ]
  },
  {
   "cell_type": "markdown",
   "metadata": {},
   "source": [
    "La parte $\\Re$ e $\\Im$ de una matriz es"
   ]
  },
  {
   "cell_type": "code",
   "execution_count": null,
   "metadata": {},
   "outputs": [],
   "source": [
    "real(C) # también funciona C.real"
   ]
  },
  {
   "cell_type": "code",
   "execution_count": null,
   "metadata": {},
   "outputs": [],
   "source": [
    "imag(C) # también funciona C.imag"
   ]
  },
  {
   "cell_type": "code",
   "execution_count": null,
   "metadata": {},
   "outputs": [],
   "source": [
    "A.imag"
   ]
  },
  {
   "cell_type": "markdown",
   "metadata": {},
   "source": [
    "La inversa de una matriz"
   ]
  },
  {
   "cell_type": "code",
   "execution_count": null,
   "metadata": {},
   "outputs": [],
   "source": [
    "inv(C)"
   ]
  },
  {
   "cell_type": "code",
   "execution_count": null,
   "metadata": {},
   "outputs": [],
   "source": [
    "C.I"
   ]
  },
  {
   "cell_type": "code",
   "execution_count": null,
   "metadata": {},
   "outputs": [],
   "source": [
    "C*C.I"
   ]
  },
  {
   "cell_type": "code",
   "execution_count": null,
   "metadata": {},
   "outputs": [],
   "source": [
    "inv(C)*C"
   ]
  },
  {
   "cell_type": "markdown",
   "metadata": {},
   "source": [
    "### Determinantes"
   ]
  },
  {
   "cell_type": "code",
   "execution_count": 24,
   "metadata": {},
   "outputs": [
    {
     "data": {
      "text/plain": [
       "matrix([[1, 2],\n",
       "        [3, 4]])"
      ]
     },
     "execution_count": 24,
     "metadata": {},
     "output_type": "execute_result"
    }
   ],
   "source": [
    "A = np.matrix([[1,2],[3,4]])\n",
    "A"
   ]
  },
  {
   "cell_type": "code",
   "execution_count": 25,
   "metadata": {},
   "outputs": [
    {
     "data": {
      "text/plain": [
       "-2.0000000000000004"
      ]
     },
     "execution_count": 25,
     "metadata": {},
     "output_type": "execute_result"
    }
   ],
   "source": [
    "np.linalg.det(A)"
   ]
  },
  {
   "cell_type": "code",
   "execution_count": 26,
   "metadata": {},
   "outputs": [
    {
     "data": {
      "text/plain": [
       "matrix([[1, 2, 3],\n",
       "        [4, 5, 6],\n",
       "        [7, 8, 9]])"
      ]
     },
     "execution_count": 26,
     "metadata": {},
     "output_type": "execute_result"
    }
   ],
   "source": [
    "B = np.arange(1,10).reshape(3,3)\n",
    "B = np.matrix(B)\n",
    "B"
   ]
  },
  {
   "cell_type": "code",
   "execution_count": 27,
   "metadata": {},
   "outputs": [
    {
     "data": {
      "text/plain": [
       "0.0"
      ]
     },
     "execution_count": 27,
     "metadata": {},
     "output_type": "execute_result"
    }
   ],
   "source": [
    "np.linalg.det(B)"
   ]
  },
  {
   "cell_type": "markdown",
   "metadata": {},
   "source": [
    "<div class=\"alert alert-info\">\n",
    "Sean las matrices $\\textbf{A}$ y $\\textbf{B}$ definidas abajo, compruebe las propiedades $1-6$ de los determinantes como se muestran en la página de la [Wikipedia](http://en.wikipedia.org/wiki/Determinant)\n",
    "</div>"
   ]
  },
  {
   "cell_type": "code",
   "execution_count": null,
   "metadata": {},
   "outputs": [],
   "source": [
    "A = np.matrix([[-2,2,-3],\n",
    "               [-1,1,3],\n",
    "               [2,0,-1]])\n",
    "print(A)"
   ]
  },
  {
   "cell_type": "code",
   "execution_count": null,
   "metadata": {},
   "outputs": [],
   "source": [
    "B = np.matrix([[5, -3, 2],\n",
    "               [1,0,2],\n",
    "               [2,-1,3]])\n",
    "print(B)"
   ]
  },
  {
   "cell_type": "markdown",
   "metadata": {},
   "source": [
    "<div class=\"alert alert-info\">\n",
    "**Ejercicio**: Resuelva el sistema de ecuaciones lineales mostrado anteriormente, pero usando la [**Regla de Cramer**](http://en.wikipedia.org/wiki/Cramer's_rule)\n",
    "</div>"
   ]
  },
  {
   "cell_type": "markdown",
   "metadata": {},
   "source": [
    "El módulo `scipy.linalg` permite la creación de matrices especiales, tales como matrices diagonales de bloques `block_diag`, matrices circulantes `circulant`, matrices _companion_ (`companion`), matrices de Hadamard (`hadamard`), Hankel (`hankel`), Hilbert (`hilbert`), Hilbert invertida (`invhilbert`), Leslie (`leslie`), Toeplitz (`toeplitz`) y matrices triangulares (`tri`, `tril`, `triu`)."
   ]
  },
  {
   "cell_type": "markdown",
   "metadata": {},
   "source": [
    "### Eigenvalores y eigenvectores"
   ]
  },
  {
   "cell_type": "markdown",
   "metadata": {},
   "source": [
    "El cálculo de _eigenvectores_ y _eigenvalores_ es uno de los más complicados (y útiles) a realizarse en matrices cuadradas. **SciPy** posee varias rutinas para calcularlas:\n",
    "\n",
    "- `eigvals`\n",
    "\n",
    "- `eigvalsh`\n",
    "\n",
    "- `eigvals_banded`\n",
    "\n",
    "Y los respectivos métodos para _eigenvectores_: `eig`, `eigh` y `eigh_banded`."
   ]
  },
  {
   "cell_type": "markdown",
   "metadata": {},
   "source": [
    "<div class=\"alert alert-info\">\n",
    "**Ejercicio:** Calcule los _eigenvectores_ e _eigenvalores_ de las siguientes matrices usando los diferentes métodos.\n",
    "\n",
    "- $$ A =  \\left[\\begin{matrix} 4 & 6 & 4\\\\-2 & -3 & -4\\\\0 & 0 & 2\\end{matrix}\\right] $$\n",
    "\n",
    "- $$ B = \\left[\\begin{matrix} 1 & 2 & 0\\\\0 & 1 & 2\\\\0 & 0 & 1\\end{matrix}\\right] $$\n",
    "\n",
    "**NOTA** Si es posible, utilice los métodos de creación de matrices especiales.\n",
    "\n",
    "</div>"
   ]
  },
  {
   "cell_type": "markdown",
   "metadata": {},
   "source": [
    "### Algebra lineal simbólica"
   ]
  },
  {
   "cell_type": "markdown",
   "metadata": {},
   "source": [
    "Es posible manipular algebraicamente a matrices de expresiones simbólicas, usando la clase de `Matrix` de **SimPy** . "
   ]
  },
  {
   "cell_type": "code",
   "execution_count": null,
   "metadata": {},
   "outputs": [],
   "source": [
    "from ipywidgets import interact\n",
    "from IPython.display import display"
   ]
  },
  {
   "cell_type": "markdown",
   "metadata": {},
   "source": [
    "<div class=\"alert alert-danger\">\n",
    "Cuando se trabaja con **Sympy** **no** se puede usar  `%pylab inline` ya que `%pylab%` importa variables que entraran en conflicto con **Sympy**. Es mejor usar, `%matplotlib inline` e importar `numpy` y `matplotlib`.\n",
    "</div>"
   ]
  },
  {
   "cell_type": "code",
   "execution_count": null,
   "metadata": {},
   "outputs": [],
   "source": [
    "%matplotlib inline\n",
    "import numpy as np\n",
    "import matplotlib.pyplot as plt"
   ]
  },
  {
   "cell_type": "code",
   "execution_count": null,
   "metadata": {},
   "outputs": [],
   "source": [
    "from sympy import *"
   ]
  },
  {
   "cell_type": "code",
   "execution_count": null,
   "metadata": {},
   "outputs": [],
   "source": [
    "init_printing(use_latex='mathjax')"
   ]
  },
  {
   "cell_type": "code",
   "execution_count": null,
   "metadata": {},
   "outputs": [],
   "source": [
    "x = Symbol('x')\n",
    "y = Symbol('y')\n"
   ]
  },
  {
   "cell_type": "code",
   "execution_count": null,
   "metadata": {},
   "outputs": [],
   "source": [
    "A = Matrix([[1,x], [y,1]])\n",
    "A"
   ]
  },
  {
   "cell_type": "code",
   "execution_count": null,
   "metadata": {},
   "outputs": [],
   "source": [
    "A[0,0]"
   ]
  },
  {
   "cell_type": "code",
   "execution_count": null,
   "metadata": {},
   "outputs": [],
   "source": [
    "A[:,1]"
   ]
  },
  {
   "cell_type": "code",
   "execution_count": null,
   "metadata": {},
   "outputs": [],
   "source": [
    "A**2"
   ]
  },
  {
   "cell_type": "code",
   "execution_count": null,
   "metadata": {},
   "outputs": [],
   "source": [
    "A.inv()"
   ]
  },
  {
   "cell_type": "code",
   "execution_count": null,
   "metadata": {},
   "outputs": [],
   "source": [
    "I = A.inv()*A\n",
    "I"
   ]
  },
  {
   "cell_type": "code",
   "execution_count": null,
   "metadata": {},
   "outputs": [],
   "source": [
    "I = simplify(I)\n",
    "I"
   ]
  },
  {
   "cell_type": "markdown",
   "metadata": {},
   "source": [
    "Para matrices pequeñas, puedes calcular los _eigenvalores_ simbólicamente."
   ]
  },
  {
   "cell_type": "code",
   "execution_count": null,
   "metadata": {},
   "outputs": [],
   "source": [
    "A.eigenvals()"
   ]
  },
  {
   "cell_type": "code",
   "execution_count": null,
   "metadata": {},
   "outputs": [],
   "source": [
    "A.subs({x:0, y:1})"
   ]
  },
  {
   "cell_type": "markdown",
   "metadata": {},
   "source": [
    "<div class=\"alert alert-info\">\n",
    "**Ejercicio**: Cree matrices de $3\\times3$ de *Hilbert*, *Leslie* y *Circulantes* y muéstrelas de manera simbólica.\n",
    "</div>"
   ]
  },
  {
   "cell_type": "markdown",
   "metadata": {},
   "source": [
    "## Ejemplos"
   ]
  },
  {
   "cell_type": "markdown",
   "metadata": {},
   "source": [
    "### Procesamiento de imágenes"
   ]
  },
  {
   "cell_type": "markdown",
   "metadata": {},
   "source": [
    "Vamos a representar las imágenes como matrices $\\mathbf{R}^{n\\ \\times\\  m\\  \\times\\  k}$. Usaremos primero el método decomposición de matrices conocido como [*Single Value Decomposition*](http://en.wikipedia.org/wiki/Singular_value_decomposition) (**SVD**) para reducir el tamaño de la imagen.\n",
    "\n",
    "La **SVD** de una matriz (real o compleja) $\\textbf{M}$ de $m \\times n$ es una factorización de la forma $\\textbf{M} = U\\cdot S \\cdot V^*$, en la cual $U$ es matriz $m \\times m$ unitaria, $S$ es una matriz $m \\times n$ rectangular diagonal con elementos no-negativos, y $V^*$ es la conjugada traspuesta de una matriz unitaria de $n \\times n$.\n",
    "\n",
    "A los elementos de la diagonal $S_{ii}$ of $S$ se les denomina valores singulares de $\\textbf{M}$. A las $m$ columnas de $U$ y a las $n$ de $V$ se les llama vectores singulares izquierdos o derechos, respectivamente.\n",
    "\n",
    " \n",
    "Cuando $\\textbf{M}$ es cuadrada ( $m \\times m$) y  real con determinante positivo, $U$, $V^*$, y $S$ son matrices reales de $m \\times m$, entonces $S$ puede ser interpretada como una matriz de escalamiento, y  U$, $V^*$ como matrices de rotación."
   ]
  },
  {
   "cell_type": "code",
   "execution_count": null,
   "metadata": {},
   "outputs": [],
   "source": [
    "import scipy.misc\n",
    "img = scipy.misc.face()\n",
    "plt.imshow(img)"
   ]
  },
  {
   "cell_type": "code",
   "execution_count": null,
   "metadata": {},
   "outputs": [],
   "source": [
    "img"
   ]
  },
  {
   "cell_type": "code",
   "execution_count": null,
   "metadata": {},
   "outputs": [],
   "source": [
    "shape(img)"
   ]
  },
  {
   "cell_type": "code",
   "execution_count": null,
   "metadata": {},
   "outputs": [],
   "source": [
    "U, S, Vs = scipy.linalg.svd(img[:,:,2])\n",
    "print(U.shape)\n",
    "print(S.shape)\n",
    "print(Vs.shape)"
   ]
  },
  {
   "cell_type": "markdown",
   "metadata": {},
   "source": [
    "La matriz $S$ está representada como una matriz _sparse_. Como queremos hacer una compresión de la imagen, sólo nos quedaremos con $32$ de los _valores singulares_. Creamos una nueva matriz cuyos elementos están dados por la siguiente fórmula:\n",
    "\n",
    "$$ \\Sigma^k_{j = 1} \\quad s_j(u_j \\cdot v_j) $$\n",
    "\n",
    "\n",
    "donde, $s$ son los valores singulares, $u$ y $v$ son los vectores singulares."
   ]
  },
  {
   "cell_type": "code",
   "execution_count": null,
   "metadata": {},
   "outputs": [],
   "source": [
    "A = numpy.dot( U[:, 0:32], numpy.dot(numpy.diag(S[0:32]), Vs[0:32,:]))"
   ]
  },
  {
   "cell_type": "code",
   "execution_count": null,
   "metadata": {},
   "outputs": [],
   "source": [
    "plt.subplot(121, aspect='equal'); plt.imshow(img);\n",
    "plt.gray()\n",
    "\n",
    "plt.subplot(122, aspect='equal'); plt.imshow(A);"
   ]
  },
  {
   "cell_type": "markdown",
   "metadata": {},
   "source": [
    "### Autómatas Celulares"
   ]
  },
  {
   "cell_type": "markdown",
   "metadata": {},
   "source": [
    "Un [autómata celular](http://en.wikipedia.org/wiki/Cellular_automaton) (**CA**) es un modelo del mundo con física simple. Se les conoce como _autómatas celulares_ ya que el espacio está dividido en pedazos discretos, llamados _celdas_ (de ahí \"celular\") y a que computa (i.e. es un \"autómata\").\n",
    "\n",
    "Los **CA** están gobernados por _reglas_ (la física) que determina como evoluciona el sistema en el tiempo. El tiempo también está dividido en pasos (_steps_) dicretos, y la regla especifica como cambia el estado actual del \"mundo\" en el tiempo $t+1$ basado en el tiempo actual $t$."
   ]
  },
  {
   "cell_type": "markdown",
   "metadata": {},
   "source": [
    "Los **CA** fueron estudiados extensivamente a principios de los 80s por **Stephen Wolfram** (Sí, el de `Mathematica`). En particular el estudio **CA**s unidimensionales, llamadas _autómatas celulares elementales_.\n",
    "\n",
    "Un _autómata celular elemental_ es un **CA** 1D en la cual cada celda tiene dos posibles estados, y en la cual la regla tiene como entradas el estado actual de la celda y el estado de sus vecinos inmediatos (que son dos en 1D). Existen, entonces $2^3 = 8$ posibles patrones de tres celdas (_vecindad_) y $2^8 = 256$ reglas posibles.\n",
    "\n",
    "Por ejemplo:\n",
    "\n",
    "| Estado |  | | | | | | | |\n",
    "|:---|:-------------:|:-----------:|:------:|:------:|:--:|:--:|:--:|:--:|\n",
    "| Actual | 111 | 110 | 101 | 100 | 011 | 010 | 001 | 000|\n",
    "| Siguiente | 0 |0 | 1 | 1 | 0 | 0 | 1 | 0 |\n",
    "\n",
    "Wolfram sugirió nombrar las reglas usando el renglón inferior como binario. En el caso recién mostrado, es la **Regla 50**."
   ]
  },
  {
   "cell_type": "markdown",
   "metadata": {},
   "source": [
    "![Rule30](https://upload.wikimedia.org/wikipedia/commons/e/e2/One-d-cellular-automate-rule-30.gif \"ca\")\n"
   ]
  },
  {
   "cell_type": "markdown",
   "metadata": {},
   "source": [
    "El siguiente código está basado en el trabajo de Allen B. Downey. Representa un autómata celular."
   ]
  },
  {
   "cell_type": "code",
   "execution_count": null,
   "metadata": {},
   "outputs": [],
   "source": [
    "import numpy as np\n",
    "\n",
    "# Basado en el código de Allen B. Downey\n",
    "\n",
    "\n",
    "class CA(object):\n",
    "    \"\"\"Representa un autómata celular 1D.\n",
    "    \n",
    "    Los parámetros del constructor son:\n",
    "\n",
    "    rule:  Un entero del 0-255.\n",
    "    n:      Número de renglones (timesteps).\n",
    "    ratio:  Razón de los renglones a las columnas\n",
    "    \"\"\"\n",
    "\n",
    "    def __init__(self, rule, n=100, ratio=2):\n",
    "        \"\"\"\n",
    "        Atributos:\n",
    "        table:  Diccionario que mapea el estado, al siguiente.\n",
    "        n, m:   Renglones, columnas.\n",
    "        array:  Arreglo que contiene los datos.\n",
    "        next:   Índice del siguiente estado.\n",
    "        \"\"\"\n",
    "        self.table = self.make_table(rule)\n",
    "        self.n = n\n",
    "        self.m = ratio*n + 1\n",
    "        self.array = np.zeros((n, self.m), dtype=np.int8)\n",
    "        self.next = 0\n",
    "\n",
    "    def make_table(self, rule):\n",
    "        \"\"\"Regresa la tabla con las reglas del CA \n",
    "        (Implementada como un diccionario).\n",
    "        \"\"\"\n",
    "        table = {}\n",
    "        for i, bit in enumerate(binary(rule, 8)):\n",
    "            t = binary(7-i, 3)\n",
    "            table[t] = bit\n",
    "        return table\n",
    "    \n",
    "    def start_single(self):\n",
    "        \"\"\"La semilla es una sola y aparece a la mitad del arreglo 1D.\"\"\"\n",
    "        self.array[0, int(self.m/2)] = 1\n",
    "        self.next += 1\n",
    "\n",
    "    def start_random(self):\n",
    "        \"\"\"Valores aleatorios en el tiempo t_0\"\"\"\n",
    "        self.array[0] = np.random.random([1,self.m]).round()\n",
    "        self.next += 1\n",
    "\n",
    "    def loop(self, steps=1):\n",
    "        \"\"\"Ejecuta el número especificado de pasos.\"\"\"\n",
    "        [self.step() for i in range(steps)]\n",
    "\n",
    "    def step(self):\n",
    "        \"\"\"Avanza un paso t -> t+1.\"\"\"\n",
    "        i = self.next\n",
    "        self.next += 1\n",
    "\n",
    "        a = self.array\n",
    "        t = self.table\n",
    "        for j in range(1,self.m-1):\n",
    "            a[i,j] = t[tuple(a[i-1, j-1:j+2])]\n",
    "\n",
    "    def get_array(self, start=0, end=None):\n",
    "        \"\"\"Obtiene una rebanada de las columnas del CA.\n",
    "        \"\"\"\n",
    "        if start==0 and end==None:\n",
    "            return self.array\n",
    "        else:\n",
    "            return self.array[:, start:end]\n",
    "\n",
    "  "
   ]
  },
  {
   "cell_type": "code",
   "execution_count": null,
   "metadata": {},
   "outputs": [],
   "source": [
    "# Basado en el código de Allen B. Downey\n",
    "\n",
    "def binary(n, digits):\n",
    "    \"\"\"Regresa una tupla de enteros representando (n) en binario.\"\"\"\n",
    "    t = []\n",
    "    for i in range(digits):\n",
    "        n, r = divmod(n, 2)\n",
    "        t.append(r)\n",
    "\n",
    "    return tuple(reversed(t))\n"
   ]
  },
  {
   "cell_type": "code",
   "execution_count": null,
   "metadata": {},
   "outputs": [],
   "source": [
    "import numpy\n",
    "\n",
    "# Basado en el código de Allen B. Downey\n",
    "  \n",
    "class CADrawer(object):\n",
    "    \"\"\"Dibuja el CA usando matplotlib\"\"\"\n",
    "\n",
    "    def __init__(self):\n",
    "        # we only need to import pyplot if a PyplotDrawer\n",
    "        # gets instantiated\n",
    "        global pyplot\n",
    "        import matplotlib.pyplot as pyplot\n",
    "        \n",
    "    def draw(self, ca, start=0, end=None):\n",
    "        pyplot.figure(figsize=(8, 6), dpi=80)\n",
    "        pyplot.gray()\n",
    "        a = ca.get_array(start, end)\n",
    "        rows, cols = a.shape\n",
    "\n",
    "        # flipud puts the first row at the top; \n",
    "        # negating it makes the non-zero cells black.\n",
    "        pyplot.pcolor(-numpy.flipud(a))\n",
    "        pyplot.axis([0, cols, 0, rows])\n",
    "\n",
    "        # empty lists draw no ticks\n",
    "        pyplot.xticks([])\n",
    "        pyplot.yticks([])\n",
    "\n",
    "    def show(self):\n",
    "        \"\"\"display the pseudocolor representation of the CA\"\"\"\n",
    "        pyplot.show()\n",
    "\n",
    "    def save(self, filename='ca.png'):\n",
    "        \"\"\"save the pseudocolor representation of the CA in (filename).\"\"\"\n",
    "        pyplot.savefig(filename)\n",
    "    "
   ]
  },
  {
   "cell_type": "code",
   "execution_count": null,
   "metadata": {},
   "outputs": [],
   "source": [
    "rule = 154\n",
    "n = 10\n",
    "ca = CA(rule, n)\n",
    "ca.start_single()\n",
    "ca.loop(n-1)\n",
    "drawer = CADrawer()\n",
    "drawer.draw(ca)\n",
    "drawer.show()"
   ]
  },
  {
   "cell_type": "markdown",
   "metadata": {},
   "source": [
    "<div class=\"alert alert-info\">\n",
    "**Ejercicio:** Escribe un método que genere las 255 reglas y las muestre en una gráfica (con _subplots_, obviamente).\n",
    "</div>"
   ]
  },
  {
   "cell_type": "markdown",
   "metadata": {},
   "source": [
    "<div class=\"alert alert-info\">\n",
    "**Ejercicio:** La página de la [wikipedia](http://en.wikipedia.org/wiki/Cellular_automaton#Classification) menciona 4 clasificaciones ¿Puedes identificarlos en tu gráfica?\n",
    "</div>"
   ]
  },
  {
   "cell_type": "markdown",
   "metadata": {},
   "source": [
    "<div class=\"alert alert-info\">\n",
    "**Ejercicio:** Escribe una animación interactiva en la cual, reciba la regla, el intervalo del tiempo y con eso la vaya dibujando de manera animada.\n",
    "</div>"
   ]
  },
  {
   "cell_type": "markdown",
   "metadata": {},
   "source": [
    "### Ejemplo de solución"
   ]
  },
  {
   "cell_type": "code",
   "execution_count": null,
   "metadata": {},
   "outputs": [],
   "source": [
    "import numpy\n",
    "\n",
    "def getEvolvedCA(rule, n = 30):\n",
    "    ca = CA(rule, n)\n",
    "    ca.start_single()\n",
    "    ca.loop(n-1)\n",
    "    return ca.get_array()\n",
    "\n",
    "class MosaicCADrawer(object):\n",
    "    \n",
    "    def __init__(self, time_steps):\n",
    "        self.rows = 26\n",
    "        self.cols = 10\n",
    "        self.time_steps = time_steps\n",
    "        \n",
    "        \n",
    "    def draw(self):\n",
    "        fig, ax = plt.subplots(self.rows,self.cols, figsize=(100,80), sharey=True)\n",
    "        for row in range(self.rows):\n",
    "            for col in range(self.cols):\n",
    "                rule = row*self.cols + col\n",
    "                if rule <= 255:\n",
    "                    ca_universe = getEvolvedCA(rule, self.time_steps)\n",
    "\n",
    "                    ax[row,col].imshow(-ca_universe)\n",
    "                    ax[row,col].set_xlabel(rule)\n",
    "                \n",
    "                ax[row,col].set_xticks([])\n",
    "                ax[row,col].set_yticks([])"
   ]
  },
  {
   "cell_type": "code",
   "execution_count": null,
   "metadata": {},
   "outputs": [],
   "source": [
    "ca_drawer = MosaicCADrawer(10)\n",
    "ca_drawer.draw()"
   ]
  },
  {
   "cell_type": "code",
   "execution_count": null,
   "metadata": {},
   "outputs": [],
   "source": []
  }
 ],
 "metadata": {
  "kernelspec": {
   "display_name": "Python 3",
   "language": "python",
   "name": "python3"
  },
  "language_info": {
   "codemirror_mode": {
    "name": "ipython",
    "version": 3
   },
   "file_extension": ".py",
   "mimetype": "text/x-python",
   "name": "python",
   "nbconvert_exporter": "python",
   "pygments_lexer": "ipython3",
   "version": "3.8.5"
  }
 },
 "nbformat": 4,
 "nbformat_minor": 1
}
