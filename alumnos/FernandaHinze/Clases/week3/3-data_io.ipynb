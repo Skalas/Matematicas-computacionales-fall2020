{
 "cells": [
  {
   "cell_type": "markdown",
   "metadata": {},
   "source": [
    "## Introducción"
   ]
  },
  {
   "cell_type": "markdown",
   "metadata": {},
   "source": [
    "- **I/O** significa _input/output_. \n",
    "- Escribir y leer datos desde archivos u otras fuentes, es fundamental en la programación, y más aún en programación científica.\n"
   ]
  },
  {
   "cell_type": "markdown",
   "metadata": {},
   "source": [
    "## Leer archivos"
   ]
  },
  {
   "cell_type": "code",
   "execution_count": 1,
   "metadata": {},
   "outputs": [
    {
     "name": "stdout",
     "output_type": "stream",
     "text": [
      "Writing inout.dat\n"
     ]
    }
   ],
   "source": [
    "%%file inout.dat\n",
    "Hola, desde el archivo\n",
    "Este es un archivo de texto\n",
    "Escrito en ASCII"
   ]
  },
  {
   "cell_type": "markdown",
   "metadata": {},
   "source": [
    "Lee el archivo de una sola pasada"
   ]
  },
  {
   "cell_type": "code",
   "execution_count": 2,
   "metadata": {},
   "outputs": [
    {
     "name": "stdout",
     "output_type": "stream",
     "text": [
      "Hola, desde el archivo\n",
      "Este es un archivo de texto\n",
      "Escrito en ASCII\n",
      "\n"
     ]
    }
   ],
   "source": [
    "archivo = open('inout.dat')\n",
    "print (archivo.read())\n",
    "archivo.close()"
   ]
  },
  {
   "cell_type": "markdown",
   "metadata": {},
   "source": [
    "Línea por línea"
   ]
  },
  {
   "cell_type": "code",
   "execution_count": 3,
   "metadata": {},
   "outputs": [
    {
     "name": "stdout",
     "output_type": "stream",
     "text": [
      "['Hola, desde el archivo\\n', 'Este es un archivo de texto\\n', 'Escrito en ASCII\\n']\n"
     ]
    }
   ],
   "source": [
    "archivo = open('inout.dat')\n",
    "print(archivo.readlines())\n",
    "archivo.close()"
   ]
  },
  {
   "cell_type": "markdown",
   "metadata": {},
   "source": [
    "Otra manera"
   ]
  },
  {
   "cell_type": "code",
   "execution_count": 4,
   "metadata": {},
   "outputs": [
    {
     "name": "stdout",
     "output_type": "stream",
     "text": [
      "['Hola,', 'desde', 'el', 'archivo']\n",
      "['Este', 'es', 'un', 'archivo', 'de', 'texto']\n",
      "['Escrito', 'en', 'ASCII']\n"
     ]
    }
   ],
   "source": [
    "for line in open('inout.dat'):\n",
    "    print (line.split())"
   ]
  },
  {
   "cell_type": "markdown",
   "metadata": {},
   "source": [
    "## Escribir archivos"
   ]
  },
  {
   "cell_type": "markdown",
   "metadata": {},
   "source": [
    "`write()` es lo contrario a `read()` (¡Vaya sorpresa!)"
   ]
  },
  {
   "cell_type": "code",
   "execution_count": 5,
   "metadata": {},
   "outputs": [],
   "source": [
    "contents = open('inout.dat').read()\n",
    "out = open('my_output.dat', 'w')\n",
    "out.write(contents.replace(' ', '_'))\n",
    "out.close()"
   ]
  },
  {
   "cell_type": "code",
   "execution_count": 6,
   "metadata": {},
   "outputs": [
    {
     "name": "stdout",
     "output_type": "stream",
     "text": [
      "Hola,_desde_el_archivo\r\n",
      "Este_es_un_archivo_de_texto\r\n",
      "Escrito_en_ASCII\r\n"
     ]
    }
   ],
   "source": [
    "!cat my_output.dat"
   ]
  },
  {
   "cell_type": "markdown",
   "metadata": {},
   "source": [
    "<div class=\"alert alert-info\">\n",
    "**Ejercicio** Cambia la segunda línea del archivo a _¿Cómo has estado?_ ¿Qué sucede?\n",
    "</div>"
   ]
  },
  {
   "cell_type": "markdown",
   "metadata": {},
   "source": [
    "<div class=\"alert alert-info\">\n",
    "**Ejercicio** Escribe un archivo `CSV`. Calcula $y(x) = x^2 \\cos x$ para los valores del $x \\in {1..100}$. En la primera columna guarda $x$ y en la segunda $y(x)$.\n",
    "</div>"
   ]
  },
  {
   "cell_type": "code",
   "execution_count": 7,
   "metadata": {},
   "outputs": [
    {
     "name": "stdout",
     "output_type": "stream",
     "text": [
      "1,0.5403023058681398\r\n",
      "2,-1.6645873461885696\r\n",
      "3,-8.909932469404009\r\n",
      "4,-10.458297933817791\r\n",
      "5,7.091554636580656\r\n",
      "6,34.566130319413176\r\n",
      "7,36.94121046282193\r\n",
      "8,-9.312002163751266\r\n",
      "9,-73.80155121265884\r\n",
      "10,-83.90715290764524\r\n",
      "11,0.5355094565541451\r\n",
      "12,121.51497005747886\r\n",
      "13,153.35850606508316\r\n",
      "14,26.800494768735387\r\n",
      "15,-170.9297803932348\r\n",
      "16,-245.16082696278647\r\n",
      "17,-79.52220469691152\r\n",
      "18,213.94261347108198\r\n",
      "19,356.9223671653876\r\n",
      "20,163.23282472535678\r\n",
      "21,-241.54860375890235\r\n",
      "22,-483.98103997500436\r\n",
      "23,-281.8686677563673\r\n",
      "24,244.32710822611025\r\n",
      "25,619.501757414671\r\n",
      "26,437.3174618941609\r\n",
      "27,-212.96919156696657\r\n",
      "28,-754.6829991898362\r\n",
      "29,-629.1163824684493\r\n",
      "30,138.82630489882564\r\n",
      "31,879.0674058501546\r\n",
      "32,854.2447211586665\r\n",
      "33,-14.458377725911772\r\n",
      "34,-980.9472376510037\r\n",
      "35,-1107.0229512370956\r\n",
      "36,-165.84094175711647\r\n",
      "37,1047.8518371131752\r\n",
      "38,1379.1263420042937\r\n",
      "39,405.56390011946456\r\n",
      "40,-1067.100898643619\r\n",
      "41,-1659.7173255175524\r\n",
      "42,-705.5740956394517\r\n",
      "43,1026.4044945116368\r\n",
      "44,1935.6966455419301\r\n",
      "45,1063.7770273559026\r\n",
      "46,-914.4885313761908\r\n",
      "47,-2192.0690513544014\r\n",
      "48,-1474.892558137036\r\n",
      "49,721.7226975284726\r\n",
      "50,2412.4150712302835\r\n",
      "51,1930.3430659126484\r\n",
      "52,-440.7270712715876\r\n",
      "53,-2579.456346469842\r\n",
      "54,-2418.267472628946\r\n",
      "55,66.9334376924161\r\n",
      "56,2675.698257818024\r\n",
      "57,2923.6673208229104\r\n",
      "58,400.9219756498281\r\n",
      "59,-2684.130256178917\r\n",
      "60,-3428.6867294945628\r\n",
      "61,-960.3961873262932\r\n",
      "62,2588.9615319718655\r\n",
      "63,3913.0235323011398\r\n",
      "64,1605.0472158394368\r\n",
      "65,-2376.367521481277\r\n",
      "66,-4354.464318189421\r\n",
      "67,-2324.2686312550886\r\n",
      "68,2035.2213360216922\r\n",
      "69,4729.5315978577355\r\n",
      "70,3103.264095122869\r\n",
      "71,-1557.7835726851622\r\n",
      "72,-5014.227049611806\r\n",
      "73,-3923.1709954333664\r\n",
      "74,940.3241638653379\r\n",
      "75,5184.8508922017145\r\n",
      "76,4761.337768477253\r\n",
      "77,-183.65096313438238\r\n",
      "78,-5218.874019302506\r\n",
      "79,-5591.754678922401\r\n",
      "80,-706.4783605699045\r\n",
      "81,5095.836728043922\r\n",
      "82,6385.632840562221\r\n",
      "83,1719.0818727183264\r\n",
      "84,-4798.2457848642625\r\n",
      "85,-7112.121248521952\r\n",
      "86,-2837.833698848291\r\n",
      "87,4312.440280054147\r\n",
      "88,7739.146708935045\r\n",
      "89,4041.1123729829596\r\n",
      "90,-3629.396290646278\r\n",
      "91,-8234.356943946437\r\n",
      "92,-5302.22580711311\r\n",
      "93,2745.4408394438997\r\n",
      "94,8566.14296389601\r\n",
      "95,6589.816387978248\r\n",
      "96,-1662.8470206666298\r\n",
      "97,-8704.713171835658\r\n",
      "98,-7868.444307779175\r\n",
      "99,390.28444873315436\r\n",
      "100,8623.18872287684\r\n"
     ]
    }
   ],
   "source": [
    "import math\n",
    "out = open('archivo.csv', 'w')\n",
    "for x in range(1,101):\n",
    "    #out.write('{},{}\\n'.format(x, x**2*math.cos(x)))\\\n",
    "    out.write( str(x) + ',' + str(x**2*math.cos(x)) + '\\n')\n",
    "out.close()\n",
    "!cat archivo.csv"
   ]
  },
  {
   "cell_type": "markdown",
   "metadata": {},
   "source": [
    "## Numpy I/O"
   ]
  },
  {
   "cell_type": "code",
   "execution_count": 8,
   "metadata": {},
   "outputs": [
    {
     "name": "stdout",
     "output_type": "stream",
     "text": [
      "Populating the interactive namespace from numpy and matplotlib\n"
     ]
    }
   ],
   "source": [
    "%pylab inline\n",
    "import numpy as np\n",
    "import matplotlib.pyplot as plt"
   ]
  },
  {
   "cell_type": "markdown",
   "metadata": {},
   "source": [
    "- `NumPy` permite escribir y leer los arreglos a archivo de varias maneras, como **texto** o en **binario**.\n",
    "- Si escribes a un archivo usando el modo de **texto**, el número $\\pi$, se escribirá como $3.141592653589793$. Algo que un humano puede leer (bajo ciertas condiciones, obvio), es decir, una cadena de texto. El modo de texto, ocupa más espacio, la precisión se puede perder (no todos los dígitos se escribirán al disco), pero puede ser editada a mano. Si guardas un arreglo, sólo se pueden guardar arreglos bidimensionales.\n",
    "- En cambio, si usas el modo **binario** para escribir a archivo, se escribirá como una cadena de 8 bytes que será idéntica a como se guarda en la memoria de la computadora. Sus únicas desventaja es que no puede ser editado a mano y que es dependiente de `NumPy` (no puede ser leído por otro programa, sin un convertidor)."
   ]
  },
  {
   "cell_type": "markdown",
   "metadata": {},
   "source": [
    "## Modo Texto"
   ]
  },
  {
   "cell_type": "code",
   "execution_count": 9,
   "metadata": {},
   "outputs": [
    {
     "name": "stdout",
     "output_type": "stream",
     "text": [
      "# My dataset\r\n",
      "0.00e+00 1.00e+00 2.00e+00 3.00e+00 4.00e+00 5.00e+00 6.00e+00 7.00e+00 8.00e+00 9.00e+00\r\n",
      "1.00e+01 1.10e+01 1.20e+01 1.30e+01 1.40e+01 1.50e+01 1.60e+01 1.70e+01 1.80e+01 1.90e+01\r\n",
      "2.00e+01 2.10e+01 2.20e+01 2.30e+01 2.40e+01 2.50e+01 2.60e+01 2.70e+01 2.80e+01 2.90e+01\r\n",
      "3.00e+01 3.10e+01 3.20e+01 3.30e+01 3.40e+01 3.50e+01 3.60e+01 3.70e+01 3.80e+01 3.90e+01\r\n",
      "4.00e+01 4.10e+01 4.20e+01 4.30e+01 4.40e+01 4.50e+01 4.60e+01 4.70e+01 4.80e+01 4.90e+01\r\n",
      "5.00e+01 5.10e+01 5.20e+01 5.30e+01 5.40e+01 5.50e+01 5.60e+01 5.70e+01 5.80e+01 5.90e+01\r\n",
      "6.00e+01 6.10e+01 6.20e+01 6.30e+01 6.40e+01 6.50e+01 6.60e+01 6.70e+01 6.80e+01 6.90e+01\r\n",
      "7.00e+01 7.10e+01 7.20e+01 7.30e+01 7.40e+01 7.50e+01 7.60e+01 7.70e+01 7.80e+01 7.90e+01\r\n",
      "8.00e+01 8.10e+01 8.20e+01 8.30e+01 8.40e+01 8.50e+01 8.60e+01 8.70e+01 8.80e+01 8.90e+01\r\n",
      "9.00e+01 9.10e+01 9.20e+01 9.30e+01 9.40e+01 9.50e+01 9.60e+01 9.70e+01 9.80e+01 9.90e+01\r\n"
     ]
    }
   ],
   "source": [
    "arr = np.arange(100).reshape(10, 10)\n",
    "np.savetxt('test.out', arr, fmt='%.2e', header=\"My dataset\")\n",
    "!cat test.out"
   ]
  },
  {
   "cell_type": "code",
   "execution_count": 10,
   "metadata": {},
   "outputs": [
    {
     "name": "stdout",
     "output_type": "stream",
     "text": [
      "(10, 10)\n",
      "[[ 0.  1.  2.  3.  4.  5.  6.  7.  8.  9.]\n",
      " [10. 11. 12. 13. 14. 15. 16. 17. 18. 19.]\n",
      " [20. 21. 22. 23. 24. 25. 26. 27. 28. 29.]\n",
      " [30. 31. 32. 33. 34. 35. 36. 37. 38. 39.]\n",
      " [40. 41. 42. 43. 44. 45. 46. 47. 48. 49.]\n",
      " [50. 51. 52. 53. 54. 55. 56. 57. 58. 59.]\n",
      " [60. 61. 62. 63. 64. 65. 66. 67. 68. 69.]\n",
      " [70. 71. 72. 73. 74. 75. 76. 77. 78. 79.]\n",
      " [80. 81. 82. 83. 84. 85. 86. 87. 88. 89.]\n",
      " [90. 91. 92. 93. 94. 95. 96. 97. 98. 99.]]\n"
     ]
    }
   ],
   "source": [
    "DataIn = np.loadtxt('test.out')\n",
    "print (DataIn.shape)\n",
    "print (DataIn)"
   ]
  },
  {
   "cell_type": "code",
   "execution_count": null,
   "metadata": {},
   "outputs": [],
   "source": [
    "print (DataIn[1,:])"
   ]
  },
  {
   "cell_type": "markdown",
   "metadata": {},
   "source": [
    "#### Leyendo archivos CSV"
   ]
  },
  {
   "cell_type": "code",
   "execution_count": null,
   "metadata": {},
   "outputs": [],
   "source": [
    "%%file input.csv\n",
    "# Mis datos de ejemplo\n",
    "    0.0,  1.1,  0.1\n",
    "    2.0,  1.9,  0.2\n",
    "    4.0,  3.2,  0.1\n",
    "    6.0,  4.0,  0.3\n",
    "    8.0,  5.9,  0.3"
   ]
  },
  {
   "cell_type": "code",
   "execution_count": null,
   "metadata": {},
   "outputs": [],
   "source": [
    "!cat input.csv"
   ]
  },
  {
   "cell_type": "code",
   "execution_count": null,
   "metadata": {},
   "outputs": [],
   "source": [
    "x, y = np.loadtxt('input.csv', unpack=True, delimiter=',', usecols=[0,1])\n",
    "print(x,y)"
   ]
  },
  {
   "cell_type": "markdown",
   "metadata": {},
   "source": [
    "## Modo Binario"
   ]
  },
  {
   "cell_type": "markdown",
   "metadata": {},
   "source": [
    "Para guardar datos binarios, `NumPy` provee los métodos `np.save` y `np.savez`. El primero sólo guarda un arreglo y el archivo tendrá la extensión `.npy`, mientras que el segundo se puede utilizar para guardar varios arreglos a la vez con una extensión `.npz`."
   ]
  },
  {
   "cell_type": "code",
   "execution_count": null,
   "metadata": {},
   "outputs": [],
   "source": [
    "arr2 = DataIn \n",
    "np.save('test.npy', arr2)\n",
    "# Lo leemos de nuevo\n",
    "arr2n = np.load('test.npy')\n",
    "# Veamos si hay una diferencia...\n",
    "print( 'Any differences?', np.any(arr2-arr2n))"
   ]
  },
  {
   "cell_type": "code",
   "execution_count": null,
   "metadata": {},
   "outputs": [],
   "source": [
    "np.savez('test.npz', arr, arr2)\n",
    "arrays = np.load('test.npz')\n",
    "arrays.files"
   ]
  },
  {
   "cell_type": "code",
   "execution_count": null,
   "metadata": {},
   "outputs": [],
   "source": [
    "np.savez('test.npz', array1=arr, array2=arr2)\n",
    "arrays = np.load('test.npz')\n",
    "arrays.files"
   ]
  },
  {
   "cell_type": "code",
   "execution_count": null,
   "metadata": {},
   "outputs": [],
   "source": [
    "print( 'First row of first array:', arrays['array1'][0])\n",
    "# Este es una manera equivalente de obtener el primer elemento\n",
    "print ('First row of first array:', arrays.f.array1[0])"
   ]
  },
  {
   "cell_type": "markdown",
   "metadata": {},
   "source": [
    "<div class=\"alert alert-info\">\n",
    "**Ejercicio**: <br/>\n",
    "- Crea un arreglo bidimensional con 100 elementos flotantes al azar y guárdalos en formato de texto. <br/>\n",
    "\n",
    "- Guárdalos también en formato binario. ¿Hay alguna diferencia entre ellos? <br/>\n",
    "\n",
    "- Ahora crea un arreglo tridimensional con los elementos del 1 al 50 y guárdalos en formato binario ¿Qué pasa si los quieres guardar en formato de texto?\n",
    "</div>"
   ]
  }
 ],
 "metadata": {
  "kernelspec": {
   "display_name": "Python 3",
   "language": "python",
   "name": "python3"
  },
  "language_info": {
   "codemirror_mode": {
    "name": "ipython",
    "version": 3
   },
   "file_extension": ".py",
   "mimetype": "text/x-python",
   "name": "python",
   "nbconvert_exporter": "python",
   "pygments_lexer": "ipython3",
   "version": "3.8.5"
  }
 },
 "nbformat": 4,
 "nbformat_minor": 1
}
