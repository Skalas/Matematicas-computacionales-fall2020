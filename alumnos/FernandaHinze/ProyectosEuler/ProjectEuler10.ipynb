{
 "cells": [
  {
   "cell_type": "markdown",
   "metadata": {},
   "source": [
    "# Summation of primes"
   ]
  },
  {
   "cell_type": "markdown",
   "metadata": {},
   "source": [
    "The sum of the primes below 10 is 2 + 3 + 5 + 7 = 17.\n",
    "\n",
    "Find the sum of all the primes below two million."
   ]
  },
  {
   "cell_type": "code",
   "execution_count": 24,
   "metadata": {},
   "outputs": [
    {
     "name": "stdout",
     "output_type": "stream",
     "text": [
      "2\n",
      "3\n",
      "5\n",
      "7\n",
      "Suma total: 17\n"
     ]
    }
   ],
   "source": [
    "#Definición de número primo: es un número divisible únicamente por uno y por sí mismo. \n",
    "#Prueba de que el algoritmo funciona con primos menores a 10\n",
    "\n",
    "prueba = 10\n",
    "sumaPrimosPrueba = 0\n",
    "\n",
    "for p in range(2,prueba):\n",
    "    for entero in range(2,p):\n",
    "        if p % entero != 0:\n",
    "            \"El entero no es divisor de p.\"\n",
    "        else: \n",
    "            \"El entero es divisor de p, p no puede ser primo.\"\n",
    "            break #frena el \"loop\" del segundo if cada vez que p no puede ser primo.\n",
    "    else: #este else toma los p que no se pueden dividir entre los enteros previos a él mismo\n",
    "        print(p)\n",
    "        sumaPrimosPrueba += p\n",
    "        \n",
    "print(\"Suma total: \" + str(sumaPrimosPrueba))"
   ]
  },
  {
   "cell_type": "markdown",
   "metadata": {},
   "source": [
    "Para solucionar este problema me fue súper util ver los videos de programiz.com, en especil el video sobre el break and continue. \n",
    "\n",
    "Por si no conocían la página, ¡es súper buena!"
   ]
  },
  {
   "cell_type": "code",
   "execution_count": null,
   "metadata": {},
   "outputs": [],
   "source": [
    "#Ahora sí resuelvo el problema\n",
    "\n",
    "max = 2000000\n",
    "sumaPrimos = 0\n",
    "\n",
    "for p in range(2,max):\n",
    "    for entero in range(2,p):\n",
    "        if p % entero != 0:\n",
    "            \"El entero no es divisor de p.\"\n",
    "        else: \n",
    "            \"El entero es divisor de p, p no puede ser primo.\"\n",
    "            break #frena el \"loop\" del segundo if cada vez que p no puede ser primo.\n",
    "    else: #este else toma los p que no se pueden dividir entre los enteros previos a él mismo\n",
    "        #print(p)\n",
    "        sumaPrimos += p\n",
    "        \n",
    "print(\"Suma total: \" + str(sumaPrimos))"
   ]
  },
  {
   "cell_type": "markdown",
   "metadata": {},
   "source": [
    "Sí se tarda bastante pero la verdad es que estoy muy feliz porque aprendí a usar break y continue."
   ]
  },
  {
   "cell_type": "code",
   "execution_count": null,
   "metadata": {},
   "outputs": [],
   "source": []
  }
 ],
 "metadata": {
  "kernelspec": {
   "display_name": "Python 3",
   "language": "python",
   "name": "python3"
  },
  "language_info": {
   "codemirror_mode": {
    "name": "ipython",
    "version": 3
   },
   "file_extension": ".py",
   "mimetype": "text/x-python",
   "name": "python",
   "nbconvert_exporter": "python",
   "pygments_lexer": "ipython3",
   "version": "3.8.5"
  }
 },
 "nbformat": 4,
 "nbformat_minor": 4
}
