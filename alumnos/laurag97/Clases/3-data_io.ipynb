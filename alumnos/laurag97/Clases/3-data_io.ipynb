{
 "cells": [
  {
   "cell_type": "markdown",
   "metadata": {},
   "source": [
    "## Introducción"
   ]
  },
  {
   "cell_type": "markdown",
   "metadata": {},
   "source": [
    "- **I/O** significa _input/output_. \n",
    "- Escribir y leer datos desde archivos u otras fuentes, es fundamental en la programación, y más aún en programación científica.\n"
   ]
  },
  {
   "cell_type": "markdown",
   "metadata": {},
   "source": [
    "## Leer archivos"
   ]
  },
  {
   "cell_type": "code",
   "execution_count": null,
   "metadata": {},
   "outputs": [],
   "source": [
    "%%file inout.dat\n",
    "Hola, desde el archivo\n",
    "Este es un archivo de texto\n",
    "Escrito en ASCII"
   ]
  },
  {
   "cell_type": "markdown",
   "metadata": {},
   "source": [
    "Lee el archivo de una sola pasada"
   ]
  },
  {
   "cell_type": "code",
   "execution_count": null,
   "metadata": {},
   "outputs": [],
   "source": [
    "archivo = open('inout.dat')\n",
    "print (archivo.read())\n",
    "archivo.close()"
   ]
  },
  {
   "cell_type": "markdown",
   "metadata": {},
   "source": [
    "Línea por línea"
   ]
  },
  {
   "cell_type": "code",
   "execution_count": null,
   "metadata": {},
   "outputs": [],
   "source": [
    "archivo = open('inout.dat')\n",
    "print(archivo.readlines())\n",
    "archivo.close()"
   ]
  },
  {
   "cell_type": "markdown",
   "metadata": {},
   "source": [
    "Otra manera"
   ]
  },
  {
   "cell_type": "code",
   "execution_count": null,
   "metadata": {},
   "outputs": [],
   "source": [
    "for line in open('inout.dat'):\n",
    "    print (line.split())"
   ]
  },
  {
   "cell_type": "markdown",
   "metadata": {},
   "source": [
    "## Escribir archivos"
   ]
  },
  {
   "cell_type": "markdown",
   "metadata": {},
   "source": [
    "`write()` es lo contrario a `read()` (¡Vaya sorpresa!)"
   ]
  },
  {
   "cell_type": "code",
   "execution_count": null,
   "metadata": {},
   "outputs": [],
   "source": [
    "contents = open('inout.dat').read()\n",
    "out = open('my_output.dat', 'w')\n",
    "out.write(contents.replace(' ', '_'))\n",
    "out.close()"
   ]
  },
  {
   "cell_type": "code",
   "execution_count": null,
   "metadata": {},
   "outputs": [],
   "source": [
    "!cat my_output.dat"
   ]
  },
  {
   "cell_type": "markdown",
   "metadata": {},
   "source": [
    "<div class=\"alert alert-info\">\n",
    "**Ejercicio** Cambia la segunda línea del archivo a _¿Cómo has estado?_ ¿Qué sucede?\n",
    "</div>"
   ]
  },
  {
   "cell_type": "markdown",
   "metadata": {},
   "source": [
    "<div class=\"alert alert-info\">\n",
    "**Ejercicio** Escribe un archivo `CSV`. Calcula $y(x) = x^2 \\cos x$ para los valores del $x \\in {1..100}$. En la primera columna guarda $x$ y en la segunda $y(x)$.\n",
    "</div>"
   ]
  },
  {
   "cell_type": "code",
   "execution_count": null,
   "metadata": {},
   "outputs": [],
   "source": [
    "import math\n",
    "out = open('archivo.csv', 'w')\n",
    "for x in range(1,101):\n",
    "    #out.write('{},{}\\n'.format(x, x**2*math.cos(x)))\\\n",
    "    out.write( str(x) + ',' + str(x**2*math.cos(x)) + '\\n')\n",
    "out.close()\n",
    "!cat archivo.csv"
   ]
  },
  {
   "cell_type": "markdown",
   "metadata": {},
   "source": [
    "## Numpy I/O"
   ]
  },
  {
   "cell_type": "code",
   "execution_count": 1,
   "metadata": {},
   "outputs": [
    {
     "name": "stdout",
     "output_type": "stream",
     "text": [
      "Populating the interactive namespace from numpy and matplotlib\n"
     ]
    }
   ],
   "source": [
    "%pylab inline\n",
    "import numpy as np\n",
    "import matplotlib.pyplot as plt"
   ]
  },
  {
   "cell_type": "markdown",
   "metadata": {},
   "source": [
    "- `NumPy` permite escribir y leer los arreglos a archivo de varias maneras, como **texto** o en **binario**.\n",
    "- Si escribes a un archivo usando el modo de **texto**, el número $\\pi$, se escribirá como $3.141592653589793$. Algo que un humano puede leer (bajo ciertas condiciones, obvio), es decir, una cadena de texto. El modo de texto, ocupa más espacio, la precisión se puede perder (no todos los dígitos se escribirán al disco), pero puede ser editada a mano. Si guardas un arreglo, sólo se pueden guardar arreglos bidimensionales.\n",
    "- En cambio, si usas el modo **binario** para escribir a archivo, se escribirá como una cadena de 8 bytes que será idéntica a como se guarda en la memoria de la computadora. Sus únicas desventaja es que no puede ser editado a mano y que es dependiente de `NumPy` (no puede ser leído por otro programa, sin un convertidor)."
   ]
  },
  {
   "cell_type": "markdown",
   "metadata": {},
   "source": [
    "## Modo Texto"
   ]
  },
  {
   "cell_type": "code",
   "execution_count": 2,
   "metadata": {},
   "outputs": [
    {
     "name": "stderr",
     "output_type": "stream",
     "text": [
      "\"cat\" no se reconoce como un comando interno o externo,\n",
      "programa o archivo por lotes ejecutable.\n"
     ]
    }
   ],
   "source": [
    "arr = np.arange(100).reshape(10, 10)\n",
    "np.savetxt('test.out', arr, fmt='%.2e', header=\"My dataset\")\n",
    "!cat test.out"
   ]
  },
  {
   "cell_type": "code",
   "execution_count": 3,
   "metadata": {},
   "outputs": [
    {
     "name": "stdout",
     "output_type": "stream",
     "text": [
      "(10, 10)\n",
      "[[ 0.  1.  2.  3.  4.  5.  6.  7.  8.  9.]\n",
      " [10. 11. 12. 13. 14. 15. 16. 17. 18. 19.]\n",
      " [20. 21. 22. 23. 24. 25. 26. 27. 28. 29.]\n",
      " [30. 31. 32. 33. 34. 35. 36. 37. 38. 39.]\n",
      " [40. 41. 42. 43. 44. 45. 46. 47. 48. 49.]\n",
      " [50. 51. 52. 53. 54. 55. 56. 57. 58. 59.]\n",
      " [60. 61. 62. 63. 64. 65. 66. 67. 68. 69.]\n",
      " [70. 71. 72. 73. 74. 75. 76. 77. 78. 79.]\n",
      " [80. 81. 82. 83. 84. 85. 86. 87. 88. 89.]\n",
      " [90. 91. 92. 93. 94. 95. 96. 97. 98. 99.]]\n"
     ]
    }
   ],
   "source": [
    "DataIn = np.loadtxt('test.out')\n",
    "print (DataIn.shape)\n",
    "print (DataIn)"
   ]
  },
  {
   "cell_type": "code",
   "execution_count": 4,
   "metadata": {},
   "outputs": [
    {
     "name": "stdout",
     "output_type": "stream",
     "text": [
      "[10. 11. 12. 13. 14. 15. 16. 17. 18. 19.]\n"
     ]
    }
   ],
   "source": [
    "print (DataIn[1,:])"
   ]
  },
  {
   "cell_type": "markdown",
   "metadata": {},
   "source": [
    "#### Leyendo archivos CSV"
   ]
  },
  {
   "cell_type": "code",
   "execution_count": 5,
   "metadata": {},
   "outputs": [
    {
     "name": "stdout",
     "output_type": "stream",
     "text": [
      "Writing input.csv\n"
     ]
    }
   ],
   "source": [
    "%%file input.csv\n",
    "# Mis datos de ejemplo\n",
    "    0.0,  1.1,  0.1\n",
    "    2.0,  1.9,  0.2\n",
    "    4.0,  3.2,  0.1\n",
    "    6.0,  4.0,  0.3\n",
    "    8.0,  5.9,  0.3"
   ]
  },
  {
   "cell_type": "code",
   "execution_count": 6,
   "metadata": {},
   "outputs": [
    {
     "name": "stderr",
     "output_type": "stream",
     "text": [
      "\"cat\" no se reconoce como un comando interno o externo,\n",
      "programa o archivo por lotes ejecutable.\n"
     ]
    }
   ],
   "source": [
    "!cat input.csv"
   ]
  },
  {
   "cell_type": "code",
   "execution_count": 7,
   "metadata": {},
   "outputs": [
    {
     "name": "stdout",
     "output_type": "stream",
     "text": [
      "[0. 2. 4. 6. 8.] [1.1 1.9 3.2 4.  5.9]\n"
     ]
    }
   ],
   "source": [
    "x, y = np.loadtxt('input.csv', unpack=True, delimiter=',', usecols=[0,1])\n",
    "print(x,y)"
   ]
  },
  {
   "cell_type": "markdown",
   "metadata": {},
   "source": [
    "## Modo Binario"
   ]
  },
  {
   "cell_type": "markdown",
   "metadata": {},
   "source": [
    "Para guardar datos binarios, `NumPy` provee los métodos `np.save` y `np.savez`. El primero sólo guarda un arreglo y el archivo tendrá la extensión `.npy`, mientras que el segundo se puede utilizar para guardar varios arreglos a la vez con una extensión `.npz`."
   ]
  },
  {
   "cell_type": "code",
   "execution_count": 8,
   "metadata": {},
   "outputs": [
    {
     "name": "stdout",
     "output_type": "stream",
     "text": [
      "Any differences? False\n"
     ]
    }
   ],
   "source": [
    "arr2 = DataIn \n",
    "np.save('test.npy', arr2)\n",
    "# Lo leemos de nuevo\n",
    "arr2n = np.load('test.npy')\n",
    "# Veamos si hay una diferencia...\n",
    "print( 'Any differences?', np.any(arr2-arr2n))"
   ]
  },
  {
   "cell_type": "code",
   "execution_count": 9,
   "metadata": {},
   "outputs": [
    {
     "data": {
      "text/plain": [
       "['arr_0', 'arr_1']"
      ]
     },
     "execution_count": 9,
     "metadata": {},
     "output_type": "execute_result"
    }
   ],
   "source": [
    "np.savez('test.npz', arr, arr2)\n",
    "arrays = np.load('test.npz')\n",
    "arrays.files"
   ]
  },
  {
   "cell_type": "code",
   "execution_count": 10,
   "metadata": {},
   "outputs": [
    {
     "data": {
      "text/plain": [
       "['array1', 'array2']"
      ]
     },
     "execution_count": 10,
     "metadata": {},
     "output_type": "execute_result"
    }
   ],
   "source": [
    "np.savez('test.npz', array1=arr, array2=arr2)\n",
    "arrays = np.load('test.npz')\n",
    "arrays.files"
   ]
  },
  {
   "cell_type": "code",
   "execution_count": 11,
   "metadata": {},
   "outputs": [
    {
     "name": "stdout",
     "output_type": "stream",
     "text": [
      "First row of first array: [0 1 2 3 4 5 6 7 8 9]\n",
      "First row of first array: [0 1 2 3 4 5 6 7 8 9]\n"
     ]
    }
   ],
   "source": [
    "print( 'First row of first array:', arrays['array1'][0])\n",
    "# Este es una manera equivalente de obtener el primer elemento\n",
    "print ('First row of first array:', arrays.f.array1[0])"
   ]
  },
  {
   "cell_type": "markdown",
   "metadata": {},
   "source": [
    "<div class=\"alert alert-info\">\n",
    "**Ejercicio**: <br/>\n",
    "- Crea un arreglo bidimensional con 100 elementos flotantes al azar y guárdalos en formato de texto. <br/>\n",
    "\n",
    "- Guárdalos también en formato binario. ¿Hay alguna diferencia entre ellos? <br/>\n",
    "\n",
    "- Ahora crea un arreglo tridimensional con los elementos del 1 al 50 y guárdalos en formato binario ¿Qué pasa si los quieres guardar en formato de texto?\n",
    "</div>"
   ]
  }
 ],
 "metadata": {
  "kernelspec": {
   "display_name": "Python 3",
   "language": "python",
   "name": "python3"
  },
  "language_info": {
   "codemirror_mode": {
    "name": "ipython",
    "version": 3
   },
   "file_extension": ".py",
   "mimetype": "text/x-python",
   "name": "python",
   "nbconvert_exporter": "python",
   "pygments_lexer": "ipython3",
   "version": "3.7.6"
  }
 },
 "nbformat": 4,
 "nbformat_minor": 1
}
