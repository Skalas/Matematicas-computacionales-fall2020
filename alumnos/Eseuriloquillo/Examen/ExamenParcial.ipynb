{
 "cells": [
  {
   "cell_type": "markdown",
   "metadata": {},
   "source": [
    "# Examen"
   ]
  },
  {
   "cell_type": "markdown",
   "metadata": {},
   "source": [
    "#### Instrucciones"
   ]
  },
  {
   "cell_type": "markdown",
   "metadata": {},
   "source": [
    "- Crea en tu carpeta, un archivo llamado `examen` y pega el texto de las problemas en él (respeta el formato).\n",
    "\n",
    "- Contesta inmediatamente abajo del problema.\n",
    "\n",
    "- Gráficas en calidad profesional (pon ejes, unidades, colores, leyenda, etc.)\n",
    "\n",
    "- La ortografía, redacción y habilidades de comunicación se tomarán en cuenta."
   ]
  },
  {
   "cell_type": "markdown",
   "metadata": {},
   "source": [
    "### Problema 1"
   ]
  },
  {
   "cell_type": "markdown",
   "metadata": {},
   "source": [
    "(a) Usando `Simpy`, declara las funciones:\n",
    "$$\n",
    "y(x) = \\sin(x)\n",
    "$$\n",
    "\n",
    "$$\n",
    "z(x) = \\cos(x)\n",
    "$$\n",
    "\n",
    "$$\n",
    "w(x) = \\frac{1}{\\cos(x) + \\sin(2x)}\n",
    "$$\n",
    "\n",
    "(b) Obtén la derivada de $g(x)$\n",
    "\n",
    "$$\n",
    "g(x) = y(x)*z(x)\n",
    "$$\n",
    "\n",
    "(c) Grafica $w(x)$ en el rango $[0,1]$\n",
    "\n",
    "(d) Integra de manera indefinida $w(x)$ y luego evalúala desde $0$ a $1$.\n",
    "\n",
    "(e) ¿Cuál es el límite de $y(x), z(x), g(x)$ y $w(x)$ cuando $x \\to 0$.?\n",
    "\n",
    "(f) Expanda $y(x)$ y $z(x)$ hasta 3 orden en serie de Taylor."
   ]
  },
  {
   "cell_type": "markdown",
   "metadata": {},
   "source": [
    "## a)"
   ]
  },
  {
   "cell_type": "code",
   "execution_count": 111,
   "metadata": {},
   "outputs": [],
   "source": [
    "%matplotlib inline\n",
    "import numpy as np\n",
    "import matplotlib.pyplot as plt\n",
    "import sympy"
   ]
  },
  {
   "cell_type": "code",
   "execution_count": 127,
   "metadata": {},
   "outputs": [],
   "source": [
    "x = sympy.Symbol('x')"
   ]
  },
  {
   "cell_type": "code",
   "execution_count": 147,
   "metadata": {},
   "outputs": [
    {
     "data": {
      "text/latex": [
       "$\\displaystyle \\sin{\\left(x \\right)}$"
      ],
      "text/plain": [
       "sin(x)"
      ]
     },
     "execution_count": 147,
     "metadata": {},
     "output_type": "execute_result"
    }
   ],
   "source": [
    "def y(x):\n",
    "    return sympy.sin(x)\n",
    "y(x)"
   ]
  },
  {
   "cell_type": "code",
   "execution_count": 146,
   "metadata": {},
   "outputs": [
    {
     "data": {
      "text/latex": [
       "$\\displaystyle \\cos{\\left(x \\right)}$"
      ],
      "text/plain": [
       "cos(x)"
      ]
     },
     "execution_count": 146,
     "metadata": {},
     "output_type": "execute_result"
    }
   ],
   "source": [
    "def z(x):\n",
    "    return sympy.cos(x)\n",
    "z(x)"
   ]
  },
  {
   "cell_type": "code",
   "execution_count": 145,
   "metadata": {},
   "outputs": [
    {
     "data": {
      "text/latex": [
       "$\\displaystyle \\frac{1}{\\sin{\\left(2 x \\right)} + \\cos{\\left(x \\right)}}$"
      ],
      "text/plain": [
       "1/(sin(2*x) + cos(x))"
      ]
     },
     "execution_count": 145,
     "metadata": {},
     "output_type": "execute_result"
    }
   ],
   "source": [
    "def w(x):\n",
    "    return 1/(sympy.sin(2*x)+sympy.cos(x))\n",
    "w(x)"
   ]
  },
  {
   "cell_type": "markdown",
   "metadata": {},
   "source": [
    "## b)"
   ]
  },
  {
   "cell_type": "code",
   "execution_count": 162,
   "metadata": {},
   "outputs": [
    {
     "data": {
      "text/latex": [
       "$\\displaystyle - \\sin^{2}{\\left(x \\right)} + \\cos^{2}{\\left(x \\right)}$"
      ],
      "text/plain": [
       "-sin(x)**2 + cos(x)**2"
      ]
     },
     "execution_count": 162,
     "metadata": {},
     "output_type": "execute_result"
    }
   ],
   "source": [
    "g = y(x) * z(x)\n",
    "sympy.diff(g) #derivada de g"
   ]
  },
  {
   "cell_type": "markdown",
   "metadata": {},
   "source": [
    "## c)"
   ]
  },
  {
   "cell_type": "code",
   "execution_count": 158,
   "metadata": {},
   "outputs": [
    {
     "data": {
      "text/plain": [
       "Text(0.5, 1.0, 'Gráfica de la funcion w de 0 a 1')"
      ]
     },
     "execution_count": 158,
     "metadata": {},
     "output_type": "execute_result"
    },
    {
     "data": {
      "image/png": "[encoded data removed]",
      "text/plain": [
       "<Figure size 432x288 with 1 Axes>"
      ]
     },
     "metadata": {
      "needs_background": "light"
     },
     "output_type": "display_data"
    }
   ],
   "source": [
    "X = np.arange(0, 1, 0.001)\n",
    "plt.plot(X, [w(i) for i in X], color=\"red\") #No encontre otra forma de hacerlo\n",
    "plt.title(\"Gráfica de la funcion w de 0 a 1\", size = 20)"
   ]
  },
  {
   "cell_type": "markdown",
   "metadata": {},
   "source": [
    "## d)"
   ]
  },
  {
   "cell_type": "code",
   "execution_count": 160,
   "metadata": {},
   "outputs": [
    {
     "data": {
      "text/latex": [
       "$\\displaystyle \\frac{\\sin^{2}{\\left(1 \\right)}}{2}$"
      ],
      "text/plain": [
       "sin(1)**2/2"
      ]
     },
     "execution_count": 160,
     "metadata": {},
     "output_type": "execute_result"
    }
   ],
   "source": [
    "sympy.integrate(g, (x, 0, 1))"
   ]
  },
  {
   "cell_type": "markdown",
   "metadata": {},
   "source": [
    "## e)"
   ]
  },
  {
   "cell_type": "code",
   "execution_count": 164,
   "metadata": {},
   "outputs": [
    {
     "data": {
      "text/latex": [
       "$\\displaystyle 0$"
      ],
      "text/plain": [
       "0"
      ]
     },
     "execution_count": 164,
     "metadata": {},
     "output_type": "execute_result"
    }
   ],
   "source": [
    "sympy.limit(y(x), x, 0)"
   ]
  },
  {
   "cell_type": "code",
   "execution_count": 165,
   "metadata": {},
   "outputs": [
    {
     "data": {
      "text/latex": [
       "$\\displaystyle 1$"
      ],
      "text/plain": [
       "1"
      ]
     },
     "execution_count": 165,
     "metadata": {},
     "output_type": "execute_result"
    }
   ],
   "source": [
    "sympy.limit(z(x), x, 0)"
   ]
  },
  {
   "cell_type": "code",
   "execution_count": 166,
   "metadata": {},
   "outputs": [
    {
     "data": {
      "text/latex": [
       "$\\displaystyle 0$"
      ],
      "text/plain": [
       "0"
      ]
     },
     "execution_count": 166,
     "metadata": {},
     "output_type": "execute_result"
    }
   ],
   "source": [
    "sympy.limit(g, x, 0)"
   ]
  },
  {
   "cell_type": "code",
   "execution_count": 167,
   "metadata": {},
   "outputs": [
    {
     "data": {
      "text/latex": [
       "$\\displaystyle 1$"
      ],
      "text/plain": [
       "1"
      ]
     },
     "execution_count": 167,
     "metadata": {},
     "output_type": "execute_result"
    }
   ],
   "source": [
    "sympy.limit(w(x), x, 0)"
   ]
  },
  {
   "cell_type": "markdown",
   "metadata": {},
   "source": [
    "## f)"
   ]
  },
  {
   "cell_type": "code",
   "execution_count": 168,
   "metadata": {},
   "outputs": [],
   "source": [
    "def SerieDeTaylorOrden3(f):\n",
    "    a = sympy.Symbol('a') #Necesario para la serie de Taylor\n",
    "    for i in range(1, 4):\n",
    "        f += sympy.diff(f, x, i)/sympy.factorial(i)*(x - a)**i #Es la fomra de la sumatoria de Taylor\n",
    "    return f"
   ]
  },
  {
   "cell_type": "code",
   "execution_count": 169,
   "metadata": {},
   "outputs": [
    {
     "data": {
      "text/latex": [
       "$\\displaystyle \\left(- a + x\\right)^{3} \\left(\\frac{\\left(a - x\\right)^{2} \\left(\\left(a - x\\right) \\sin{\\left(x \\right)} + 6 \\cos{\\left(x \\right)}\\right)}{12} + \\frac{\\left(a - x\\right) \\left(\\left(a - x\\right) \\cos{\\left(x \\right)} - 5 \\sin{\\left(x \\right)}\\right)}{2} - \\frac{2 \\left(a - x\\right) \\sin{\\left(x \\right)}}{3} - \\frac{8 \\cos{\\left(x \\right)}}{3}\\right) + \\left(- a + x\\right)^{2} \\left(\\frac{\\left(a - x\\right) \\cos{\\left(x \\right)}}{2} - \\frac{3 \\sin{\\left(x \\right)}}{2}\\right) + \\left(- a + x\\right) \\cos{\\left(x \\right)} + \\sin{\\left(x \\right)}$"
      ],
      "text/plain": [
       "(-a + x)**3*((a - x)**2*((a - x)*sin(x) + 6*cos(x))/12 + (a - x)*((a - x)*cos(x) - 5*sin(x))/2 - 2*(a - x)*sin(x)/3 - 8*cos(x)/3) + (-a + x)**2*((a - x)*cos(x)/2 - 3*sin(x)/2) + (-a + x)*cos(x) + sin(x)"
      ]
     },
     "execution_count": 169,
     "metadata": {},
     "output_type": "execute_result"
    }
   ],
   "source": [
    "SerieDeTaylorOrden3(y(x))"
   ]
  },
  {
   "cell_type": "code",
   "execution_count": 170,
   "metadata": {},
   "outputs": [
    {
     "data": {
      "text/latex": [
       "$\\displaystyle \\left(- a + x\\right)^{3} \\left(\\frac{\\left(a - x\\right)^{2} \\left(\\left(a - x\\right) \\cos{\\left(x \\right)} - 6 \\sin{\\left(x \\right)}\\right)}{12} - \\frac{\\left(a - x\\right) \\left(\\left(a - x\\right) \\sin{\\left(x \\right)} + 5 \\cos{\\left(x \\right)}\\right)}{2} - \\frac{2 \\left(a - x\\right) \\cos{\\left(x \\right)}}{3} + \\frac{8 \\sin{\\left(x \\right)}}{3}\\right) - \\frac{\\left(- a + x\\right)^{2} \\left(\\left(a - x\\right) \\sin{\\left(x \\right)} + 3 \\cos{\\left(x \\right)}\\right)}{2} - \\left(- a + x\\right) \\sin{\\left(x \\right)} + \\cos{\\left(x \\right)}$"
      ],
      "text/plain": [
       "(-a + x)**3*((a - x)**2*((a - x)*cos(x) - 6*sin(x))/12 - (a - x)*((a - x)*sin(x) + 5*cos(x))/2 - 2*(a - x)*cos(x)/3 + 8*sin(x)/3) - (-a + x)**2*((a - x)*sin(x) + 3*cos(x))/2 - (-a + x)*sin(x) + cos(x)"
      ]
     },
     "execution_count": 170,
     "metadata": {},
     "output_type": "execute_result"
    }
   ],
   "source": [
    "SerieDeTaylorOrden3(z(x))"
   ]
  },
  {
   "cell_type": "markdown",
   "metadata": {},
   "source": [
    "<div class=\"alert alert-info\">\n",
    "**NOTA** Muestra las expresiones en cada inciso.\n",
    "</div>"
   ]
  },
  {
   "cell_type": "markdown",
   "metadata": {},
   "source": [
    "### Problema 2"
   ]
  },
  {
   "cell_type": "markdown",
   "metadata": {},
   "source": [
    "El [**atractor de Rössler**](http://en.wikipedia.org/wiki/R%C3%B6ssler_attractor) esta descrito por el siguiente conjunto de ecuaciones:"
   ]
  },
  {
   "cell_type": "markdown",
   "metadata": {},
   "source": [
    "$$\n",
    "\\frac{dx}{dt} = -y -z\n",
    "$$\n",
    "\n",
    "$$\n",
    "\\frac{dy}{dt} = x + ay\n",
    "$$\n",
    "\n",
    "$$\n",
    "\\frac{dz}{dt} = b + z(x-c)\n",
    "$$"
   ]
  },
  {
   "cell_type": "markdown",
   "metadata": {},
   "source": [
    "(a) Resuelva las ecuaciones numéricamente para \n",
    "\n",
    "$$\n",
    "a=0.13 \\quad b=0.2 \\quad c=6.5 \n",
    "$$\n",
    "\n",
    "y condiciones iniciales\n",
    "\n",
    "$$\n",
    "x(0)=0 \\quad y(0)=0 \\quad z(0)=0 \n",
    "$$\n",
    "\n",
    "use el método de Runge-Kutta de 2do orden."
   ]
  },
  {
   "cell_type": "markdown",
   "metadata": {},
   "source": [
    "(b) Muestra en una gráfica el comportamiento de las soluciones en el tiempo (i.e. grafica $x(t)$, $y(t)$ y $z(t)$)."
   ]
  },
  {
   "cell_type": "markdown",
   "metadata": {},
   "source": [
    "(c) Muestra como se ve el **atractor de Rössler** en 3D (i.e. en el espacio)."
   ]
  },
  {
   "cell_type": "markdown",
   "metadata": {},
   "source": [
    "## a)"
   ]
  },
  {
   "cell_type": "code",
   "execution_count": 177,
   "metadata": {},
   "outputs": [],
   "source": [
    "y = sympy.Symbol('y')\n",
    "z = sympy.Symbol('z')\n",
    "dt = sympy.Symbol('dt')\n",
    "a = sympy.Symbol('a')\n",
    "b = sympy.Symbol('b')\n",
    "c = sympy.Symbol('c')"
   ]
  },
  {
   "cell_type": "code",
   "execution_count": 189,
   "metadata": {},
   "outputs": [
    {
     "data": {
      "text/latex": [
       "$\\displaystyle - y - z$"
      ],
      "text/plain": [
       "-y - z"
      ]
     },
     "execution_count": 189,
     "metadata": {},
     "output_type": "execute_result"
    }
   ],
   "source": [
    "dx = -y -z\n",
    "dx"
   ]
  },
  {
   "cell_type": "code",
   "execution_count": 190,
   "metadata": {},
   "outputs": [
    {
     "data": {
      "text/latex": [
       "$\\displaystyle x + 0.13 y$"
      ],
      "text/plain": [
       "x + 0.13*y"
      ]
     },
     "execution_count": 190,
     "metadata": {},
     "output_type": "execute_result"
    }
   ],
   "source": [
    "dy = x + a*y\n",
    "dy"
   ]
  },
  {
   "cell_type": "code",
   "execution_count": 191,
   "metadata": {},
   "outputs": [
    {
     "data": {
      "text/latex": [
       "$\\displaystyle z \\left(x - 6.5\\right) + 0.2$"
      ],
      "text/plain": [
       "z*(x - 6.5) + 0.2"
      ]
     },
     "execution_count": 191,
     "metadata": {},
     "output_type": "execute_result"
    }
   ],
   "source": [
    "dz = b + z*(x-c)\n",
    "dz"
   ]
  },
  {
   "cell_type": "code",
   "execution_count": 193,
   "metadata": {},
   "outputs": [],
   "source": [
    "def RK2(y, t, dt, derivadas):\n",
    "    k0 = dt*derivadas(y, t)\n",
    "    k1 = dt*derivadas(y + k0, t + dt)\n",
    "    y_next = y + 0.5*(k0 + k1)\n",
    "    \n",
    "    return y_next"
   ]
  },
  {
   "cell_type": "code",
   "execution_count": 188,
   "metadata": {},
   "outputs": [],
   "source": [
    "a, b, c = 0.13, 0.2, 6.5"
   ]
  },
  {
   "cell_type": "code",
   "execution_count": null,
   "metadata": {},
   "outputs": [],
   "source": []
  }
 ],
 "metadata": {
  "kernelspec": {
   "display_name": "Python 3",
   "language": "python",
   "name": "python3"
  },
  "language_info": {
   "codemirror_mode": {
    "name": "ipython",
    "version": 3
   },
   "file_extension": ".py",
   "mimetype": "text/x-python",
   "name": "python",
   "nbconvert_exporter": "python",
   "pygments_lexer": "ipython3",
   "version": "3.8.5"
  }
 },
 "nbformat": 4,
 "nbformat_minor": 1
}
