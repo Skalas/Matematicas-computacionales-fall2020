{
 "cells": [
  {
   "cell_type": "markdown",
   "metadata": {},
   "source": [
    "# Examen"
   ]
  },
  {
   "cell_type": "markdown",
   "metadata": {},
   "source": [
    "#### Instrucciones"
   ]
  },
  {
   "cell_type": "markdown",
   "metadata": {},
   "source": [
    "- Crea en tu carpeta, un archivo llamado `examen` y pega el texto de las problemas en él (respeta el formato).\n",
    "\n",
    "- Contesta inmediatamente abajo del problema.\n",
    "\n",
    "- Gráficas en calidad profesional (pon ejes, unidades, colores, leyenda, etc.)\n",
    "\n",
    "- La ortografía, redacción y habilidades de comunicación se tomarán en cuenta."
   ]
  },
  {
   "cell_type": "markdown",
   "metadata": {},
   "source": [
    "### Problema 1"
   ]
  },
  {
   "cell_type": "markdown",
   "metadata": {},
   "source": [
    "(a) Usando `Simpy`, declara las funciones:\n",
    "$$\n",
    "y(x) = \\sin(x)\n",
    "$$\n",
    "\n",
    "$$\n",
    "z(x) = \\cos(x)\n",
    "$$\n",
    "\n",
    "$$\n",
    "w(x) = \\frac{1}{\\cos(x) + \\sin(2x)}\n",
    "$$\n",
    "\n",
    "(b) Obtén la derivada de $g(x)$\n",
    "\n",
    "$$\n",
    "g(x) = y(x)*z(x)\n",
    "$$\n",
    "\n",
    "(c) Grafica $w(x)$ en el rango $[0,1]$\n",
    "\n",
    "(d) Integra de manera indefinida $w(x)$ y luego evalúala desde $0$ a $1$.\n",
    "\n",
    "(e) ¿Cuál es el límite de $y(x), z(x), g(x)$ y $w(x)$ cuando $x \\to 0$.?\n",
    "\n",
    "(f) Expanda $y(x)$ y $z(x)$ hasta 3 orden en serie de Taylor."
   ]
  },
  {
   "cell_type": "markdown",
   "metadata": {},
   "source": [
    "Respuesta:(a)"
   ]
  },
  {
   "cell_type": "code",
   "execution_count": 54,
   "metadata": {},
   "outputs": [
    {
     "name": "stdout",
     "output_type": "stream",
     "text": [
      "La respuesta es 1.a es:\n"
     ]
    }
   ],
   "source": [
    "#Para representar las funciones utilice sympy, la cual me deja declarar funciones y simbolos\n",
    "#ademas de representarlos en latex. \n",
    "from sympy.interactive import printing\n",
    "printing.init_printing(use_latex=True)\n",
    "from sympy import * \n",
    "import sympy as sym\n",
    "\n",
    "x = sym.Symbol('x')\n",
    "y = sym.Function('y')\n",
    "z = sym.Function('z')\n",
    "w = sym.Function('w')\n",
    "\n",
    "print(\"La respuesta es 1.a es:\")\n",
    "y = sin(x)\n",
    "z = cos(x)\n",
    "w = 1/(z+sin(2*x))"
   ]
  },
  {
   "cell_type": "markdown",
   "metadata": {},
   "source": [
    "Respuesta:(b)"
   ]
  },
  {
   "cell_type": "code",
   "execution_count": 55,
   "metadata": {},
   "outputs": [
    {
     "name": "stdout",
     "output_type": "stream",
     "text": [
      "La respuesta es 1.b es:\n"
     ]
    },
    {
     "data": {
      "image/png": "[encoded data removed]",
      "text/latex": [
       "$\\displaystyle - \\sin^{2}{\\left(x \\right)} + \\cos^{2}{\\left(x \\right)}$"
      ],
      "text/plain": [
       "     2         2   \n",
       "- sin (x) + cos (x)"
      ]
     },
     "execution_count": 55,
     "metadata": {},
     "output_type": "execute_result"
    }
   ],
   "source": [
    "#En esta parte utilice la funcion diff, la cual recibe como argumento una funcion\n",
    "#y el simbolo x. De modo que la funcion es derivada respecto a este simbolo. \n",
    "g = sym.Function('g')\n",
    "g = y*z\n",
    "\n",
    "aux = diff(g,x)\n",
    "print(\"La respuesta es 1.b es:\")\n",
    "aux"
   ]
  },
  {
   "cell_type": "markdown",
   "metadata": {},
   "source": [
    "Respuesta:(c)"
   ]
  },
  {
   "cell_type": "code",
   "execution_count": 69,
   "metadata": {},
   "outputs": [
    {
     "data": {
      "image/png": "[encoded data removed]",
      "text/plain": [
       "<Figure size 432x288 with 1 Axes>"
      ]
     },
     "metadata": {
      "needs_background": "light"
     },
     "output_type": "display_data"
    }
   ],
   "source": [
    "#Aqui utilizo matplotlib, la X define un vector, el cual va a ser mi eje y el rango\n",
    "#donde quiero ver la funcion, en este caso es de [0,1]. En y declaro la funcion la cual\n",
    "#depende de los valores del vector X. Y por ultimo utilice la funcion de matplotlib, plot, \n",
    "#la cual genera una gracia sencilla, dandole ambos ejes.\n",
    "import matplotlib.pyplot as plt\n",
    "import numpy as np\n",
    "\n",
    "X = np.linspace(0,1,100, endpoint=True)\n",
    "Y = 1/(np.cos(X) + np.sin(2*X))\n",
    "plt.plot(X,Y);"
   ]
  },
  {
   "cell_type": "markdown",
   "metadata": {},
   "source": [
    "Respuesta:(d)"
   ]
  },
  {
   "cell_type": "code",
   "execution_count": 76,
   "metadata": {},
   "outputs": [
    {
     "name": "stdout",
     "output_type": "stream",
     "text": [
      "La respuesta es 1.d es:\n"
     ]
    },
    {
     "data": {
      "image/png": "[encoded data removed]",
      "text/latex": [
       "$\\displaystyle 0.45969769413186$"
      ],
      "text/plain": [
       "0.459697694131860"
      ]
     },
     "execution_count": 76,
     "metadata": {},
     "output_type": "execute_result"
    }
   ],
   "source": [
    "#Aqui utilice la funcion integrate, la cual requiere de una funcion y como segundo argumento\n",
    "#tengo un arrego de 3, en el cual tengo el simbolo y los dos argumentos que le siguen\n",
    "#son los valores de integración a evaluar\n",
    "sol = integrate(y,(x, 0, 1))\n",
    "print(\"La respuesta es 1.d es:\")\n",
    "sol.evalf()"
   ]
  },
  {
   "cell_type": "markdown",
   "metadata": {},
   "source": [
    "Respuesta:(e)"
   ]
  },
  {
   "cell_type": "code",
   "execution_count": 115,
   "metadata": {},
   "outputs": [
    {
     "name": "stdout",
     "output_type": "stream",
     "text": [
      "La respuesta es 1.d es: Lim y,Lim z, Lim w, Lim g todas con x -> 0\n",
      "0 1 1 0\n"
     ]
    }
   ],
   "source": [
    "#Para obtener los límites utilice la funcion limit,la cual tiene como primer argumento\n",
    "#la funcion a evaluar el limite, como segundo argumento el simbolo y por ultimo\n",
    "#el valor al que tiende el simbolo. Aplica para los limites de y,z,w,g\n",
    "l_y = limit(y,x,0) \n",
    "l_z = limit(z,x,0)\n",
    "l_w = limit(w,x,0)\n",
    "l_g = limit(g,x,0)\n",
    "print(\"La respuesta es 1.d es: Lim y,Lim z, Lim w, Lim g todas con x -> 0\")\n",
    "print(l_y,l_z,l_w,l_g)"
   ]
  },
  {
   "cell_type": "markdown",
   "metadata": {},
   "source": [
    "Respuesta:(f)"
   ]
  },
  {
   "cell_type": "code",
   "execution_count": 118,
   "metadata": {},
   "outputs": [
    {
     "name": "stdout",
     "output_type": "stream",
     "text": [
      "La respuesta es 1.d es:\n"
     ]
    }
   ],
   "source": [
    "#Para obtener la serie extendida, utilice la funcion series, la cual tiene como argumentos\n",
    "#el simbolo, el 0 en este caso esta indicando que este simbolo no va a tomar ningun valor\n",
    "#el otro argumento es el numero de factores hasta los que tengo que llegar. Aplica para la serie de cos y sin\n",
    "serie_sin = sin(x).series(x,0,6) \n",
    "serie_cos = cos(x).series(x,0,6)\n"
   ]
  },
  {
   "cell_type": "markdown",
   "metadata": {},
   "source": [
    "<div class=\"alert alert-info\">\n",
    "**NOTA** Muestra las expresiones en cada inciso.\n",
    "</div>"
   ]
  },
  {
   "cell_type": "markdown",
   "metadata": {},
   "source": [
    "### Problema 2"
   ]
  },
  {
   "cell_type": "markdown",
   "metadata": {},
   "source": [
    "El [**atractor de Rössler**](http://en.wikipedia.org/wiki/R%C3%B6ssler_attractor) esta descrito por el siguiente conjunto de ecuaciones:"
   ]
  },
  {
   "cell_type": "markdown",
   "metadata": {},
   "source": [
    "$$\n",
    "\\frac{dx}{dt} = -y -z\n",
    "$$\n",
    "\n",
    "$$\n",
    "\\frac{dy}{dt} = x + ay\n",
    "$$\n",
    "\n",
    "$$\n",
    "\\frac{dz}{dt} = b + z(x-c)\n",
    "$$"
   ]
  },
  {
   "cell_type": "markdown",
   "metadata": {},
   "source": [
    "(a) Resuelva las ecuaciones numéricamente para \n",
    "\n",
    "$$\n",
    "a=0.13 \\quad b=0.2 \\quad c=6.5 \n",
    "$$\n",
    "\n",
    "y condiciones iniciales\n",
    "\n",
    "$$\n",
    "x(0)=0 \\quad y(0)=0 \\quad z(0)=0 \n",
    "$$\n",
    "\n",
    "use el método de Runge-Kutta de 2do orden."
   ]
  },
  {
   "cell_type": "markdown",
   "metadata": {},
   "source": [
    "(b) Muestra en una gráfica el comportamiento de las soluciones en el tiempo (i.e. grafica $x(t)$, $y(t)$ y $z(t)$)."
   ]
  },
  {
   "cell_type": "markdown",
   "metadata": {},
   "source": [
    "(c) Muestra como se ve el **atractor de Rössler** en 3D (i.e. en el espacio)."
   ]
  },
  {
   "cell_type": "markdown",
   "metadata": {},
   "source": [
    "Respuesta:(a)"
   ]
  },
  {
   "cell_type": "code",
   "execution_count": 134,
   "metadata": {},
   "outputs": [
    {
     "name": "stderr",
     "output_type": "stream",
     "text": [
      "<ipython-input-134-51d0cf8a5b64>:10: VisibleDeprecationWarning: Creating an ndarray from ragged nested sequences (which is a list-or-tuple of lists-or-tuples-or ndarrays with different lengths or shapes) is deprecated. If you meant to do this, you must specify 'dtype=object' when creating the ndarray\n",
      "  estado = np.array([x,y,z])\n",
      "<ipython-input-134-51d0cf8a5b64>:57: VisibleDeprecationWarning: Creating an ndarray from ragged nested sequences (which is a list-or-tuple of lists-or-tuples-or ndarrays with different lengths or shapes) is deprecated. If you meant to do this, you must specify 'dtype=object' when creating the ndarray\n",
      "  return np.array([g0, g1, g2])\n"
     ]
    },
    {
     "ename": "ValueError",
     "evalue": "setting an array element with a sequence.",
     "output_type": "error",
     "traceback": [
      "\u001b[0;31m\u001b[0m",
      "\u001b[0;31mTypeError\u001b[0mTraceback (most recent call last)",
      "\u001b[0;31mTypeError\u001b[0m: only size-1 arrays can be converted to Python scalars",
      "\nThe above exception was the direct cause of the following exception:\n",
      "\u001b[0;31mValueError\u001b[0mTraceback (most recent call last)",
      "\u001b[0;32m<ipython-input-134-51d0cf8a5b64>\u001b[0m in \u001b[0;36m<module>\u001b[0;34m\u001b[0m\n\u001b[1;32m     80\u001b[0m \u001b[0mtiempo_inicial\u001b[0m \u001b[0;34m=\u001b[0m \u001b[0;36m0.0\u001b[0m\u001b[0;34m\u001b[0m\u001b[0;34m\u001b[0m\u001b[0m\n\u001b[1;32m     81\u001b[0m \u001b[0mtiempo_final\u001b[0m \u001b[0;34m=\u001b[0m \u001b[0;36m100.0\u001b[0m\u001b[0;34m\u001b[0m\u001b[0;34m\u001b[0m\u001b[0m\n\u001b[0;32m---> 82\u001b[0;31m \u001b[0mres\u001b[0m\u001b[0;34m.\u001b[0m\u001b[0mintegrate\u001b[0m\u001b[0;34m(\u001b[0m\u001b[0mN\u001b[0m\u001b[0;34m,\u001b[0m\u001b[0mtiempo_inicial\u001b[0m\u001b[0;34m,\u001b[0m\u001b[0mtiempo_final\u001b[0m\u001b[0;34m,\u001b[0m\u001b[0mRK2\u001b[0m\u001b[0;34m)\u001b[0m\u001b[0;34m\u001b[0m\u001b[0;34m\u001b[0m\u001b[0m\n\u001b[0m\u001b[1;32m     83\u001b[0m \u001b[0mres\u001b[0m\u001b[0;34m.\u001b[0m\u001b[0mplot\u001b[0m\u001b[0;34m(\u001b[0m\u001b[0;34m)\u001b[0m\u001b[0;34m\u001b[0m\u001b[0;34m\u001b[0m\u001b[0m\n",
      "\u001b[0;32m<ipython-input-134-51d0cf8a5b64>\u001b[0m in \u001b[0;36mintegrate\u001b[0;34m(self, num_steps, t_i, t_f, method)\u001b[0m\n\u001b[1;32m     66\u001b[0m \u001b[0;34m\u001b[0m\u001b[0m\n\u001b[1;32m     67\u001b[0m         \u001b[0;32mfor\u001b[0m \u001b[0mj\u001b[0m \u001b[0;32min\u001b[0m \u001b[0mrange\u001b[0m\u001b[0;34m(\u001b[0m\u001b[0mN\u001b[0m\u001b[0;34m-\u001b[0m\u001b[0;36m1\u001b[0m\u001b[0;34m)\u001b[0m\u001b[0;34m:\u001b[0m\u001b[0;34m\u001b[0m\u001b[0;34m\u001b[0m\u001b[0m\n\u001b[0;32m---> 68\u001b[0;31m             \u001b[0mself\u001b[0m\u001b[0;34m.\u001b[0m\u001b[0mtrajectory\u001b[0m\u001b[0;34m[\u001b[0m\u001b[0mj\u001b[0m\u001b[0;34m+\u001b[0m\u001b[0;36m1\u001b[0m\u001b[0;34m]\u001b[0m \u001b[0;34m=\u001b[0m \u001b[0mmethod\u001b[0m\u001b[0;34m(\u001b[0m\u001b[0mself\u001b[0m\u001b[0;34m.\u001b[0m\u001b[0mtrajectory\u001b[0m\u001b[0;34m[\u001b[0m\u001b[0mj\u001b[0m\u001b[0;34m]\u001b[0m\u001b[0;34m,\u001b[0m \u001b[0mself\u001b[0m\u001b[0;34m.\u001b[0m\u001b[0mtau\u001b[0m\u001b[0;34m[\u001b[0m\u001b[0mj\u001b[0m\u001b[0;34m]\u001b[0m\u001b[0;34m,\u001b[0m \u001b[0mself\u001b[0m\u001b[0;34m.\u001b[0m\u001b[0mdt\u001b[0m\u001b[0;34m,\u001b[0m \u001b[0mself\u001b[0m\u001b[0;34m.\u001b[0m\u001b[0mdynamics\u001b[0m\u001b[0;34m)\u001b[0m\u001b[0;34m\u001b[0m\u001b[0;34m\u001b[0m\u001b[0m\n\u001b[0m\u001b[1;32m     69\u001b[0m \u001b[0;34m\u001b[0m\u001b[0m\n\u001b[1;32m     70\u001b[0m \u001b[0;32mdef\u001b[0m \u001b[0mRK2\u001b[0m\u001b[0;34m(\u001b[0m\u001b[0my\u001b[0m\u001b[0;34m,\u001b[0m \u001b[0mt\u001b[0m\u001b[0;34m,\u001b[0m \u001b[0mdt\u001b[0m\u001b[0;34m,\u001b[0m \u001b[0mderivadas\u001b[0m\u001b[0;34m)\u001b[0m\u001b[0;34m:\u001b[0m\u001b[0;34m\u001b[0m\u001b[0;34m\u001b[0m\u001b[0m\n",
      "\u001b[0;31mValueError\u001b[0m: setting an array element with a sequence."
     ]
    }
   ],
   "source": [
    "#Esto es la respuesta A\n",
    "import numpy as np\n",
    "import matplotlib.pyplot as plt\n",
    "N = 100\n",
    "tiempo_in = 0.0\n",
    "tiempo_fin = 40.0\n",
    "tau = 4.0\n",
    "dt = tau/(float)(N-1) \n",
    "t = np.linspace(0, tau, num=N)\n",
    "y = np.zeros([N,3])\n",
    "estado = np.array([x,y,z])\n",
    "a=0.13\n",
    "b=0.2\n",
    "c=6.5\n",
    "y[0,0] = 0.0\n",
    "y[0,1] = 0.0\n",
    "y[0,2] = 0.0\n",
    "class atractor:\n",
    "    \n",
    "    def __init__(self, a, b, c):\n",
    "        self.a = a\n",
    "        self.b = b\n",
    "        self.c = c\n",
    "\n",
    "    def fun_x(self):\n",
    "        return self.trajectory[:,0]\n",
    "    \n",
    "    def fun_y(self):\n",
    "        return self.trajectory[:,1]\n",
    "    def fun_z(self):\n",
    "        return self.trajectory[:,2]\n",
    "    \n",
    "    def plot(self):\n",
    "        fig, ax = plt.subplots(3,1, figsize=(10,8), sharex = True)\n",
    "\n",
    "        ax[0].plot(self.tau, self.fun_x(), label=\"Funcion x\", color=\"blue\")\n",
    "        ax[1].plot(self.tau, self.fun_y(), label=\"Funcion y\", color=\"green\")\n",
    "        ax[2].plot(self.tau, self.fun_z(), label=\"Funcion z\", color=\"red\")\n",
    "\n",
    "        ax[0].set_ylabel(\"Funcion x\")\n",
    "        ax[0].set_xlabel(\"tiempo (s)\")\n",
    "\n",
    "        ax[0].set_ylabel(\"Funcion y\")\n",
    "        ax[0].set_xlabel(\"tiempo (s)\")\n",
    "\n",
    "        ax[0].set_ylabel(\"Funcion z\")\n",
    "        ax[0].set_xlabel(\"tiempo (s)\")\n",
    "    \n",
    "    def initial_conditions(self, x_i, y_i, z_i):\n",
    "        self.x_i = x_i\n",
    "        self.y_i = y_i\n",
    "        self.z_i = z_i\n",
    "        \n",
    "    def dynamics(self, state, t):\n",
    "        g0 = -estado[1] -estado[2]\n",
    "        g1 = estado[0] + a*estado[1]\n",
    "        g2 = b + estado[2]*(estado[0]-c)\n",
    "        return np.array([g0, g1, g2])\n",
    "        \n",
    "    def integrate(self, num_steps, t_i, t_f, method):\n",
    "        \n",
    "        self.tau, self.dt = np.linspace(t_i, t_f, num=num_steps, retstep=True)\n",
    "        self.trajectory = np.zeros([num_steps, 3])\n",
    "        self.trajectory[0,0] = self.x_i\n",
    "        self.trajectory[0,1] = self.y_i\n",
    "        self.trajectory[0,2] = self.z_i\n",
    "        \n",
    "        for j in range(N-1):\n",
    "            self.trajectory[j+1] = method(self.trajectory[j], self.tau[j], self.dt, self.dynamics)        \n",
    "\n",
    "def RK2(y, t, dt, derivadas):\n",
    "    k0 = dt*derivadas(y, t)\n",
    "    k1 = dt*derivadas(y + k0, t + dt)\n",
    "    y_next = y + 0.5*(k0 + k1)\n",
    "    \n",
    "    return y_next\n",
    "\n",
    "res = atractor(a,b,c)\n",
    "res.initial_conditions(0,0,0)\n",
    "N = 100\n",
    "tiempo_inicial = 0.0\n",
    "tiempo_final = 100.0\n",
    "res.integrate(N,tiempo_inicial,tiempo_final,RK2)\n",
    "\n",
    "#Esto deberia ser la respuesta B PERO no me corrio el A :(\n",
    "res.plot()\n"
   ]
  },
  {
   "cell_type": "code",
   "execution_count": null,
   "metadata": {},
   "outputs": [],
   "source": []
  }
 ],
 "metadata": {
  "kernelspec": {
   "display_name": "Python 3",
   "language": "python",
   "name": "python3"
  },
  "language_info": {
   "codemirror_mode": {
    "name": "ipython",
    "version": 3
   },
   "file_extension": ".py",
   "mimetype": "text/x-python",
   "name": "python",
   "nbconvert_exporter": "python",
   "pygments_lexer": "ipython3",
   "version": "3.8.5"
  }
 },
 "nbformat": 4,
 "nbformat_minor": 1
}
