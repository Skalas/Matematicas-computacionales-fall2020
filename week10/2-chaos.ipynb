{
 "cells": [
  {
   "cell_type": "markdown",
   "metadata": {},
   "source": [
    "# Caos en sistemas contínuos"
   ]
  },
  {
   "cell_type": "code",
   "execution_count": null,
   "metadata": {},
   "outputs": [],
   "source": [
    "from numpy import sin, cos\n",
    "import numpy as np\n",
    "import matplotlib.pyplot as plt\n",
    "import scipy.integrate as integrate\n",
    "import matplotlib.animation as animation\n",
    "from IPython.display import YouTubeVideo\n",
    "#%pylab inline"
   ]
  },
  {
   "cell_type": "code",
   "execution_count": null,
   "metadata": {},
   "outputs": [],
   "source": [
    "# El código siguiente recarga (reloads) las rutinas externas cada vez que el código cambia (es útil para \"debuggear\" código externo)\n",
    "\n",
    "%load_ext autoreload\n",
    "%autoreload 2"
   ]
  },
  {
   "cell_type": "code",
   "execution_count": null,
   "metadata": {},
   "outputs": [],
   "source": [
    "from utils import normalizeRads, normalizeAngle"
   ]
  },
  {
   "cell_type": "markdown",
   "metadata": {},
   "source": [
    "##### Bibliografía de soporte"
   ]
  },
  {
   "cell_type": "markdown",
   "metadata": {},
   "source": [
    "- Una buena referencia para como deducir las ecuaciones de movimiento es: [**Single and Double Pendulum** de _Gabriela González_](http://www.phys.lsu.edu/faculty/gonzalez/Teaching/Phys7221/DoublePendulum.pdf)."
   ]
  },
  {
   "cell_type": "markdown",
   "metadata": {},
   "source": [
    "### La vida real"
   ]
  },
  {
   "cell_type": "code",
   "execution_count": null,
   "metadata": {},
   "outputs": [],
   "source": [
    "YouTubeVideo(\"AwT0k09w-jw\")"
   ]
  },
  {
   "cell_type": "markdown",
   "metadata": {},
   "source": [
    "## El péndulo simple"
   ]
  },
  {
   "cell_type": "markdown",
   "metadata": {},
   "source": [
    "<img src=\"http://upload.wikimedia.org/wikipedia/commons/thumb/1/11/Simple_pendulum_height.svg/250px-Simple_pendulum_height.svg.png\" width=\"200\" height=\"200\">"
   ]
  },
  {
   "cell_type": "markdown",
   "metadata": {},
   "source": [
    "<div class=\"alert alert-warning\"> Imagen cortesía de Wikipedia</div>"
   ]
  },
  {
   "cell_type": "markdown",
   "metadata": {},
   "source": [
    "### Ecuación de movimiento"
   ]
  },
  {
   "cell_type": "markdown",
   "metadata": {},
   "source": [
    "$$\n",
    "\\ddot{\\theta} = -\\frac{g}{l}\\sin\\theta\n",
    "$$"
   ]
  },
  {
   "cell_type": "markdown",
   "metadata": {},
   "source": [
    "#### Análisis dimensional"
   ]
  },
  {
   "cell_type": "markdown",
   "metadata": {},
   "source": [
    "Un análisis poderoso (no numérico o computacional) que es bueno introducir aquí, es el [_análisis dimensional_](http://en.wikipedia.org/wiki/Dimensional_analysis). No lo vamos a explotar en su totalidad, pero lo usaremos para comprobar la validez de las ecuaciones de movimiento."
   ]
  },
  {
   "cell_type": "markdown",
   "metadata": {},
   "source": [
    "Si las ecuaciones son correctas, ambos lados de la ecuación deben de tener las mismas unidades. Las unidades fundamentales son **longitud**, $[L]$, **masa**, $[M]$ y **tiempo** $[T]$."
   ]
  },
  {
   "cell_type": "markdown",
   "metadata": {},
   "source": [
    "Empezando por el lado izquierdo, $g$ es la aceleración de la gravedad y tiene unidades de $m/s^2$ que en unidades fundamentales es:\n",
    "\n",
    "$$\n",
    "[g] = \\left[\\frac{L}{T^2}\\right]\n",
    "$$\n",
    "\n",
    "Así mismo, la longitud del péndulo, $l$, tiene unidades de $m$ $\\to$ \n",
    "\n",
    "$$\n",
    "[l] = [L]\n",
    "$$\n",
    "\n",
    "y $\\theta$ es adimensional. Por lo tanto el **rhs** tiene unidades de \n",
    "\n",
    "$$\n",
    "[rhs] = [T^{-2}]\n",
    "$$"
   ]
  },
  {
   "cell_type": "markdown",
   "metadata": {},
   "source": [
    "Por su parte el **lhs**, $\\theta$ como vimos es adimensional, pero está derivada respecto al tiempo, entonces,\n",
    "\n",
    "$$\n",
    "\\left[\\frac{d}{dt^2}\\right] = \\left[\\frac{1}{T^2}\\right]\n",
    "$$\n",
    "\n",
    "con lo cual se establece la igualdad de unidades, dándonos así un indicador de que al menos _no están tan mal_."
   ]
  },
  {
   "cell_type": "markdown",
   "metadata": {},
   "source": [
    "<div class=\"alert alert-warning\">\n",
    "    \n",
    "**Nota** El análisis dimensional es muy poderoso aunque con limitaciones. Usalo siempre que puedas para verificar tu trabajo.\n",
    "</div>"
   ]
  },
  {
   "cell_type": "markdown",
   "metadata": {},
   "source": [
    "### Energía"
   ]
  },
  {
   "cell_type": "markdown",
   "metadata": {},
   "source": [
    "La energía total, $E$, se descompone en energía cinética, $K$ y energía potencial $U$."
   ]
  },
  {
   "cell_type": "markdown",
   "metadata": {},
   "source": [
    "$$\n",
    "E = K + U\n",
    "$$"
   ]
  },
  {
   "cell_type": "markdown",
   "metadata": {},
   "source": [
    "La energía potencial depende de la posición en el campo gravitacional\n",
    "\n",
    "$$\n",
    "U = - m g y\n",
    "$$\n",
    "\n",
    "\n",
    "$$\n",
    "U = - m g l \\sin\\theta\n",
    "$$"
   ]
  },
  {
   "cell_type": "markdown",
   "metadata": {},
   "source": [
    "Y la energía cinética\n",
    "\n",
    "$$\n",
    "K = \\frac{1}{2} m v^2\n",
    "$$\n",
    "\n",
    "$$\n",
    "K = \\frac{1}{2} m \\left [ \\dot{x}^2 + \\dot{y}^2 \\right ]\n",
    "$$\n",
    "\n",
    "$$\n",
    "K = \\frac{1}{2} m l \\dot{\\theta}^2\n",
    "$$"
   ]
  },
  {
   "cell_type": "markdown",
   "metadata": {},
   "source": [
    "Así,\n",
    "\n",
    "$$\n",
    "E = \\frac{1}{2} m l \\dot{\\theta}^2 - m g l \\sin\\theta\n",
    "$$"
   ]
  },
  {
   "cell_type": "markdown",
   "metadata": {},
   "source": [
    "<div class=\"alert alert-info\">\n",
    "    \n",
    "**Ejercicio** Revisa las ecuaciones con análisis dimensional y verifica que sean correctas\n",
    "</div>"
   ]
  },
  {
   "cell_type": "markdown",
   "metadata": {},
   "source": [
    "### Animación"
   ]
  },
  {
   "cell_type": "code",
   "execution_count": null,
   "metadata": {},
   "outputs": [],
   "source": [
    "from pendulo import Pendulo\n",
    "from IPython.display import HTML"
   ]
  },
  {
   "cell_type": "code",
   "execution_count": null,
   "metadata": {},
   "outputs": [],
   "source": [
    "pendulo = Pendulo(estado_inicial=[np.pi/2, 0])\n",
    "fps = 30 "
   ]
  },
  {
   "cell_type": "code",
   "execution_count": null,
   "metadata": {},
   "outputs": [],
   "source": [
    "HTML(pendulo.animar(1./fps).to_html5_video())"
   ]
  },
  {
   "cell_type": "markdown",
   "metadata": {},
   "source": [
    "### Análisis Gráfico"
   ]
  },
  {
   "cell_type": "code",
   "execution_count": null,
   "metadata": {},
   "outputs": [],
   "source": [
    "pendulo.integrate()"
   ]
  },
  {
   "cell_type": "code",
   "execution_count": null,
   "metadata": {},
   "outputs": [],
   "source": [
    "pendulo.plot()"
   ]
  },
  {
   "cell_type": "code",
   "execution_count": null,
   "metadata": {},
   "outputs": [],
   "source": [
    "pendulo.phase_space()"
   ]
  },
  {
   "cell_type": "code",
   "execution_count": null,
   "metadata": {},
   "outputs": [],
   "source": [
    "pendulo.xy_snapshot()"
   ]
  },
  {
   "cell_type": "markdown",
   "metadata": {},
   "source": [
    "### Sensibilidad a condiciones iniciales"
   ]
  },
  {
   "cell_type": "code",
   "execution_count": null,
   "metadata": {},
   "outputs": [],
   "source": [
    "pendulo1 = Pendulo([np.pi/2, 3.], longitud= 0.7)\n",
    "pendulo1.integrate()\n",
    "pendulo2 = Pendulo([np.pi/2, 3.0001], longitud= 0.7)\n",
    "pendulo2.integrate()\n",
    "pendulo3 = Pendulo([np.pi/2, 3.0002], longitud= 0.7)\n",
    "pendulo3.integrate()"
   ]
  },
  {
   "cell_type": "code",
   "execution_count": null,
   "metadata": {},
   "outputs": [],
   "source": [
    "fig, ax = plt.subplots(3,1, figsize=(10,8), sharex = True)\n",
    "\n",
    "ax[0].plot(pendulo1.tau, pendulo1.theta())\n",
    "ax[1].plot(pendulo2.tau, pendulo2.theta())\n",
    "ax[2].plot(pendulo3.tau, pendulo3.theta())\n",
    "\n",
    "plt.show()"
   ]
  },
  {
   "cell_type": "markdown",
   "metadata": {},
   "source": [
    "#### Evolución en el tiempo de la diferencia entre los ángulos"
   ]
  },
  {
   "cell_type": "code",
   "execution_count": null,
   "metadata": {},
   "outputs": [],
   "source": [
    "delta_theta = abs(pendulo1.theta() - pendulo2.theta())"
   ]
  },
  {
   "cell_type": "code",
   "execution_count": null,
   "metadata": {},
   "outputs": [],
   "source": [
    "plt.figure(1, figsize=(8,6))\n",
    "plt.plot(pendulo1.tau, np.log(delta_theta))\n",
    "plt.show()"
   ]
  },
  {
   "cell_type": "markdown",
   "metadata": {},
   "source": [
    "## El péndulo doble"
   ]
  },
  {
   "cell_type": "markdown",
   "metadata": {},
   "source": [
    "<img src=\"http://upload.wikimedia.org/wikipedia/commons/thumb/7/78/Double-Pendulum.svg/2000px-Double-Pendulum.svg.png\" width=\"200\" height=\"200\">"
   ]
  },
  {
   "cell_type": "markdown",
   "metadata": {},
   "source": [
    "<div class=\"alert alert-warning\"> Imagen cortesía de Wikipedia</div>"
   ]
  },
  {
   "cell_type": "markdown",
   "metadata": {},
   "source": [
    "### Ecuaciones de movimiento"
   ]
  },
  {
   "cell_type": "markdown",
   "metadata": {},
   "source": [
    "$$\n",
    "(m_1 + m_2)L_1\\ddot{\\theta_1} + m_2 L_2 \\ddot{\\theta_2} \\cos(\\theta_2 -\\theta_1) = m_2 L_2 \\dot{\\theta_2}^2\\sin(\\theta_2 - \\theta_1) - (m_1+m_2) g \\sin \\theta_1\n",
    "$$\n",
    "\n",
    "$$\n",
    "L_2 \\ddot{\\theta_2}  + L_1\\ddot{\\theta_1}\\cos(\\theta_2 - \\theta_1) = - L_1 \\dot{\\theta_1}^2\\sin(\\theta_2 - \\theta_1) - g \\sin\\theta_2\n",
    "$$"
   ]
  },
  {
   "cell_type": "markdown",
   "metadata": {},
   "source": [
    "<div class=\"alert alert-info\">\n",
    "    \n",
    "**Ejercicio** Revisa las ecuaciones con análisis dimensional y verifica que sean correctas\n",
    "</div>"
   ]
  },
  {
   "cell_type": "markdown",
   "metadata": {},
   "source": [
    "<div class=\"alert alert-info\">\n",
    "    \n",
    "**Ejercicio** Intenten escribir como una ecuación de primer grado. \n",
    "</div>"
   ]
  },
  {
   "cell_type": "markdown",
   "metadata": {},
   "source": [
    "<div class=\"alert alert-warning\">\n",
    "    \n",
    "**Nota** El truco se puede ver [aquí](http://rotations.berkeley.edu/?page_id=163)\n",
    "</div>"
   ]
  },
  {
   "cell_type": "markdown",
   "metadata": {},
   "source": [
    "### Energía"
   ]
  },
  {
   "cell_type": "markdown",
   "metadata": {},
   "source": [
    "La energía potencial es:\n",
    "\n",
    "$$\n",
    "V = - m_1gy_1 - m_2gy_2\n",
    "$$\n",
    "\n",
    "$$\n",
    "V = - (m_1 + m_2 )g L_1 \\cos\\theta_1  - m_2 g L_2 \\cos\\theta_2\n",
    "$$"
   ]
  },
  {
   "cell_type": "markdown",
   "metadata": {},
   "source": [
    "La energía cinética es:\n",
    "\n",
    "$$\n",
    "K = \\frac{1}{2} m_1 v_1^2 + \\frac{1}{2} m_2 v_2^2\n",
    "$$\n",
    "\n",
    "$$\n",
    "K = \\frac{1}{2} m_1 L_1^2 \\dot{\\theta_1}^2 + \\frac{1}{2}m_2\\left[L_1^2\\dot{\\theta_1}^2 + L_2^2\\dot{\\theta_2}^2 + 2 L_1 L_2 \\dot{\\theta_1} \\dot{\\theta_2} \\cos\\left(\\theta_1 - \\theta_2\\right)\\right] \n",
    "$$\n",
    "\n",
    "Finalmente la energía total, $E$, es\n",
    "\n",
    "$$\n",
    "E = K + V\n",
    "$$"
   ]
  },
  {
   "cell_type": "markdown",
   "metadata": {},
   "source": [
    "### Animación"
   ]
  },
  {
   "cell_type": "code",
   "execution_count": null,
   "metadata": {},
   "outputs": [],
   "source": [
    "from pendulo_doble import PenduloDoble"
   ]
  },
  {
   "cell_type": "code",
   "execution_count": null,
   "metadata": {},
   "outputs": [],
   "source": [
    "d_pendulo = PenduloDoble()\n",
    "fps = 30 "
   ]
  },
  {
   "cell_type": "code",
   "execution_count": null,
   "metadata": {},
   "outputs": [],
   "source": [
    "HTML(d_pendulo.animar(1./fps).to_html5_video())\n"
   ]
  },
  {
   "cell_type": "markdown",
   "metadata": {},
   "source": [
    "### Análisis gráfico"
   ]
  },
  {
   "cell_type": "code",
   "execution_count": null,
   "metadata": {},
   "outputs": [],
   "source": [
    "d_pendulo = PenduloDoble()\n",
    "d_pendulo.integrate(t_f=100)"
   ]
  },
  {
   "cell_type": "code",
   "execution_count": null,
   "metadata": {},
   "outputs": [],
   "source": [
    "d_pendulo.plot()"
   ]
  },
  {
   "cell_type": "code",
   "execution_count": null,
   "metadata": {},
   "outputs": [],
   "source": [
    "d_pendulo.xy_snapshot()"
   ]
  },
  {
   "cell_type": "code",
   "execution_count": null,
   "metadata": {},
   "outputs": [],
   "source": [
    "d_pendulo.phase_space()"
   ]
  },
  {
   "cell_type": "markdown",
   "metadata": {},
   "source": [
    "## Sensibilidad a condiciones iniciales"
   ]
  },
  {
   "cell_type": "code",
   "execution_count": null,
   "metadata": {},
   "outputs": [],
   "source": [
    "d_pendulo1 = PenduloDoble([np.pi, 0.,0., 3.], L1= 0.7, L2=0.7)\n",
    "d_pendulo1.integrate()\n",
    "d_pendulo2 = PenduloDoble([np.pi, 0.,0., 3.0001], L1= 0.7, L2=0.7)\n",
    "d_pendulo2.integrate()\n",
    "d_pendulo3 = PenduloDoble([np.pi, 0.,0., 3.0002], L1= 0.7, L2=0.7)\n",
    "d_pendulo3.integrate()"
   ]
  },
  {
   "cell_type": "code",
   "execution_count": null,
   "metadata": {},
   "outputs": [],
   "source": [
    "fig, ax = plt.subplots(3,1, figsize=(10,8), sharex = True)\n",
    "\n",
    "ax[0].plot(d_pendulo1.tau, d_pendulo1.theta(), label=\"theta\", color=\"blue\")\n",
    "ax[1].plot(d_pendulo2.tau, d_pendulo2.theta(), label=\"omega\", color=\"green\")\n",
    "ax[2].plot(d_pendulo3.tau, d_pendulo3.theta(), color='red', label=\"Energia\")\n",
    "\n",
    "plt.show()"
   ]
  },
  {
   "cell_type": "markdown",
   "metadata": {},
   "source": [
    "#### Evolución en el tiempo de la diferencia entre los ángulos"
   ]
  },
  {
   "cell_type": "code",
   "execution_count": null,
   "metadata": {},
   "outputs": [],
   "source": [
    "delta_theta = abs(d_pendulo1.theta() - d_pendulo2.theta())"
   ]
  },
  {
   "cell_type": "code",
   "execution_count": null,
   "metadata": {},
   "outputs": [],
   "source": [
    "plt.figure(1, figsize=(8,6))\n",
    "plt.plot(d_pendulo1.tau, np.log(delta_theta))\n",
    "plt.show()"
   ]
  },
  {
   "cell_type": "markdown",
   "metadata": {},
   "source": [
    "### Sensibilidad ante las condiciones iniciales: Animación"
   ]
  },
  {
   "cell_type": "code",
   "execution_count": null,
   "metadata": {},
   "outputs": [],
   "source": [
    "d_pendulo1 = PenduloDoble([4, 0.,3., 0.], M1=0.5, M2=1., L1= 1., L2=0.5)\n",
    "d_pendulo2 = PenduloDoble([4, 0.,3.00000003, 0.], M1=0.5, M2=1., L1= 1., L2=0.5)\n",
    "d_pendulo3 = PenduloDoble([4, 0.,3.00000004, 0.], M1=0.5, M2=1., L1= 1., L2=0.5)\n",
    "\n",
    "dt = 1./30\n",
    "\n",
    "fig = plt.figure()\n",
    "ax = fig.add_subplot(111, aspect='equal', autoscale_on=False,\n",
    "                     xlim=(-2, 2), ylim=(-2, 2))\n",
    "\n",
    "ax.grid()\n",
    "\n",
    "line1, = ax.plot([], [], 'o-', lw=2, color=\"red\", alpha=0.5)\n",
    "line2, = ax.plot([], [], 'o-', lw=2, color=\"blue\", alpha=0.3)\n",
    "line3, = ax.plot([], [], 'o-', lw=2, color=\"green\", alpha=0.3)\n",
    "time_text = ax.text(0.02, 0.95, '', transform=ax.transAxes)\n",
    "#energy_text = ax.text(0.02, 0.90, '', transform=ax.transAxes)\n",
    "\n",
    "def init():\n",
    "    \"\"\"initialize animation\"\"\"\n",
    "    line1.set_data([], [])\n",
    "    line2.set_data([], [])\n",
    "    line3.set_data([], [])\n",
    "    time_text.set_text('')\n",
    "#    energy_text.set_text('')\n",
    "    return line1, line2, line3, time_text#, energy_text\n",
    "\n",
    "def animate(i):\n",
    "    \"\"\"perform animation step\"\"\"\n",
    "    global d_pendulo1, d_pendulo2, dt\n",
    "    d_pendulo1.step(dt)\n",
    "    d_pendulo2.step(dt)\n",
    "    d_pendulo3.step(dt)\n",
    "\n",
    "    line1.set_data(*d_pendulo1.posicion())\n",
    "    line2.set_data(*d_pendulo2.posicion())\n",
    "    line3.set_data(*d_pendulo3.posicion())\n",
    "    time_text.set_text('time = %.1f' % d_pendulo1.time_elapsed)\n",
    "    #energy_text.set_text('energy = %.3f J' % self.energia())\n",
    "    return line1, line2, line3, time_text #, energy_text\n",
    "\n",
    "from time import time\n",
    "t0 = time()\n",
    "animate(0)\n",
    "t1 = time()\n",
    "interval = 1000 * dt - (t1 - t0)\n",
    "\n",
    "ani = animation.FuncAnimation(fig, animate, frames=300,\n",
    "                              interval=interval, blit=True, init_func=init)\n",
    "\n",
    "HTML(ani.to_html5_video())"
   ]
  },
  {
   "cell_type": "code",
   "execution_count": null,
   "metadata": {},
   "outputs": [],
   "source": [
    "%cat pendulo.py"
   ]
  },
  {
   "cell_type": "code",
   "execution_count": null,
   "metadata": {},
   "outputs": [],
   "source": [
    "%cat doble_pendulo.py"
   ]
  },
  {
   "cell_type": "code",
   "execution_count": null,
   "metadata": {},
   "outputs": [],
   "source": []
  }
 ],
 "metadata": {
  "kernelspec": {
   "display_name": "Python 3",
   "language": "python",
   "name": "python3"
  },
  "language_info": {
   "codemirror_mode": {
    "name": "ipython",
    "version": 3
   },
   "file_extension": ".py",
   "mimetype": "text/x-python",
   "name": "python",
   "nbconvert_exporter": "python",
   "pygments_lexer": "ipython3",
   "version": "3.7.6"
  }
 },
 "nbformat": 4,
 "nbformat_minor": 1
}
